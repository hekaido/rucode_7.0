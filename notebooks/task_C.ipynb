{
 "cells": [
  {
   "cell_type": "markdown",
   "id": "f25ef914",
   "metadata": {},
   "source": [
    "### Data descritpion\n",
    "- **region** - *уровень федерального округа*\n",
    "- region_type - *тип федерального округа*\n",
    "---\n",
    "- **municipality** - *уровень муниципального округа*\n",
    "- municipality_type - *тип уровня муниципального округа*\n",
    "---\n",
    "- **settlement** - *уровень населенного пункта*\n",
    "- settlement_type - *тип уровня населенного пункта*\n",
    "---\n",
    "- **location** - *уровень локации*\n",
    "- location_type - *тип уровня локации*\n",
    "---\n",
    "- **street** - *уровень улицы*\n",
    "- street_type - *тип уровня улицы*\n",
    "---\n",
    "- **house** - *уровень дома*\n",
    "---\n",
    "- **source** - *код источника данных об адресе 1 - ФИАС 2 - Почта России*"
   ]
  },
  {
   "cell_type": "code",
   "execution_count": 5,
   "id": "49017ba0",
   "metadata": {},
   "outputs": [],
   "source": [
    "import pandas as pd\n",
    "from tqdm import tqdm\n",
    "tqdm.pandas()\n",
    "TRAIN_PATH = '../C/Datasets_RuCode_adresses_train_test/addresses-train.csv'\n",
    "TEST_PATH = '../C/Datasets_RuCode_adresses_train_test/addresses-test.csv'\n",
    "SAMPLE_SUB_PATH = '../C/Datasets_RuCode_adresses_train_test/addresses-sample_sub.csv'"
   ]
  },
  {
   "cell_type": "code",
   "execution_count": 6,
   "id": "04cb7448",
   "metadata": {},
   "outputs": [],
   "source": [
    "#full df size\n",
    "df_shape = [15337320, 13]"
   ]
  },
  {
   "cell_type": "code",
   "execution_count": 7,
   "id": "43bb2488",
   "metadata": {},
   "outputs": [
    {
     "data": {
      "text/plain": [
       "0.09996805178479683"
      ]
     },
     "execution_count": 7,
     "metadata": {},
     "output_type": "execute_result"
    }
   ],
   "source": [
    "import pandas\n",
    "import random\n",
    "\n",
    "p = 0.1  #% of the lines\n",
    "# keep the header, then take only 1% of lines\n",
    "# if random from [0, 1] interval is greater than % the row will be skipped\n",
    "df = pd.read_csv(\n",
    "         TRAIN_PATH,\n",
    "         header=0, \n",
    "         encoding='windows-1251', \n",
    "         skiprows = lambda i: i > 0 and random.random() > p\n",
    ")\n",
    "\n",
    "df.shape[0] / df_shape[0]"
   ]
  },
  {
   "cell_type": "code",
   "execution_count": 8,
   "id": "2a9c96d7",
   "metadata": {},
   "outputs": [
    {
     "name": "stdout",
     "output_type": "stream",
     "text": [
      "<class 'pandas.core.frame.DataFrame'>\n",
      "RangeIndex: 1533242 entries, 0 to 1533241\n",
      "Data columns (total 13 columns):\n",
      " #   Column             Non-Null Count    Dtype \n",
      "---  ------             --------------    ----- \n",
      " 0   address            1533242 non-null  object\n",
      " 1   region             1533242 non-null  object\n",
      " 2   region_type        1533242 non-null  object\n",
      " 3   municipality       909104 non-null   object\n",
      " 4   municipality_type  909104 non-null   object\n",
      " 5   settlement         1475667 non-null  object\n",
      " 6   settlement_type    1475667 non-null  object\n",
      " 7   location           343808 non-null   object\n",
      " 8   location_type      343808 non-null   object\n",
      " 9   street             1277378 non-null  object\n",
      " 10  street_type        1277378 non-null  object\n",
      " 11  house              1533242 non-null  object\n",
      " 12  source             1533242 non-null  int64 \n",
      "dtypes: int64(1), object(12)\n",
      "memory usage: 152.1+ MB\n"
     ]
    }
   ],
   "source": [
    "df.info()"
   ]
  },
  {
   "cell_type": "code",
   "execution_count": 5,
   "id": "c3b7802b",
   "metadata": {},
   "outputs": [
    {
     "data": {
      "text/plain": [
       "\"for idx in range(len(df)):\\n    if df.iloc[idx]['address'].count(';') != 6:\\n        print('Not all addresses has 6 semicolons')\\n        break\\nprint('All addresses has 6 semicolons!')\""
      ]
     },
     "execution_count": 5,
     "metadata": {},
     "output_type": "execute_result"
    }
   ],
   "source": [
    "'''for idx in range(len(df)):\n",
    "    if df.iloc[idx]['address'].count(';') != 6:\n",
    "        print('Not all addresses has 6 semicolons')\n",
    "        break\n",
    "print('All addresses has 6 semicolons!')'''"
   ]
  },
  {
   "cell_type": "code",
   "execution_count": 11,
   "id": "9da350b3",
   "metadata": {},
   "outputs": [
    {
     "ename": "ModuleNotFoundError",
     "evalue": "No module named 'src'",
     "output_type": "error",
     "traceback": [
      "\u001B[1;31m---------------------------------------------------------------------------\u001B[0m",
      "\u001B[1;31mModuleNotFoundError\u001B[0m                       Traceback (most recent call last)",
      "Cell \u001B[1;32mIn[11], line 1\u001B[0m\n\u001B[1;32m----> 1\u001B[0m \u001B[38;5;28;01mfrom\u001B[39;00m \u001B[38;5;21;01msrc\u001B[39;00m\u001B[38;5;21;01m.\u001B[39;00m\u001B[38;5;21;01mutils\u001B[39;00m\u001B[38;5;21;01m.\u001B[39;00m\u001B[38;5;21;01maddress_utils\u001B[39;00m \u001B[38;5;28;01mimport\u001B[39;00m make_chunks\n",
      "\u001B[1;31mModuleNotFoundError\u001B[0m: No module named 'src'"
     ]
    }
   ],
   "source": [
    "from src.utils.address_utils import make_chunks"
   ]
  },
  {
   "cell_type": "code",
   "execution_count": 6,
   "id": "68436bac",
   "metadata": {},
   "outputs": [
    {
     "data": {
      "text/html": [
       "<div>\n",
       "<style scoped>\n",
       "    .dataframe tbody tr th:only-of-type {\n",
       "        vertical-align: middle;\n",
       "    }\n",
       "\n",
       "    .dataframe tbody tr th {\n",
       "        vertical-align: top;\n",
       "    }\n",
       "\n",
       "    .dataframe thead th {\n",
       "        text-align: right;\n",
       "    }\n",
       "</style>\n",
       "<table border=\"1\" class=\"dataframe\">\n",
       "  <thead>\n",
       "    <tr style=\"text-align: right;\">\n",
       "      <th></th>\n",
       "      <th>address</th>\n",
       "      <th>region</th>\n",
       "      <th>region_type</th>\n",
       "      <th>municipality</th>\n",
       "      <th>municipality_type</th>\n",
       "      <th>settlement</th>\n",
       "      <th>settlement_type</th>\n",
       "      <th>location</th>\n",
       "      <th>location_type</th>\n",
       "      <th>street</th>\n",
       "      <th>street_type</th>\n",
       "      <th>house</th>\n",
       "      <th>source</th>\n",
       "      <th>chunk_1</th>\n",
       "      <th>chunk_2</th>\n",
       "      <th>chunk_3</th>\n",
       "      <th>chunk_4</th>\n",
       "      <th>chunk_5</th>\n",
       "      <th>chunk_6</th>\n",
       "      <th>chunk_7</th>\n",
       "    </tr>\n",
       "  </thead>\n",
       "  <tbody>\n",
       "    <tr>\n",
       "      <th>0</th>\n",
       "      <td>а.обл. Еврейская;  ; г Биробиджан;  ; переулок...</td>\n",
       "      <td>Еврейская</td>\n",
       "      <td>автономная область</td>\n",
       "      <td>NaN</td>\n",
       "      <td>NaN</td>\n",
       "      <td>Биробиджан</td>\n",
       "      <td>город</td>\n",
       "      <td>NaN</td>\n",
       "      <td>NaN</td>\n",
       "      <td>Авангардный</td>\n",
       "      <td>переулок</td>\n",
       "      <td>дом 1</td>\n",
       "      <td>2</td>\n",
       "      <td>а.обл. Еврейская</td>\n",
       "      <td></td>\n",
       "      <td>г Биробиджан</td>\n",
       "      <td></td>\n",
       "      <td>переулок Авангардный</td>\n",
       "      <td>дом 1</td>\n",
       "      <td>2</td>\n",
       "    </tr>\n",
       "    <tr>\n",
       "      <th>1</th>\n",
       "      <td>А.обл. Еврейская;  ; Г Биробиджан;  ; пер. Ава...</td>\n",
       "      <td>Еврейская</td>\n",
       "      <td>автономная область</td>\n",
       "      <td>NaN</td>\n",
       "      <td>NaN</td>\n",
       "      <td>Биробиджан</td>\n",
       "      <td>город</td>\n",
       "      <td>NaN</td>\n",
       "      <td>NaN</td>\n",
       "      <td>Авангардный</td>\n",
       "      <td>переулок</td>\n",
       "      <td>дом 3</td>\n",
       "      <td>2</td>\n",
       "      <td>А.обл. Еврейская</td>\n",
       "      <td></td>\n",
       "      <td>Г Биробиджан</td>\n",
       "      <td></td>\n",
       "      <td>пер. Авангардный</td>\n",
       "      <td>дом 3</td>\n",
       "      <td>2</td>\n",
       "    </tr>\n",
       "    <tr>\n",
       "      <th>2</th>\n",
       "      <td>Аобл Еврейская;  ; город Биробиджан;  ; переул...</td>\n",
       "      <td>Еврейская</td>\n",
       "      <td>автономная область</td>\n",
       "      <td>NaN</td>\n",
       "      <td>NaN</td>\n",
       "      <td>Биробиджан</td>\n",
       "      <td>город</td>\n",
       "      <td>NaN</td>\n",
       "      <td>NaN</td>\n",
       "      <td>Авангардный</td>\n",
       "      <td>переулок</td>\n",
       "      <td>дом 4</td>\n",
       "      <td>1</td>\n",
       "      <td>Аобл Еврейская</td>\n",
       "      <td></td>\n",
       "      <td>город Биробиджан</td>\n",
       "      <td></td>\n",
       "      <td>переулок Авангардный</td>\n",
       "      <td>дом 4</td>\n",
       "      <td>1</td>\n",
       "    </tr>\n",
       "    <tr>\n",
       "      <th>3</th>\n",
       "      <td>аобл Еврейская;  ; г. Биробиджан;  ; переулок ...</td>\n",
       "      <td>Еврейская</td>\n",
       "      <td>автономная область</td>\n",
       "      <td>NaN</td>\n",
       "      <td>NaN</td>\n",
       "      <td>Биробиджан</td>\n",
       "      <td>город</td>\n",
       "      <td>NaN</td>\n",
       "      <td>NaN</td>\n",
       "      <td>Алмазный</td>\n",
       "      <td>переулок</td>\n",
       "      <td>дом 4</td>\n",
       "      <td>2</td>\n",
       "      <td>аобл Еврейская</td>\n",
       "      <td></td>\n",
       "      <td>г. Биробиджан</td>\n",
       "      <td></td>\n",
       "      <td>переулок Алмазный</td>\n",
       "      <td>дом 4</td>\n",
       "      <td>2</td>\n",
       "    </tr>\n",
       "    <tr>\n",
       "      <th>4</th>\n",
       "      <td>Аобл Еврейская;  ; Г. Биробиджан;  ; пер-к Алм...</td>\n",
       "      <td>Еврейская</td>\n",
       "      <td>автономная область</td>\n",
       "      <td>NaN</td>\n",
       "      <td>NaN</td>\n",
       "      <td>Биробиджан</td>\n",
       "      <td>город</td>\n",
       "      <td>NaN</td>\n",
       "      <td>NaN</td>\n",
       "      <td>Алмазный</td>\n",
       "      <td>переулок</td>\n",
       "      <td>дом 5</td>\n",
       "      <td>1</td>\n",
       "      <td>Аобл Еврейская</td>\n",
       "      <td></td>\n",
       "      <td>Г. Биробиджан</td>\n",
       "      <td></td>\n",
       "      <td>пер-к Алмазный</td>\n",
       "      <td>дом 5</td>\n",
       "      <td>1</td>\n",
       "    </tr>\n",
       "    <tr>\n",
       "      <th>...</th>\n",
       "      <td>...</td>\n",
       "      <td>...</td>\n",
       "      <td>...</td>\n",
       "      <td>...</td>\n",
       "      <td>...</td>\n",
       "      <td>...</td>\n",
       "      <td>...</td>\n",
       "      <td>...</td>\n",
       "      <td>...</td>\n",
       "      <td>...</td>\n",
       "      <td>...</td>\n",
       "      <td>...</td>\n",
       "      <td>...</td>\n",
       "      <td>...</td>\n",
       "      <td>...</td>\n",
       "      <td>...</td>\n",
       "      <td>...</td>\n",
       "      <td>...</td>\n",
       "      <td>...</td>\n",
       "      <td>...</td>\n",
       "    </tr>\n",
       "    <tr>\n",
       "      <th>13802329</th>\n",
       "      <td>г Севастополь;  ;  ; тер-я СНТ Муссон; шоссе Ф...</td>\n",
       "      <td>Севастополь</td>\n",
       "      <td>город</td>\n",
       "      <td>NaN</td>\n",
       "      <td>NaN</td>\n",
       "      <td>NaN</td>\n",
       "      <td>NaN</td>\n",
       "      <td>СНТ Муссон</td>\n",
       "      <td>территория</td>\n",
       "      <td>Фиолентовское</td>\n",
       "      <td>шоссе</td>\n",
       "      <td>дом 56в/1</td>\n",
       "      <td>1</td>\n",
       "      <td>г Севастополь</td>\n",
       "      <td></td>\n",
       "      <td></td>\n",
       "      <td>тер-я СНТ Муссон</td>\n",
       "      <td>шоссе Фиолентовское</td>\n",
       "      <td>дом 56в/1</td>\n",
       "      <td>1</td>\n",
       "    </tr>\n",
       "    <tr>\n",
       "      <th>13802330</th>\n",
       "      <td>г Севастополь;  ;  ;  ; проспект Гагарина; дом...</td>\n",
       "      <td>Севастополь</td>\n",
       "      <td>город</td>\n",
       "      <td>NaN</td>\n",
       "      <td>NaN</td>\n",
       "      <td>NaN</td>\n",
       "      <td>NaN</td>\n",
       "      <td>NaN</td>\n",
       "      <td>NaN</td>\n",
       "      <td>Гагарина</td>\n",
       "      <td>проспект</td>\n",
       "      <td>дом 11в</td>\n",
       "      <td>1</td>\n",
       "      <td>г Севастополь</td>\n",
       "      <td></td>\n",
       "      <td></td>\n",
       "      <td></td>\n",
       "      <td>проспект Гагарина</td>\n",
       "      <td>дом 11в</td>\n",
       "      <td>1</td>\n",
       "    </tr>\n",
       "    <tr>\n",
       "      <th>13802331</th>\n",
       "      <td>город Севастополь;  ;  ; территория СТ Солнечн...</td>\n",
       "      <td>Севастополь</td>\n",
       "      <td>город</td>\n",
       "      <td>NaN</td>\n",
       "      <td>NaN</td>\n",
       "      <td>NaN</td>\n",
       "      <td>NaN</td>\n",
       "      <td>СТ Солнечный</td>\n",
       "      <td>территория</td>\n",
       "      <td>NaN</td>\n",
       "      <td>NaN</td>\n",
       "      <td>дом 28</td>\n",
       "      <td>1</td>\n",
       "      <td>город Севастополь</td>\n",
       "      <td></td>\n",
       "      <td></td>\n",
       "      <td>территория СТ Солнечный</td>\n",
       "      <td></td>\n",
       "      <td>дом 28</td>\n",
       "      <td>1</td>\n",
       "    </tr>\n",
       "    <tr>\n",
       "      <th>13802332</th>\n",
       "      <td>Г. Севастополь;  ;  ;  ; ул Неглинная; дом 2/2; 1</td>\n",
       "      <td>Севастополь</td>\n",
       "      <td>город</td>\n",
       "      <td>NaN</td>\n",
       "      <td>NaN</td>\n",
       "      <td>NaN</td>\n",
       "      <td>NaN</td>\n",
       "      <td>NaN</td>\n",
       "      <td>NaN</td>\n",
       "      <td>Неглинная</td>\n",
       "      <td>улица</td>\n",
       "      <td>дом 2/2</td>\n",
       "      <td>1</td>\n",
       "      <td>Г. Севастополь</td>\n",
       "      <td></td>\n",
       "      <td></td>\n",
       "      <td></td>\n",
       "      <td>ул Неглинная</td>\n",
       "      <td>дом 2/2</td>\n",
       "      <td>1</td>\n",
       "    </tr>\n",
       "    <tr>\n",
       "      <th>13802333</th>\n",
       "      <td>Г. Севастополь;  ;  ;  ; улица Генерала Провал...</td>\n",
       "      <td>Севастополь</td>\n",
       "      <td>город</td>\n",
       "      <td>NaN</td>\n",
       "      <td>NaN</td>\n",
       "      <td>NaN</td>\n",
       "      <td>NaN</td>\n",
       "      <td>NaN</td>\n",
       "      <td>NaN</td>\n",
       "      <td>Генерала Провалова</td>\n",
       "      <td>улица</td>\n",
       "      <td>дом 22</td>\n",
       "      <td>1</td>\n",
       "      <td>Г. Севастополь</td>\n",
       "      <td></td>\n",
       "      <td></td>\n",
       "      <td></td>\n",
       "      <td>улица Генерала Провалова</td>\n",
       "      <td>дом 22</td>\n",
       "      <td>1</td>\n",
       "    </tr>\n",
       "  </tbody>\n",
       "</table>\n",
       "<p>13802334 rows × 20 columns</p>\n",
       "</div>"
      ],
      "text/plain": [
       "                                                    address       region  \\\n",
       "0         а.обл. Еврейская;  ; г Биробиджан;  ; переулок...    Еврейская   \n",
       "1         А.обл. Еврейская;  ; Г Биробиджан;  ; пер. Ава...    Еврейская   \n",
       "2         Аобл Еврейская;  ; город Биробиджан;  ; переул...    Еврейская   \n",
       "3         аобл Еврейская;  ; г. Биробиджан;  ; переулок ...    Еврейская   \n",
       "4         Аобл Еврейская;  ; Г. Биробиджан;  ; пер-к Алм...    Еврейская   \n",
       "...                                                     ...          ...   \n",
       "13802329  г Севастополь;  ;  ; тер-я СНТ Муссон; шоссе Ф...  Севастополь   \n",
       "13802330  г Севастополь;  ;  ;  ; проспект Гагарина; дом...  Севастополь   \n",
       "13802331  город Севастополь;  ;  ; территория СТ Солнечн...  Севастополь   \n",
       "13802332  Г. Севастополь;  ;  ;  ; ул Неглинная; дом 2/2; 1  Севастополь   \n",
       "13802333  Г. Севастополь;  ;  ;  ; улица Генерала Провал...  Севастополь   \n",
       "\n",
       "                 region_type municipality municipality_type  settlement  \\\n",
       "0         автономная область          NaN               NaN  Биробиджан   \n",
       "1         автономная область          NaN               NaN  Биробиджан   \n",
       "2         автономная область          NaN               NaN  Биробиджан   \n",
       "3         автономная область          NaN               NaN  Биробиджан   \n",
       "4         автономная область          NaN               NaN  Биробиджан   \n",
       "...                      ...          ...               ...         ...   \n",
       "13802329               город          NaN               NaN         NaN   \n",
       "13802330               город          NaN               NaN         NaN   \n",
       "13802331               город          NaN               NaN         NaN   \n",
       "13802332               город          NaN               NaN         NaN   \n",
       "13802333               город          NaN               NaN         NaN   \n",
       "\n",
       "         settlement_type      location location_type              street  \\\n",
       "0                  город           NaN           NaN         Авангардный   \n",
       "1                  город           NaN           NaN         Авангардный   \n",
       "2                  город           NaN           NaN         Авангардный   \n",
       "3                  город           NaN           NaN            Алмазный   \n",
       "4                  город           NaN           NaN            Алмазный   \n",
       "...                  ...           ...           ...                 ...   \n",
       "13802329             NaN    СНТ Муссон    территория       Фиолентовское   \n",
       "13802330             NaN           NaN           NaN            Гагарина   \n",
       "13802331             NaN  СТ Солнечный    территория                 NaN   \n",
       "13802332             NaN           NaN           NaN           Неглинная   \n",
       "13802333             NaN           NaN           NaN  Генерала Провалова   \n",
       "\n",
       "         street_type      house  source            chunk_1 chunk_2  \\\n",
       "0           переулок      дом 1       2   а.обл. Еврейская           \n",
       "1           переулок      дом 3       2   А.обл. Еврейская           \n",
       "2           переулок      дом 4       1     Аобл Еврейская           \n",
       "3           переулок      дом 4       2     аобл Еврейская           \n",
       "4           переулок      дом 5       1     Аобл Еврейская           \n",
       "...              ...        ...     ...                ...     ...   \n",
       "13802329       шоссе  дом 56в/1       1      г Севастополь           \n",
       "13802330    проспект    дом 11в       1      г Севастополь           \n",
       "13802331         NaN     дом 28       1  город Севастополь           \n",
       "13802332       улица    дом 2/2       1     Г. Севастополь           \n",
       "13802333       улица     дом 22       1     Г. Севастополь           \n",
       "\n",
       "                    chunk_3                   chunk_4  \\\n",
       "0              г Биробиджан                             \n",
       "1              Г Биробиджан                             \n",
       "2          город Биробиджан                             \n",
       "3             г. Биробиджан                             \n",
       "4             Г. Биробиджан                             \n",
       "...                     ...                       ...   \n",
       "13802329                             тер-я СНТ Муссон   \n",
       "13802330                                                \n",
       "13802331                      территория СТ Солнечный   \n",
       "13802332                                                \n",
       "13802333                                                \n",
       "\n",
       "                            chunk_5     chunk_6 chunk_7  \n",
       "0              переулок Авангардный       дом 1       2  \n",
       "1                  пер. Авангардный       дом 3       2  \n",
       "2              переулок Авангардный       дом 4       1  \n",
       "3                 переулок Алмазный       дом 4       2  \n",
       "4                    пер-к Алмазный       дом 5       1  \n",
       "...                             ...         ...     ...  \n",
       "13802329        шоссе Фиолентовское   дом 56в/1       1  \n",
       "13802330          проспект Гагарина     дом 11в       1  \n",
       "13802331                                 дом 28       1  \n",
       "13802332               ул Неглинная     дом 2/2       1  \n",
       "13802333   улица Генерала Провалова      дом 22       1  \n",
       "\n",
       "[13802334 rows x 20 columns]"
      ]
     },
     "execution_count": 6,
     "metadata": {},
     "output_type": "execute_result"
    }
   ],
   "source": [
    "df[[f'chunk_{i + 1}' for i in range(7)]] = df['address'].str.split(';', expand=True)\n",
    "df"
   ]
  },
  {
   "cell_type": "code",
   "execution_count": 167,
   "id": "b651c268",
   "metadata": {},
   "outputs": [],
   "source": [
    "def printer(idx):\n",
    "    print(df.iloc[idx]['address'])\n",
    "    print(df.iloc[idx][1:])"
   ]
  },
  {
   "cell_type": "code",
   "execution_count": 8,
   "id": "f86da35e",
   "metadata": {},
   "outputs": [
    {
     "name": "stdout",
     "output_type": "stream",
     "text": [
      "обл. Воронежская; р-н Борисоглебский; с Махровка;  ; улица Советская; дом 25; 1\n",
      "region                       Воронежская\n",
      "region_type                      область\n",
      "municipality              Борисоглебский\n",
      "municipality_type                  район\n",
      "settlement                      Махровка\n",
      "settlement_type                     село\n",
      "location                             NaN\n",
      "location_type                        NaN\n",
      "street                         Советская\n",
      "street_type                        улица\n",
      "house                             дом 25\n",
      "source                                 1\n",
      "chunk_1                 обл. Воронежская\n",
      "chunk_2               р-н Борисоглебский\n",
      "chunk_3                       с Махровка\n",
      "chunk_4                                 \n",
      "chunk_5                  улица Советская\n",
      "chunk_6                           дом 25\n",
      "chunk_7                                1\n",
      "Name: 2444451, dtype: object\n"
     ]
    }
   ],
   "source": [
    "printer(2444451)"
   ]
  },
  {
   "cell_type": "markdown",
   "id": "0d538b69",
   "metadata": {},
   "source": [
    "### REGION / REGION_TYPE \n",
    "region и region_type находится в chunk_1 address"
   ]
  },
  {
   "cell_type": "code",
   "execution_count": 9,
   "id": "5b6d6618",
   "metadata": {},
   "outputs": [],
   "source": [
    "region_df = df[df['region'].notna()][['address', 'region', 'region_type', 'chunk_1']]"
   ]
  },
  {
   "cell_type": "code",
   "execution_count": 10,
   "id": "58ec790c",
   "metadata": {},
   "outputs": [
    {
     "data": {
      "text/html": [
       "<div>\n",
       "<style scoped>\n",
       "    .dataframe tbody tr th:only-of-type {\n",
       "        vertical-align: middle;\n",
       "    }\n",
       "\n",
       "    .dataframe tbody tr th {\n",
       "        vertical-align: top;\n",
       "    }\n",
       "\n",
       "    .dataframe thead th {\n",
       "        text-align: right;\n",
       "    }\n",
       "</style>\n",
       "<table border=\"1\" class=\"dataframe\">\n",
       "  <thead>\n",
       "    <tr style=\"text-align: right;\">\n",
       "      <th></th>\n",
       "      <th>address</th>\n",
       "      <th>region</th>\n",
       "      <th>region_type</th>\n",
       "      <th>chunk_1</th>\n",
       "    </tr>\n",
       "  </thead>\n",
       "  <tbody>\n",
       "    <tr>\n",
       "      <th>11218596</th>\n",
       "      <td>обл Костромская; район Галичский; село Орехово...</td>\n",
       "      <td>Костромская</td>\n",
       "      <td>область</td>\n",
       "      <td>обл Костромская</td>\n",
       "    </tr>\n",
       "    <tr>\n",
       "      <th>915993</th>\n",
       "      <td>край Красноярский;  ; Г Красноярск;  ; ул. Лом...</td>\n",
       "      <td>Красноярский</td>\n",
       "      <td>край</td>\n",
       "      <td>край Красноярский</td>\n",
       "    </tr>\n",
       "    <tr>\n",
       "      <th>644245</th>\n",
       "      <td>край. Краснодарский;  ; г. Новороссийск; с. Це...</td>\n",
       "      <td>Краснодарский</td>\n",
       "      <td>край</td>\n",
       "      <td>край. Краснодарский</td>\n",
       "    </tr>\n",
       "    <tr>\n",
       "      <th>7014830</th>\n",
       "      <td>Респ. Дагестан;  ; г Хасавюрт;  ; ул. Ветеран ...</td>\n",
       "      <td>Дагестан</td>\n",
       "      <td>республика</td>\n",
       "      <td>Респ. Дагестан</td>\n",
       "    </tr>\n",
       "    <tr>\n",
       "      <th>5079502</th>\n",
       "      <td>обл Рязанская; район Рязанский; с. Заборье;  ;...</td>\n",
       "      <td>Рязанская</td>\n",
       "      <td>область</td>\n",
       "      <td>обл Рязанская</td>\n",
       "    </tr>\n",
       "    <tr>\n",
       "      <th>8774777</th>\n",
       "      <td>Респ. Кабардино-Балкарская;  ; Г. Нальчик;  ; ...</td>\n",
       "      <td>Кабардино-Балкарская</td>\n",
       "      <td>республика</td>\n",
       "      <td>Респ. Кабардино-Балкарская</td>\n",
       "    </tr>\n",
       "  </tbody>\n",
       "</table>\n",
       "</div>"
      ],
      "text/plain": [
       "                                                    address  \\\n",
       "11218596  обл Костромская; район Галичский; село Орехово...   \n",
       "915993    край Красноярский;  ; Г Красноярск;  ; ул. Лом...   \n",
       "644245    край. Краснодарский;  ; г. Новороссийск; с. Це...   \n",
       "7014830   Респ. Дагестан;  ; г Хасавюрт;  ; ул. Ветеран ...   \n",
       "5079502   обл Рязанская; район Рязанский; с. Заборье;  ;...   \n",
       "8774777   Респ. Кабардино-Балкарская;  ; Г. Нальчик;  ; ...   \n",
       "\n",
       "                        region region_type                     chunk_1  \n",
       "11218596           Костромская     область             обл Костромская  \n",
       "915993            Красноярский        край           край Красноярский  \n",
       "644245           Краснодарский        край         край. Краснодарский  \n",
       "7014830               Дагестан  республика              Респ. Дагестан  \n",
       "5079502              Рязанская     область               обл Рязанская  \n",
       "8774777   Кабардино-Балкарская  республика  Респ. Кабардино-Балкарская  "
      ]
     },
     "execution_count": 10,
     "metadata": {},
     "output_type": "execute_result"
    }
   ],
   "source": [
    "region_df.sample(6)"
   ]
  },
  {
   "cell_type": "code",
   "execution_count": 11,
   "id": "5023b993",
   "metadata": {},
   "outputs": [
    {
     "data": {
      "text/plain": [
       "['автономная область',\n",
       " 'автономный округ',\n",
       " 'город',\n",
       " 'край',\n",
       " 'область',\n",
       " 'республика']"
      ]
     },
     "execution_count": 11,
     "metadata": {},
     "output_type": "execute_result"
    }
   ],
   "source": [
    "region_types = region_df['region_type'].unique().tolist()\n",
    "region_types"
   ]
  },
  {
   "cell_type": "code",
   "execution_count": 12,
   "id": "5e9a6ece",
   "metadata": {},
   "outputs": [],
   "source": [
    "chunk1 = df['chunk_1'].str.split(expand=True)"
   ]
  },
  {
   "cell_type": "code",
   "execution_count": 13,
   "id": "45258d9b",
   "metadata": {},
   "outputs": [
    {
     "data": {
      "text/plain": [
       "array(['а.обл.', 'аобл', 'аокр', 'а.окр.', 'город', 'г.', 'г', 'край.',\n",
       "       'край', 'обл', 'обл.', 'область', 'рес.', 'республика', 'респ.',\n",
       "       'рес', 'респ'], dtype=object)"
      ]
     },
     "execution_count": 13,
     "metadata": {},
     "output_type": "execute_result"
    }
   ],
   "source": [
    "chunk1[0].apply(lambda x: x.lower()).unique()"
   ]
  },
  {
   "cell_type": "code",
   "execution_count": 14,
   "id": "6c78e51a",
   "metadata": {},
   "outputs": [
    {
     "name": "stdout",
     "output_type": "stream",
     "text": [
      "а.окр\n"
     ]
    }
   ],
   "source": [
    "#Пример\n",
    "import re\n",
    "\n",
    "text1 = \"А.окр. Ханты-Мансийский\"\n",
    "okr_pattern = \"а\\.?окр\"\n",
    "\n",
    "result1 = re.search(okr_pattern, text1.split()[0].lower())\n",
    "print(result1.group(0))"
   ]
  },
  {
   "cell_type": "code",
   "execution_count": 15,
   "id": "d4270494",
   "metadata": {},
   "outputs": [],
   "source": [
    "region_patterns = {'автономная область':'а\\.?обл',\n",
    "                   'область': 'обл\\.?',\n",
    "                   'автономный округ': 'а\\.?окр',\n",
    "                   'город': 'г',\n",
    "                   'край': 'край',\n",
    "                   'республика': '[рес|респ|республика]\\.?'}\n",
    "\n",
    "def region_filler(sample):\n",
    "    if len(sample.lstrip()) == 0:\n",
    "        return ['', '']\n",
    "    temp_sample = sample.split()[0].lower()\n",
    "    for region_type, pattern in region_patterns.items():\n",
    "        temp_search = re.match(pattern, temp_sample)\n",
    "        if temp_search:\n",
    "            return [region_type, ' '.join(sample.split()[1:])]\n",
    "    return ['', '']"
   ]
  },
  {
   "cell_type": "code",
   "execution_count": 16,
   "id": "f042e96d",
   "metadata": {},
   "outputs": [
    {
     "data": {
      "text/plain": [
       "['город', 'Татарстан Улан удээээ']"
      ]
     },
     "execution_count": 16,
     "metadata": {},
     "output_type": "execute_result"
    }
   ],
   "source": [
    "reg = 'город Татарстан Улан удээээ'\n",
    "region_filler(reg)"
   ]
  },
  {
   "cell_type": "code",
   "execution_count": 18,
   "id": "1e9521b4",
   "metadata": {},
   "outputs": [
    {
     "name": "stderr",
     "output_type": "stream",
     "text": [
      "100%|███████████████████████████████████████████████████████████████████| 13802334/13802334 [01:02<00:00, 221081.39it/s]\n"
     ]
    }
   ],
   "source": [
    "regions = region_df['chunk_1'].progress_apply(region_filler)"
   ]
  },
  {
   "cell_type": "code",
   "execution_count": 19,
   "id": "95fec397",
   "metadata": {},
   "outputs": [],
   "source": [
    "compare_regions = pd.DataFrame(regions.tolist(), columns=['region_type', 'region'])"
   ]
  },
  {
   "cell_type": "code",
   "execution_count": 20,
   "id": "83a13da8",
   "metadata": {},
   "outputs": [
    {
     "data": {
      "text/plain": [
       "region_type    1.0\n",
       "region         1.0\n",
       "dtype: float64"
      ]
     },
     "execution_count": 20,
     "metadata": {},
     "output_type": "execute_result"
    }
   ],
   "source": [
    "(compare_regions == region_df[['region_type', 'region']]).sum() / len(region_df)"
   ]
  },
  {
   "cell_type": "markdown",
   "id": "707ce6a8",
   "metadata": {},
   "source": [
    "### MUNICIPALITY / MUNICIPALITY_TYPE"
   ]
  },
  {
   "cell_type": "code",
   "execution_count": 21,
   "id": "34e6fc13",
   "metadata": {},
   "outputs": [],
   "source": [
    "municipality_df = df[df['municipality'].notna()][['address', 'municipality', 'municipality_type', 'chunk_2']]"
   ]
  },
  {
   "cell_type": "code",
   "execution_count": 22,
   "id": "2a0b4984",
   "metadata": {},
   "outputs": [
    {
     "data": {
      "text/html": [
       "<div>\n",
       "<style scoped>\n",
       "    .dataframe tbody tr th:only-of-type {\n",
       "        vertical-align: middle;\n",
       "    }\n",
       "\n",
       "    .dataframe tbody tr th {\n",
       "        vertical-align: top;\n",
       "    }\n",
       "\n",
       "    .dataframe thead th {\n",
       "        text-align: right;\n",
       "    }\n",
       "</style>\n",
       "<table border=\"1\" class=\"dataframe\">\n",
       "  <thead>\n",
       "    <tr style=\"text-align: right;\">\n",
       "      <th></th>\n",
       "      <th>address</th>\n",
       "      <th>municipality</th>\n",
       "      <th>municipality_type</th>\n",
       "      <th>chunk_2</th>\n",
       "    </tr>\n",
       "  </thead>\n",
       "  <tbody>\n",
       "    <tr>\n",
       "      <th>4091115</th>\n",
       "      <td>область Новгородская; р-н. Валдайский; г Валда...</td>\n",
       "      <td>Валдайский</td>\n",
       "      <td>район</td>\n",
       "      <td>р-н. Валдайский</td>\n",
       "    </tr>\n",
       "    <tr>\n",
       "      <th>2444854</th>\n",
       "      <td>обл. Воронежская; район Борисоглебский; с Танц...</td>\n",
       "      <td>Борисоглебский</td>\n",
       "      <td>район</td>\n",
       "      <td>район Борисоглебский</td>\n",
       "    </tr>\n",
       "    <tr>\n",
       "      <th>9572960</th>\n",
       "      <td>Край. Краснодарский; р-н. Усть-Лабинский; Г Ус...</td>\n",
       "      <td>Усть-Лабинский</td>\n",
       "      <td>район</td>\n",
       "      <td>р-н. Усть-Лабинский</td>\n",
       "    </tr>\n",
       "    <tr>\n",
       "      <th>4529119</th>\n",
       "      <td>Обл Оренбургская; район Сорочинский; с Троицко...</td>\n",
       "      <td>Сорочинский</td>\n",
       "      <td>район</td>\n",
       "      <td>район Сорочинский</td>\n",
       "    </tr>\n",
       "    <tr>\n",
       "      <th>10067012</th>\n",
       "      <td>Край. Ставропольский; р-н. Изобильненский; пос...</td>\n",
       "      <td>Изобильненский</td>\n",
       "      <td>район</td>\n",
       "      <td>р-н. Изобильненский</td>\n",
       "    </tr>\n",
       "    <tr>\n",
       "      <th>3284592</th>\n",
       "      <td>обл. Курская; район Горшеченский; село Удобное...</td>\n",
       "      <td>Горшеченский</td>\n",
       "      <td>район</td>\n",
       "      <td>район Горшеченский</td>\n",
       "    </tr>\n",
       "  </tbody>\n",
       "</table>\n",
       "</div>"
      ],
      "text/plain": [
       "                                                    address    municipality  \\\n",
       "4091115   область Новгородская; р-н. Валдайский; г Валда...      Валдайский   \n",
       "2444854   обл. Воронежская; район Борисоглебский; с Танц...  Борисоглебский   \n",
       "9572960   Край. Краснодарский; р-н. Усть-Лабинский; Г Ус...  Усть-Лабинский   \n",
       "4529119   Обл Оренбургская; район Сорочинский; с Троицко...     Сорочинский   \n",
       "10067012  Край. Ставропольский; р-н. Изобильненский; пос...  Изобильненский   \n",
       "3284592   обл. Курская; район Горшеченский; село Удобное...    Горшеченский   \n",
       "\n",
       "         municipality_type                chunk_2  \n",
       "4091115              район        р-н. Валдайский  \n",
       "2444854              район   район Борисоглебский  \n",
       "9572960              район    р-н. Усть-Лабинский  \n",
       "4529119              район      район Сорочинский  \n",
       "10067012             район    р-н. Изобильненский  \n",
       "3284592              район     район Горшеченский  "
      ]
     },
     "execution_count": 22,
     "metadata": {},
     "output_type": "execute_result"
    }
   ],
   "source": [
    "municipality_df.sample(6)"
   ]
  },
  {
   "cell_type": "code",
   "execution_count": 211,
   "id": "52f0136c",
   "metadata": {},
   "outputs": [],
   "source": [
    "municipality_types = municipality_df['municipality_type'].unique().tolist()"
   ]
  },
  {
   "cell_type": "code",
   "execution_count": 212,
   "id": "1f5162f5",
   "metadata": {},
   "outputs": [
    {
     "data": {
      "text/plain": [
       "['район',\n",
       " 'город',\n",
       " 'сельское поселение',\n",
       " 'улус',\n",
       " 'сельсовет',\n",
       " 'поселок городского типа',\n",
       " 'поселок',\n",
       " 'сельское муницип.образование',\n",
       " 'массив',\n",
       " 'территория',\n",
       " 'рабочий поселок',\n",
       " 'село',\n",
       " 'поселение']"
      ]
     },
     "execution_count": 212,
     "metadata": {},
     "output_type": "execute_result"
    }
   ],
   "source": [
    "municipality_types"
   ]
  },
  {
   "cell_type": "code",
   "execution_count": 213,
   "id": "4ad7630b",
   "metadata": {},
   "outputs": [
    {
     "data": {
      "text/plain": [
       "{'район': {'р-н', 'р-н.', 'район'},\n",
       " 'город': {'Г', 'Г.', 'г', 'г.', 'город'},\n",
       " 'сельское поселение': {'с.п.', 'с/п', 'сп'},\n",
       " 'улус': {'У', 'У.', 'у', 'у.', 'улус'},\n",
       " 'сельсовет': {'с/с', 'сельсовет', 'сс', 'сс.'},\n",
       " 'поселок городского типа': {'пгт', 'пгт.'},\n",
       " 'поселок': {'п', 'п.', 'пос', 'пос-к', 'пос.'},\n",
       " 'сельское муницип.образование': {'с/мо', 'смо'},\n",
       " 'массив': {'М', 'М.', 'зона', 'м', 'м-в', 'м.', 'массив'},\n",
       " 'территория': {'тер', 'тер.', 'терр.'},\n",
       " 'рабочий поселок': {'рп', 'рп.'},\n",
       " 'село': {'с', 'с.', 'село'},\n",
       " 'поселение': {'п', 'п.', 'пос', 'пос-е', 'пос.', 'поселение'}}"
      ]
     },
     "execution_count": 213,
     "metadata": {},
     "output_type": "execute_result"
    }
   ],
   "source": [
    "municipality_dictionary"
   ]
  },
  {
   "cell_type": "code",
   "execution_count": 24,
   "id": "05abe112",
   "metadata": {},
   "outputs": [],
   "source": [
    "municipality_dictionary = {municipality: set() for municipality in municipality_types}\n",
    "def municipality_create(sample):\n",
    "    temp_type = sample['municipality_type']\n",
    "    if temp_type in municipality_dictionary:\n",
    "        municipality_dictionary[temp_type].update([sample['chunk_2'].split()[0]])"
   ]
  },
  {
   "cell_type": "code",
   "execution_count": 25,
   "id": "a7851d6b",
   "metadata": {},
   "outputs": [
    {
     "name": "stderr",
     "output_type": "stream",
     "text": [
      "100%|█████████████████████████████████████████████████████████████████████| 8180228/8180228 [00:56<00:00, 143918.93it/s]\n"
     ]
    },
    {
     "data": {
      "text/plain": [
       "3538        None\n",
       "3539        None\n",
       "3540        None\n",
       "3541        None\n",
       "3542        None\n",
       "            ... \n",
       "13791405    None\n",
       "13791406    None\n",
       "13791407    None\n",
       "13791408    None\n",
       "13791409    None\n",
       "Length: 8180228, dtype: object"
      ]
     },
     "execution_count": 25,
     "metadata": {},
     "output_type": "execute_result"
    }
   ],
   "source": [
    "municipality_df.progress_apply(municipality_create, axis=1)"
   ]
  },
  {
   "cell_type": "code",
   "execution_count": 26,
   "id": "cbf285df",
   "metadata": {},
   "outputs": [
    {
     "data": {
      "text/plain": [
       "{'район': {'р-н', 'р-н.', 'район'},\n",
       " 'город': {'Г', 'Г.', 'г', 'г.', 'город'},\n",
       " 'сельское поселение': {'с.п.', 'с/п', 'сп'},\n",
       " 'улус': {'У', 'У.', 'у', 'у.', 'улус'},\n",
       " 'сельсовет': {'с/с', 'сельсовет', 'сс', 'сс.'},\n",
       " 'поселок городского типа': {'пгт', 'пгт.'},\n",
       " 'поселок': {'п', 'п.', 'пос', 'пос-к', 'пос.'},\n",
       " 'сельское муницип.образование': {'с/мо', 'смо'},\n",
       " 'массив': {'М', 'М.', 'зона', 'м', 'м-в', 'м.', 'массив'},\n",
       " 'территория': {'тер', 'тер.', 'терр.'},\n",
       " 'рабочий поселок': {'рп', 'рп.'},\n",
       " 'село': {'с', 'с.', 'село'},\n",
       " 'поселение': {'п', 'п.', 'пос', 'пос-е', 'пос.', 'поселение'}}"
      ]
     },
     "execution_count": 26,
     "metadata": {},
     "output_type": "execute_result"
    }
   ],
   "source": [
    "municipality_dictionary"
   ]
  },
  {
   "cell_type": "code",
   "execution_count": 27,
   "id": "b1709780",
   "metadata": {},
   "outputs": [],
   "source": [
    "#Пусть будет в порядке убывания по количеству\n",
    "unique_municipality_types = municipality_df['municipality_type'].value_counts().index.tolist()"
   ]
  },
  {
   "cell_type": "code",
   "execution_count": 28,
   "id": "ecce8686",
   "metadata": {},
   "outputs": [],
   "source": [
    "def municipality_filler(sample):\n",
    "    if len(sample.lstrip()) == 0:\n",
    "        return ['', '']\n",
    "    temp_sample = sample.split()[0]\n",
    "    for municipality_type in unique_municipality_types:\n",
    "        if municipality_type in municipality_dictionary and temp_sample in municipality_dictionary[municipality_type]:\n",
    "            return [municipality_type, ' '.join(sample.split()[1:])]\n",
    "    return ['', '']"
   ]
  },
  {
   "cell_type": "code",
   "execution_count": 29,
   "id": "ae25d147",
   "metadata": {},
   "outputs": [
    {
     "data": {
      "text/plain": [
       "['', '']"
      ]
     },
     "execution_count": 29,
     "metadata": {},
     "output_type": "execute_result"
    }
   ],
   "source": [
    "municipality_filler('  ')"
   ]
  },
  {
   "cell_type": "markdown",
   "id": "8db7bf9b",
   "metadata": {},
   "source": [
    "### SETTLEMENT / SETTLEMENT_TYPE"
   ]
  },
  {
   "cell_type": "code",
   "execution_count": 30,
   "id": "29a4688b",
   "metadata": {},
   "outputs": [],
   "source": [
    "settlement_df = df[df['settlement'].notna()][['address', 'settlement', 'settlement_type', 'chunk_3']]"
   ]
  },
  {
   "cell_type": "code",
   "execution_count": 31,
   "id": "2fbedb0f",
   "metadata": {},
   "outputs": [
    {
     "data": {
      "text/html": [
       "<div>\n",
       "<style scoped>\n",
       "    .dataframe tbody tr th:only-of-type {\n",
       "        vertical-align: middle;\n",
       "    }\n",
       "\n",
       "    .dataframe tbody tr th {\n",
       "        vertical-align: top;\n",
       "    }\n",
       "\n",
       "    .dataframe thead th {\n",
       "        text-align: right;\n",
       "    }\n",
       "</style>\n",
       "<table border=\"1\" class=\"dataframe\">\n",
       "  <thead>\n",
       "    <tr style=\"text-align: right;\">\n",
       "      <th></th>\n",
       "      <th>address</th>\n",
       "      <th>settlement</th>\n",
       "      <th>settlement_type</th>\n",
       "      <th>chunk_3</th>\n",
       "    </tr>\n",
       "  </thead>\n",
       "  <tbody>\n",
       "    <tr>\n",
       "      <th>12124091</th>\n",
       "      <td>Обл Оренбургская; р-н Саракташский; село Черка...</td>\n",
       "      <td>Черкассы</td>\n",
       "      <td>село</td>\n",
       "      <td>село Черкассы</td>\n",
       "    </tr>\n",
       "    <tr>\n",
       "      <th>5250138</th>\n",
       "      <td>Обл Саратовская;  ; г Ртищево;  ; улица Карла ...</td>\n",
       "      <td>Ртищево</td>\n",
       "      <td>город</td>\n",
       "      <td>г Ртищево</td>\n",
       "    </tr>\n",
       "    <tr>\n",
       "      <th>1619909</th>\n",
       "      <td>область Архангельская; район Вельский; город В...</td>\n",
       "      <td>Вельск</td>\n",
       "      <td>город</td>\n",
       "      <td>город Вельск</td>\n",
       "    </tr>\n",
       "    <tr>\n",
       "      <th>12701502</th>\n",
       "      <td>Обл. Рязанская; р-н. Старожиловский; деревня Т...</td>\n",
       "      <td>Татаркино</td>\n",
       "      <td>деревня</td>\n",
       "      <td>деревня Татаркино</td>\n",
       "    </tr>\n",
       "    <tr>\n",
       "      <th>6475146</th>\n",
       "      <td>Обл. Челябинская;  ; г. Челябинск;  ; ул Севас...</td>\n",
       "      <td>Челябинск</td>\n",
       "      <td>город</td>\n",
       "      <td>г. Челябинск</td>\n",
       "    </tr>\n",
       "    <tr>\n",
       "      <th>3633978</th>\n",
       "      <td>Обл Московская;  ; Г Люберцы; дп. Красково;  ;...</td>\n",
       "      <td>Люберцы</td>\n",
       "      <td>город</td>\n",
       "      <td>Г Люберцы</td>\n",
       "    </tr>\n",
       "  </tbody>\n",
       "</table>\n",
       "</div>"
      ],
      "text/plain": [
       "                                                    address settlement  \\\n",
       "12124091  Обл Оренбургская; р-н Саракташский; село Черка...   Черкассы   \n",
       "5250138   Обл Саратовская;  ; г Ртищево;  ; улица Карла ...    Ртищево   \n",
       "1619909   область Архангельская; район Вельский; город В...     Вельск   \n",
       "12701502  Обл. Рязанская; р-н. Старожиловский; деревня Т...  Татаркино   \n",
       "6475146   Обл. Челябинская;  ; г. Челябинск;  ; ул Севас...  Челябинск   \n",
       "3633978   Обл Московская;  ; Г Люберцы; дп. Красково;  ;...    Люберцы   \n",
       "\n",
       "         settlement_type             chunk_3  \n",
       "12124091            село       село Черкассы  \n",
       "5250138            город           г Ртищево  \n",
       "1619909            город        город Вельск  \n",
       "12701502         деревня   деревня Татаркино  \n",
       "6475146            город        г. Челябинск  \n",
       "3633978            город           Г Люберцы  "
      ]
     },
     "execution_count": 31,
     "metadata": {},
     "output_type": "execute_result"
    }
   ],
   "source": [
    "settlement_df.sample(6)"
   ]
  },
  {
   "cell_type": "code",
   "execution_count": 32,
   "id": "88ce74b9",
   "metadata": {},
   "outputs": [],
   "source": [
    "settlement_types = settlement_df['settlement_type'].unique().tolist()"
   ]
  },
  {
   "cell_type": "code",
   "execution_count": 33,
   "id": "f0f0bcad",
   "metadata": {},
   "outputs": [],
   "source": [
    "settlement_dictionary = {settlement: set() for settlement in settlement_types}\n",
    "def settlement_create(sample):\n",
    "    temp_type = sample['settlement_type']\n",
    "    if temp_type in settlement_dictionary:\n",
    "        settlement_dictionary[temp_type].update([sample['chunk_3'].split()[0]])"
   ]
  },
  {
   "cell_type": "code",
   "execution_count": 34,
   "id": "6e201b19",
   "metadata": {},
   "outputs": [
    {
     "name": "stderr",
     "output_type": "stream",
     "text": [
      "100%|███████████████████████████████████████████████████████████████████| 13285113/13285113 [01:34<00:00, 140878.37it/s]\n"
     ]
    },
    {
     "data": {
      "text/plain": [
       "0           None\n",
       "1           None\n",
       "2           None\n",
       "3           None\n",
       "4           None\n",
       "            ... \n",
       "13802265    None\n",
       "13802269    None\n",
       "13802271    None\n",
       "13802300    None\n",
       "13802307    None\n",
       "Length: 13285113, dtype: object"
      ]
     },
     "execution_count": 34,
     "metadata": {},
     "output_type": "execute_result"
    }
   ],
   "source": [
    "settlement_df.progress_apply(settlement_create, axis=1)"
   ]
  },
  {
   "cell_type": "code",
   "execution_count": 36,
   "id": "d57d94c9",
   "metadata": {},
   "outputs": [],
   "source": [
    "#Пусть будет в порядке убывания по количеству\n",
    "unique_settlement_types = settlement_df['settlement_type'].value_counts().index.tolist()"
   ]
  },
  {
   "cell_type": "code",
   "execution_count": 37,
   "id": "b26c67a3",
   "metadata": {},
   "outputs": [],
   "source": [
    "def settlement_filler(sample):\n",
    "    if len(sample.lstrip()) == 0:\n",
    "        return ['', '']\n",
    "    temp_sample = sample.split()[0]\n",
    "    for settlement_type in unique_settlement_types:\n",
    "        if settlement_type in settlement_dictionary and temp_sample in settlement_dictionary[settlement_type]:\n",
    "            return [settlement_type, ' '.join(sample.split()[1:])]\n",
    "    return ['', '']"
   ]
  },
  {
   "cell_type": "code",
   "execution_count": 38,
   "id": "7ea13ced",
   "metadata": {},
   "outputs": [
    {
     "data": {
      "text/plain": [
       "['деревня', 'Андроново (Тимирязевский с/с)']"
      ]
     },
     "execution_count": 38,
     "metadata": {},
     "output_type": "execute_result"
    }
   ],
   "source": [
    "settlement_filler('д Андроново (Тимирязевский с/с)')"
   ]
  },
  {
   "cell_type": "markdown",
   "id": "50b96388",
   "metadata": {},
   "source": [
    "### LOCATION / LOCATION_TYPE "
   ]
  },
  {
   "cell_type": "code",
   "execution_count": 50,
   "id": "653af1a5",
   "metadata": {},
   "outputs": [
    {
     "data": {
      "text/html": [
       "<div>\n",
       "<style scoped>\n",
       "    .dataframe tbody tr th:only-of-type {\n",
       "        vertical-align: middle;\n",
       "    }\n",
       "\n",
       "    .dataframe tbody tr th {\n",
       "        vertical-align: top;\n",
       "    }\n",
       "\n",
       "    .dataframe thead th {\n",
       "        text-align: right;\n",
       "    }\n",
       "</style>\n",
       "<table border=\"1\" class=\"dataframe\">\n",
       "  <thead>\n",
       "    <tr style=\"text-align: right;\">\n",
       "      <th></th>\n",
       "      <th>address</th>\n",
       "      <th>location</th>\n",
       "      <th>location_type</th>\n",
       "      <th>chunk_4</th>\n",
       "    </tr>\n",
       "  </thead>\n",
       "  <tbody>\n",
       "    <tr>\n",
       "      <th>8089228</th>\n",
       "      <td>Респ Удмуртская; район Завьяловский;  ; терр С...</td>\n",
       "      <td>СТСН Агрохимик</td>\n",
       "      <td>территория</td>\n",
       "      <td>терр СТСН Агрохимик</td>\n",
       "    </tr>\n",
       "    <tr>\n",
       "      <th>148617</th>\n",
       "      <td>г. Москва;  ; пос. Марушкинское; кв-л. 35;  ; ...</td>\n",
       "      <td>35</td>\n",
       "      <td>квартал</td>\n",
       "      <td>кв-л. 35</td>\n",
       "    </tr>\n",
       "    <tr>\n",
       "      <th>74794</th>\n",
       "      <td>Аокр Ханты-Мансийский; р-н Советский; Г. Совет...</td>\n",
       "      <td>ТСН Микрорайон Гудок</td>\n",
       "      <td>территория</td>\n",
       "      <td>тер. ТСН Микрорайон Гудок</td>\n",
       "    </tr>\n",
       "    <tr>\n",
       "      <th>2844548</th>\n",
       "      <td>Обл Калужская; р-н. Жуковский; д Собакино; тер...</td>\n",
       "      <td>СНТ Ясная Поляна</td>\n",
       "      <td>территория</td>\n",
       "      <td>тер СНТ Ясная Поляна</td>\n",
       "    </tr>\n",
       "  </tbody>\n",
       "</table>\n",
       "</div>"
      ],
      "text/plain": [
       "                                                   address  \\\n",
       "8089228  Респ Удмуртская; район Завьяловский;  ; терр С...   \n",
       "148617   г. Москва;  ; пос. Марушкинское; кв-л. 35;  ; ...   \n",
       "74794    Аокр Ханты-Мансийский; р-н Советский; Г. Совет...   \n",
       "2844548  Обл Калужская; р-н. Жуковский; д Собакино; тер...   \n",
       "\n",
       "                     location location_type                     chunk_4  \n",
       "8089228        СТСН Агрохимик    территория         терр СТСН Агрохимик  \n",
       "148617                     35       квартал                    кв-л. 35  \n",
       "74794    ТСН Микрорайон Гудок    территория   тер. ТСН Микрорайон Гудок  \n",
       "2844548      СНТ Ясная Поляна    территория        тер СНТ Ясная Поляна  "
      ]
     },
     "execution_count": 50,
     "metadata": {},
     "output_type": "execute_result"
    }
   ],
   "source": [
    "#location\n",
    "location_df = df[df['location'].notna()][['address', 'location', 'location_type', 'chunk_4']]\n",
    "location_df.sample(4)"
   ]
  },
  {
   "cell_type": "code",
   "execution_count": 41,
   "id": "af6e36e9",
   "metadata": {},
   "outputs": [],
   "source": [
    "#Треш) Будем искать паттерны автоматом\n",
    "location_types = location_df['location_type'].unique().tolist()"
   ]
  },
  {
   "cell_type": "code",
   "execution_count": 42,
   "id": "7c5599d0",
   "metadata": {},
   "outputs": [],
   "source": [
    "locations_dictionary = {location: set() for location in location_types}\n",
    "def locations_create(sample):\n",
    "    temp_type = sample['location_type']\n",
    "    if temp_type in locations_dictionary:\n",
    "        locations_dictionary[temp_type].update([sample['chunk_4'].split()[0]])"
   ]
  },
  {
   "cell_type": "code",
   "execution_count": 214,
   "id": "fb3c0bf0",
   "metadata": {},
   "outputs": [
    {
     "data": {
      "text/plain": [
       "{'территория': {'тер', 'тер-я', 'тер.', 'терр', 'терр.', 'территория'},\n",
       " 'разъезд': {'разъезд', 'рзд', 'рзд.'},\n",
       " 'садовое неком-е товарищество': {'снт', 'снт.'},\n",
       " 'квартал': {'кв-л', 'кв-л.', 'квартал'},\n",
       " 'гаражный кооператив': {'ГКООП', 'гкооп'},\n",
       " 'микрорайон': {'микрорайон', 'мкр', 'мкр.'},\n",
       " 'поселок': {'п', 'п.', 'пос', 'пос-к', 'пос.', 'поселок'},\n",
       " 'дачный населенный пункт': {'дачный'},\n",
       " 'населенный пункт': {'нп', 'нп.'},\n",
       " 'поселок городского типа': {'пгт', 'пгт.'},\n",
       " 'район': {'р-н', 'р-н.', 'район'},\n",
       " 'промышленная зона': {'промзона', 'промышленная'},\n",
       " 'остров': {'о-в', 'остров'},\n",
       " 'участок': {'уч', 'уч.', 'участок'},\n",
       " 'станция': {'ст', 'ст.', 'станция'},\n",
       " 'сад': {'сад'},\n",
       " 'промышленный район': {'п/р'},\n",
       " 'поселок при станции (поселок станции)': {'п.ст', 'п.ст.'},\n",
       " 'село': {'с', 'с.', 'село'},\n",
       " 'платформа': {'платф', 'платф.', 'платформа'},\n",
       " 'деревня': {'Д', 'Д.', 'д', 'д-ня', 'д.', 'деревня'},\n",
       " 'рабочий поселок': {'рп', 'рп.'},\n",
       " 'дачный поселок': {'д/п', 'дп', 'дп.'},\n",
       " 'хутор': {'х', 'х.', 'хутор'},\n",
       " 'площадка': {'пл-ка', 'площадка'},\n",
       " 'казарма': {'к-ма', 'к-ма.', 'казарма'},\n",
       " 'железнодорожная станция': {'ж/д', 'жд'},\n",
       " 'станица': {'ст-ца', 'станица'},\n",
       " 'жилой район': {'ж.', 'ж.р.', 'ж/р', 'ж/р.', 'жилрайон'},\n",
       " 'аул': {'аул', 'аул.'},\n",
       " 'железнодорожный разъезд': {'ж/д'},\n",
       " 'городской поселок': {'г/п', 'гп', 'гп.'},\n",
       " 'сельсовет': {'с/с', 'сельсовет', 'сс', 'сс.'},\n",
       " 'абонентский ящик': {'а/я'},\n",
       " 'железнодорожная будка': {'ж/д'},\n",
       " 'почтовое отделение': {'п/о', 'почтовое'},\n",
       " 'местечко': {'м-ко', 'м-ко.', 'м.', 'местечко'},\n",
       " 'слобода': {'сл', 'сл.', 'слобода'},\n",
       " 'сельское поселение': {'с.п.', 'с/п', 'сп'},\n",
       " 'курортный поселок': {'к.п.', 'кп', 'кп.'},\n",
       " 'местность': {'местность'},\n",
       " 'территория снт': {'территория'},\n",
       " 'садовое товарищество': {'садовое'},\n",
       " 'территория днт': {'территория'},\n",
       " 'территория тсн': {'территория'},\n",
       " 'месторождение': {'м-ние', 'месторождение'},\n",
       " 'территория гск': {'территория'},\n",
       " 'гаражно-строительный кооп.': {'гск', 'гск.'},\n",
       " 'территория сно': {'территория'},\n",
       " 'территория спк': {'территория'},\n",
       " 'массив': {'М', 'М.', 'зона', 'м', 'м-в', 'м.', 'массив'},\n",
       " 'территория пк': {'территория'},\n",
       " 'территория днп': {'территория'},\n",
       " 'территория дно': {'территория'},\n",
       " 'территория снп': {'территория'},\n",
       " 'территория фх': {'территория'},\n",
       " 'дачное неком-е партнерство': {'днп'},\n",
       " 'фермерское хозяйство': {'ф/х', 'ф/х.'},\n",
       " 'парк': {'парк'},\n",
       " 'территория сосн': {'территория'},\n",
       " 'территория онт': {'территория'},\n",
       " 'усадьба': {'ус', 'усадьба'},\n",
       " 'территория дпк': {'территория'},\n",
       " 'набережная': {'наб', 'наб.', 'набережная'},\n",
       " 'порт': {'порт'},\n",
       " 'улица': {'ул', 'ул.', 'улица'},\n",
       " 'дорога': {'дор', 'дор.', 'дорога'},\n",
       " 'вал': {'вал'},\n",
       " 'километр': {'километр', 'км', 'км.'},\n",
       " 'сквер': {'сквер'},\n",
       " 'некоммерческое партнерство': {'Заря', 'Квартал', 'нп', 'нп.'},\n",
       " 'переулок': {'пер.'},\n",
       " 'берег': {'берег'},\n",
       " 'территория оно': {'территория'},\n",
       " 'проезд': {'проезд'}}"
      ]
     },
     "execution_count": 214,
     "metadata": {},
     "output_type": "execute_result"
    }
   ],
   "source": [
    "locations_dictionary"
   ]
  },
  {
   "cell_type": "code",
   "execution_count": 43,
   "id": "8d1d76da",
   "metadata": {
    "collapsed": true
   },
   "outputs": [
    {
     "name": "stderr",
     "output_type": "stream",
     "text": [
      "100%|█████████████████████████████████████████████████████████████████████| 3092979/3092979 [00:21<00:00, 142585.38it/s]\n"
     ]
    },
    {
     "data": {
      "text/plain": [
       "284         None\n",
       "285         None\n",
       "286         None\n",
       "287         None\n",
       "288         None\n",
       "            ... \n",
       "13802326    None\n",
       "13802327    None\n",
       "13802328    None\n",
       "13802329    None\n",
       "13802331    None\n",
       "Length: 3092979, dtype: object"
      ]
     },
     "execution_count": 43,
     "metadata": {},
     "output_type": "execute_result"
    }
   ],
   "source": [
    "location_df.progress_apply(locations_create, axis=1)"
   ]
  },
  {
   "cell_type": "code",
   "execution_count": 46,
   "id": "f63e8b39",
   "metadata": {},
   "outputs": [],
   "source": [
    "#Пусть будет в порядке убывания по количеству\n",
    "unique_location_types = location_df['location_type'].value_counts().index.tolist()"
   ]
  },
  {
   "cell_type": "code",
   "execution_count": 47,
   "id": "e35eeacd",
   "metadata": {},
   "outputs": [],
   "source": [
    "def location_filler(sample):\n",
    "    if len(sample.lstrip()) == 0:\n",
    "        return ['', '']\n",
    "    temp_sample = sample.split()[0]\n",
    "    for location_type in unique_location_types:\n",
    "        if location_type in locations_dictionary and temp_sample in locations_dictionary[location_type]:\n",
    "            return [location_type, ' '.join(sample.split()[1:])]\n",
    "    return ['', '']"
   ]
  },
  {
   "cell_type": "code",
   "execution_count": 48,
   "id": "552c1c87",
   "metadata": {},
   "outputs": [
    {
     "data": {
      "text/plain": [
       "['садовое товарищество', 'товарищество Дон']"
      ]
     },
     "execution_count": 48,
     "metadata": {},
     "output_type": "execute_result"
    }
   ],
   "source": [
    "location_filler('садовое товарищество Дон')"
   ]
  },
  {
   "cell_type": "markdown",
   "id": "8a844e38",
   "metadata": {},
   "source": [
    "### STREET / STREET_TYPE"
   ]
  },
  {
   "cell_type": "code",
   "execution_count": 51,
   "id": "82622743",
   "metadata": {},
   "outputs": [
    {
     "data": {
      "text/html": [
       "<div>\n",
       "<style scoped>\n",
       "    .dataframe tbody tr th:only-of-type {\n",
       "        vertical-align: middle;\n",
       "    }\n",
       "\n",
       "    .dataframe tbody tr th {\n",
       "        vertical-align: top;\n",
       "    }\n",
       "\n",
       "    .dataframe thead th {\n",
       "        text-align: right;\n",
       "    }\n",
       "</style>\n",
       "<table border=\"1\" class=\"dataframe\">\n",
       "  <thead>\n",
       "    <tr style=\"text-align: right;\">\n",
       "      <th></th>\n",
       "      <th>address</th>\n",
       "      <th>street</th>\n",
       "      <th>street_type</th>\n",
       "      <th>chunk_5</th>\n",
       "    </tr>\n",
       "  </thead>\n",
       "  <tbody>\n",
       "    <tr>\n",
       "      <th>9686201</th>\n",
       "      <td>край. Краснодарский; р-н Тбилисский; ст-ца Тби...</td>\n",
       "      <td>Совхозная</td>\n",
       "      <td>улица</td>\n",
       "      <td>ул Совхозная</td>\n",
       "    </tr>\n",
       "    <tr>\n",
       "      <th>4092719</th>\n",
       "      <td>Обл Новгородская; р-н Валдайский; д Долгие Бор...</td>\n",
       "      <td>Центральная</td>\n",
       "      <td>улица</td>\n",
       "      <td>ул. Центральная</td>\n",
       "    </tr>\n",
       "    <tr>\n",
       "      <th>9556707</th>\n",
       "      <td>край Краснодарский; район Ленинградский; ст-ца...</td>\n",
       "      <td>Российская</td>\n",
       "      <td>улица</td>\n",
       "      <td>улица Российская</td>\n",
       "    </tr>\n",
       "    <tr>\n",
       "      <th>8501838</th>\n",
       "      <td>рес. Башкортостан; район Шаранский; село Шаран...</td>\n",
       "      <td>Центральная</td>\n",
       "      <td>улица</td>\n",
       "      <td>улица Центральная</td>\n",
       "    </tr>\n",
       "  </tbody>\n",
       "</table>\n",
       "</div>"
      ],
      "text/plain": [
       "                                                   address       street  \\\n",
       "9686201  край. Краснодарский; р-н Тбилисский; ст-ца Тби...    Совхозная   \n",
       "4092719  Обл Новгородская; р-н Валдайский; д Долгие Бор...  Центральная   \n",
       "9556707  край Краснодарский; район Ленинградский; ст-ца...   Российская   \n",
       "8501838  рес. Башкортостан; район Шаранский; село Шаран...  Центральная   \n",
       "\n",
       "        street_type             chunk_5  \n",
       "9686201       улица        ул Совхозная  \n",
       "4092719       улица     ул. Центральная  \n",
       "9556707       улица    улица Российская  \n",
       "8501838       улица   улица Центральная  "
      ]
     },
     "execution_count": 51,
     "metadata": {},
     "output_type": "execute_result"
    }
   ],
   "source": [
    "street_df = df[df['street'].notna()][['address', 'street', 'street_type', 'chunk_5']]\n",
    "street_df.sample(4)"
   ]
  },
  {
   "cell_type": "code",
   "execution_count": 52,
   "id": "2c769e68",
   "metadata": {},
   "outputs": [],
   "source": [
    "street_types = street_df['street_type'].unique().tolist()"
   ]
  },
  {
   "cell_type": "code",
   "execution_count": 53,
   "id": "88ff06f6",
   "metadata": {},
   "outputs": [],
   "source": [
    "street_dictionary = {street: set() for street in street_types}\n",
    "def street_create(sample):\n",
    "    temp_type = sample['street_type']\n",
    "    if temp_type in street_dictionary:\n",
    "        street_dictionary[temp_type].update([sample['chunk_5'].split()[0]])"
   ]
  },
  {
   "cell_type": "code",
   "execution_count": 54,
   "id": "4ae63f1b",
   "metadata": {},
   "outputs": [
    {
     "name": "stderr",
     "output_type": "stream",
     "text": [
      "100%|███████████████████████████████████████████████████████████████████| 11499576/11499576 [01:21<00:00, 141586.01it/s]\n"
     ]
    },
    {
     "data": {
      "text/plain": [
       "0           None\n",
       "1           None\n",
       "2           None\n",
       "3           None\n",
       "4           None\n",
       "            ... \n",
       "13802326    None\n",
       "13802329    None\n",
       "13802330    None\n",
       "13802332    None\n",
       "13802333    None\n",
       "Length: 11499576, dtype: object"
      ]
     },
     "execution_count": 54,
     "metadata": {},
     "output_type": "execute_result"
    }
   ],
   "source": [
    "street_df.progress_apply(street_create, axis=1)"
   ]
  },
  {
   "cell_type": "code",
   "execution_count": 174,
   "id": "8fdce9b6",
   "metadata": {},
   "outputs": [
    {
     "data": {
      "text/html": [
       "<div>\n",
       "<style scoped>\n",
       "    .dataframe tbody tr th:only-of-type {\n",
       "        vertical-align: middle;\n",
       "    }\n",
       "\n",
       "    .dataframe tbody tr th {\n",
       "        vertical-align: top;\n",
       "    }\n",
       "\n",
       "    .dataframe thead th {\n",
       "        text-align: right;\n",
       "    }\n",
       "</style>\n",
       "<table border=\"1\" class=\"dataframe\">\n",
       "  <thead>\n",
       "    <tr style=\"text-align: right;\">\n",
       "      <th></th>\n",
       "      <th>address</th>\n",
       "      <th>street</th>\n",
       "      <th>street_type</th>\n",
       "      <th>chunk_5</th>\n",
       "    </tr>\n",
       "  </thead>\n",
       "  <tbody>\n",
       "    <tr>\n",
       "      <th>1343615</th>\n",
       "      <td>край. Ставропольский;  ; г Кисловодск;  ; ул К...</td>\n",
       "      <td>Кисловодская</td>\n",
       "      <td>улица</td>\n",
       "      <td>ул Кисловодская</td>\n",
       "    </tr>\n",
       "    <tr>\n",
       "      <th>1293760</th>\n",
       "      <td>край. Приморский;  ; город Уссурийск;  ; улица...</td>\n",
       "      <td>Хенина</td>\n",
       "      <td>улица</td>\n",
       "      <td>улица Хенина</td>\n",
       "    </tr>\n",
       "    <tr>\n",
       "      <th>2119405</th>\n",
       "      <td>Обл. Владимирская; р-н. Кольчугинский; Г. Коль...</td>\n",
       "      <td>Фурманова</td>\n",
       "      <td>улица</td>\n",
       "      <td>улица Фурманова</td>\n",
       "    </tr>\n",
       "    <tr>\n",
       "      <th>11986113</th>\n",
       "      <td>обл. Омская; р-н. Таврический; аул. Коянбай;  ...</td>\n",
       "      <td>Новая</td>\n",
       "      <td>улица</td>\n",
       "      <td>ул Новая</td>\n",
       "    </tr>\n",
       "  </tbody>\n",
       "</table>\n",
       "</div>"
      ],
      "text/plain": [
       "                                                    address        street  \\\n",
       "1343615   край. Ставропольский;  ; г Кисловодск;  ; ул К...  Кисловодская   \n",
       "1293760   край. Приморский;  ; город Уссурийск;  ; улица...        Хенина   \n",
       "2119405   Обл. Владимирская; р-н. Кольчугинский; Г. Коль...     Фурманова   \n",
       "11986113  обл. Омская; р-н. Таврический; аул. Коянбай;  ...         Новая   \n",
       "\n",
       "         street_type           chunk_5  \n",
       "1343615        улица   ул Кисловодская  \n",
       "1293760        улица      улица Хенина  \n",
       "2119405        улица   улица Фурманова  \n",
       "11986113       улица          ул Новая  "
      ]
     },
     "execution_count": 174,
     "metadata": {},
     "output_type": "execute_result"
    }
   ],
   "source": [
    "street_df.sample(4)"
   ]
  },
  {
   "cell_type": "code",
   "execution_count": 175,
   "id": "995a2190",
   "metadata": {},
   "outputs": [
    {
     "name": "stdout",
     "output_type": "stream",
     "text": [
      "рес Башкортостан; район Буздякский; село Канлы-Туркеево;  ; ул Школьная; дом 3/1; 1\n",
      "region                       Башкортостан\n",
      "region_type                    республика\n",
      "municipality                   Буздякский\n",
      "municipality_type                   район\n",
      "settlement                 Канлы-Туркеево\n",
      "settlement_type                      село\n",
      "location                              NaN\n",
      "location_type                         NaN\n",
      "street                           Школьная\n",
      "street_type                         улица\n",
      "house                             дом 3/1\n",
      "source                                  1\n",
      "chunk_1                  рес Башкортостан\n",
      "chunk_2                  район Буздякский\n",
      "chunk_3               село Канлы-Туркеево\n",
      "chunk_4                                  \n",
      "chunk_5                       ул Школьная\n",
      "chunk_6                           дом 3/1\n",
      "chunk_7                                 1\n",
      "Name: 8539938, dtype: object\n"
     ]
    }
   ],
   "source": [
    "printer(8539938)"
   ]
  },
  {
   "cell_type": "code",
   "execution_count": 182,
   "id": "734ea543",
   "metadata": {},
   "outputs": [
    {
     "data": {
      "text/plain": [
       "['улица', 'Школьная']"
      ]
     },
     "execution_count": 182,
     "metadata": {},
     "output_type": "execute_result"
    }
   ],
   "source": [
    "street_filler(df.iloc[8539938]['chunk_5'])"
   ]
  },
  {
   "cell_type": "code",
   "execution_count": 181,
   "id": "d7ca32f0",
   "metadata": {},
   "outputs": [
    {
     "data": {
      "text/plain": [
       "region_type              республика\n",
       "region                 Башкортостан\n",
       "municipality_type             район\n",
       "municipality             Буздякский\n",
       "settlement_type                село\n",
       "settlement           Канлы-Туркеево\n",
       "location_type                      \n",
       "location                           \n",
       "street_type                     NaN\n",
       "street                          NaN\n",
       "house                       дом 3/1\n",
       "source                            1\n",
       "Name: 8539938, dtype: object"
      ]
     },
     "execution_count": 181,
     "metadata": {},
     "output_type": "execute_result"
    }
   ],
   "source": [
    "val_set.iloc[8539938]"
   ]
  },
  {
   "cell_type": "code",
   "execution_count": 164,
   "id": "22216617",
   "metadata": {},
   "outputs": [
    {
     "data": {
      "text/html": [
       "<div>\n",
       "<style scoped>\n",
       "    .dataframe tbody tr th:only-of-type {\n",
       "        vertical-align: middle;\n",
       "    }\n",
       "\n",
       "    .dataframe tbody tr th {\n",
       "        vertical-align: top;\n",
       "    }\n",
       "\n",
       "    .dataframe thead th {\n",
       "        text-align: right;\n",
       "    }\n",
       "</style>\n",
       "<table border=\"1\" class=\"dataframe\">\n",
       "  <thead>\n",
       "    <tr style=\"text-align: right;\">\n",
       "      <th></th>\n",
       "      <th>street</th>\n",
       "      <th>street_type</th>\n",
       "    </tr>\n",
       "  </thead>\n",
       "  <tbody>\n",
       "    <tr>\n",
       "      <th>900948</th>\n",
       "      <td>Луговой</td>\n",
       "      <td>переулок</td>\n",
       "    </tr>\n",
       "    <tr>\n",
       "      <th>8539938</th>\n",
       "      <td>NaN</td>\n",
       "      <td>NaN</td>\n",
       "    </tr>\n",
       "    <tr>\n",
       "      <th>3812300</th>\n",
       "      <td>Центральная</td>\n",
       "      <td>улица</td>\n",
       "    </tr>\n",
       "    <tr>\n",
       "      <th>215922</th>\n",
       "      <td>Полковая</td>\n",
       "      <td>улица</td>\n",
       "    </tr>\n",
       "  </tbody>\n",
       "</table>\n",
       "</div>"
      ],
      "text/plain": [
       "              street street_type\n",
       "900948       Луговой    переулок\n",
       "8539938          NaN         NaN\n",
       "3812300  Центральная       улица\n",
       "215922      Полковая       улица"
      ]
     },
     "execution_count": 164,
     "metadata": {},
     "output_type": "execute_result"
    }
   ],
   "source": [
    "val_set[['street', 'street_type']].sample(4)"
   ]
  },
  {
   "cell_type": "code",
   "execution_count": 95,
   "id": "14f39f86",
   "metadata": {},
   "outputs": [
    {
     "data": {
      "text/plain": [
       "{'переулок': {'пер-к', 'пер.', 'переулок'},\n",
       " 'проспект': {'пр-кт', 'пр-кт.', 'проспект'},\n",
       " 'улица': {'ул', 'ул.', 'улица'},\n",
       " 'километр': {'километр', 'км', 'км.'},\n",
       " 'переезд': {'пер-д', 'переезд'},\n",
       " 'проулок': {'проул', 'проул.', 'проулок'},\n",
       " 'проезд': {'пр-д', 'проезд'},\n",
       " 'микрорайон': {'микрорайон', 'мкр', 'мкр.'},\n",
       " 'зона': {'зона'},\n",
       " 'шоссе': {'ш', 'ш.', 'шоссе'},\n",
       " 'гаражный кооператив': {'ГКООП', 'гкооп'},\n",
       " 'дорога': {'дор', 'дор.', 'дорога'},\n",
       " 'бульвар': {'б-р', 'бульвар'},\n",
       " 'аллея': {'аллея'},\n",
       " 'тракт': {'тракт'},\n",
       " 'парк': {'парк'},\n",
       " 'ряд(ы)': {'ряд', 'ряды'},\n",
       " 'заезд': {'заезд'},\n",
       " 'набережная': {'наб', 'наб.', 'набережная'},\n",
       " 'линия': {'линия', 'лн', 'лн.'},\n",
       " 'площадь': {'пл', 'пл.', 'площадь'},\n",
       " 'фермерское хозяйство': {'ф/х', 'ф/х.'},\n",
       " 'ферма': {'ф', 'ф.', 'ферма'},\n",
       " 'тупик': {'туп', 'туп.', 'тупик'},\n",
       " 'сквер': {'сквер'},\n",
       " 'просека': {'пр-ка', 'просека'},\n",
       " 'вал': {'вал'},\n",
       " 'коса': {'коса'},\n",
       " 'спуск': {'спуск'},\n",
       " 'квартал': {'кв-л', 'кв-л.', 'квартал'},\n",
       " 'магистраль': {'магистраль', 'мгстр', 'мгстр.'},\n",
       " 'въезд': {'въезд'},\n",
       " 'проселок': {'пр-лок', 'проселок'},\n",
       " 'территория': {'тер', 'тер-я', 'тер.', 'терр', 'терр.', 'территория'},\n",
       " 'сад': {'сад'},\n",
       " 'участок': {'уч', 'уч.', 'участок'},\n",
       " 'кольцо': {'к-цо', 'кольцо'},\n",
       " 'разъезд': {'разъезд', 'рзд', 'рзд.'},\n",
       " 'гаражно-строительный кооп.': {'гск', 'гск.'},\n",
       " 'станция': {'ст', 'ст.', 'станция'},\n",
       " 'садовое неком-е товарищество': {'снт', 'снт.'},\n",
       " 'местечко': {'м-ко', 'м-ко.', 'м.', 'местечко'},\n",
       " 'поселок': {'п', 'п.', 'пос', 'пос-к', 'пос.', 'поселок'},\n",
       " 'местность': {'местность'},\n",
       " 'городок': {'г-к', 'г-к.', 'городок'},\n",
       " 'железнодорожная станция': {'ж/д', 'жд'},\n",
       " 'строение': {'стр', 'стр.', 'строение'},\n",
       " 'животноводческая точка': {'ж.т.', 'жт'},\n",
       " 'поселок и(при) станция(и)': {'п.ст.', 'п/ст', 'п/ст.'},\n",
       " 'хутор': {'х', 'х.', 'хутор'},\n",
       " 'остров': {'о-в', 'остров'},\n",
       " 'слобода': {'сл', 'сл.', 'слобода'},\n",
       " 'железнодорожная будка': {'ж/д'},\n",
       " 'площадка': {'пл-ка', 'площадка'},\n",
       " 'абонентский ящик': {'а/я'},\n",
       " 'железнодорожный разъезд': {'ж/д'},\n",
       " 'казарма': {'к-ма', 'к-ма.', 'казарма'},\n",
       " 'населенный пункт': {'нп', 'нп.'},\n",
       " 'деревня': {'Д', 'Д.', 'д', 'д-ня', 'д.', 'деревня'},\n",
       " 'платформа': {'платф', 'платф.', 'платформа'},\n",
       " 'территория снт': {'территория'},\n",
       " 'почтовое отделение': {'п/о', 'почтовое'},\n",
       " 'садовое товарищество': {'садовое'},\n",
       " 'ж/д останов. (обгонный) пункт': {'ж/д'},\n",
       " 'железнодорожная казарма': {'ж/д'},\n",
       " 'железнодорожный пост': {'ж/д'},\n",
       " 'село': {'с', 'с.', 'село'},\n",
       " 'съезд': {'сзд.', 'съезд'},\n",
       " 'промышленная зона': {'промзона', 'промышленная'},\n",
       " 'взвоз': {'взв', 'взв.', 'взвоз'},\n",
       " 'железнодорожная платформа': {'ж/д'}}"
      ]
     },
     "execution_count": 95,
     "metadata": {},
     "output_type": "execute_result"
    }
   ],
   "source": [
    "street_dictionary"
   ]
  },
  {
   "cell_type": "code",
   "execution_count": 183,
   "id": "6b28e813",
   "metadata": {},
   "outputs": [
    {
     "data": {
      "text/plain": [
       "'  '"
      ]
     },
     "execution_count": 183,
     "metadata": {},
     "output_type": "execute_result"
    }
   ],
   "source": [
    "df.iloc[5925079]['chunk_5']"
   ]
  },
  {
   "cell_type": "code",
   "execution_count": 189,
   "id": "3c36573a",
   "metadata": {},
   "outputs": [
    {
     "data": {
      "text/plain": [
       "['', '']"
      ]
     },
     "execution_count": 189,
     "metadata": {},
     "output_type": "execute_result"
    }
   ],
   "source": [
    "street_filler(df.iloc[5925079]['chunk_5'])"
   ]
  },
  {
   "cell_type": "code",
   "execution_count": 190,
   "id": "a2336d58",
   "metadata": {},
   "outputs": [],
   "source": [
    "unique_street_types = street_df['street_type'].value_counts().index.tolist()"
   ]
  },
  {
   "cell_type": "code",
   "execution_count": 191,
   "id": "04ea8eba",
   "metadata": {},
   "outputs": [],
   "source": [
    "def street_filler(sample):\n",
    "    if len(sample.lstrip()) == 0:\n",
    "        return ['', '']\n",
    "    temp_sample = sample.split()[0]\n",
    "    for street_type in unique_street_types:\n",
    "        if street_type in street_dictionary and temp_sample in street_dictionary[street_type]:\n",
    "            return [street_type, ' '.join(sample.split()[1:])]\n",
    "    return ['', '']"
   ]
  },
  {
   "cell_type": "code",
   "execution_count": 192,
   "id": "fe33c1bb",
   "metadata": {},
   "outputs": [
    {
     "data": {
      "text/plain": [
       "['переулок', 'Песчаный']"
      ]
     },
     "execution_count": 192,
     "metadata": {},
     "output_type": "execute_result"
    }
   ],
   "source": [
    "street_filler('переулок Песчаный')"
   ]
  },
  {
   "cell_type": "markdown",
   "id": "c5a87e00",
   "metadata": {},
   "source": [
    "### HOUSE"
   ]
  },
  {
   "cell_type": "code",
   "execution_count": 59,
   "id": "9011ff6e",
   "metadata": {},
   "outputs": [
    {
     "data": {
      "text/html": [
       "<div>\n",
       "<style scoped>\n",
       "    .dataframe tbody tr th:only-of-type {\n",
       "        vertical-align: middle;\n",
       "    }\n",
       "\n",
       "    .dataframe tbody tr th {\n",
       "        vertical-align: top;\n",
       "    }\n",
       "\n",
       "    .dataframe thead th {\n",
       "        text-align: right;\n",
       "    }\n",
       "</style>\n",
       "<table border=\"1\" class=\"dataframe\">\n",
       "  <thead>\n",
       "    <tr style=\"text-align: right;\">\n",
       "      <th></th>\n",
       "      <th>address</th>\n",
       "      <th>house</th>\n",
       "      <th>chunk_6</th>\n",
       "    </tr>\n",
       "  </thead>\n",
       "  <tbody>\n",
       "    <tr>\n",
       "      <th>2354326</th>\n",
       "      <td>Обл Воронежская;  ; Г Воронеж;  ; проспект Раб...</td>\n",
       "      <td>дом 33</td>\n",
       "      <td>дом 33</td>\n",
       "    </tr>\n",
       "    <tr>\n",
       "      <th>3058393</th>\n",
       "      <td>Обл Кемеровская; р-н Ленинск-Кузнецкий; д. Тре...</td>\n",
       "      <td>дом 13</td>\n",
       "      <td>дом 13</td>\n",
       "    </tr>\n",
       "    <tr>\n",
       "      <th>10742336</th>\n",
       "      <td>обл. Воронежская; р-н Каширский; село Олень-Ко...</td>\n",
       "      <td>дом 48</td>\n",
       "      <td>дом 48</td>\n",
       "    </tr>\n",
       "    <tr>\n",
       "      <th>7283345</th>\n",
       "      <td>республика Карелия; р-н Калевальский; пгт Кале...</td>\n",
       "      <td>дом 58</td>\n",
       "      <td>дом 58</td>\n",
       "    </tr>\n",
       "  </tbody>\n",
       "</table>\n",
       "</div>"
      ],
      "text/plain": [
       "                                                    address   house  chunk_6\n",
       "2354326   Обл Воронежская;  ; Г Воронеж;  ; проспект Раб...  дом 33   дом 33\n",
       "3058393   Обл Кемеровская; р-н Ленинск-Кузнецкий; д. Тре...  дом 13   дом 13\n",
       "10742336  обл. Воронежская; р-н Каширский; село Олень-Ко...  дом 48   дом 48\n",
       "7283345   республика Карелия; р-н Калевальский; пгт Кале...  дом 58   дом 58"
      ]
     },
     "execution_count": 59,
     "metadata": {},
     "output_type": "execute_result"
    }
   ],
   "source": [
    "house_df = df[df['house'].notna()][['address', 'house', 'chunk_6']]\n",
    "house_df.sample(4)"
   ]
  },
  {
   "cell_type": "code",
   "execution_count": 60,
   "id": "1104fd4b",
   "metadata": {},
   "outputs": [
    {
     "data": {
      "text/plain": [
       "9477"
      ]
     },
     "execution_count": 60,
     "metadata": {},
     "output_type": "execute_result"
    }
   ],
   "source": [
    "#Очень много разных домов\n",
    "a = pd.DataFrame(house_df['house'].str.split(expand=True))\n",
    "len(a[0].unique().tolist())"
   ]
  },
  {
   "cell_type": "code",
   "execution_count": 61,
   "id": "0ad3a94e",
   "metadata": {},
   "outputs": [
    {
     "data": {
      "text/plain": [
       "1.0"
      ]
     },
     "execution_count": 61,
     "metadata": {},
     "output_type": "execute_result"
    }
   ],
   "source": [
    "#Чанки полностью совпадают с house\n",
    "(house_df['house'] == house_df['chunk_6'].apply(lambda x: x.lstrip())).sum() / len(house_df)"
   ]
  },
  {
   "cell_type": "code",
   "execution_count": 62,
   "id": "930ced96",
   "metadata": {},
   "outputs": [],
   "source": [
    "def house_filler(sample):\n",
    "    return sample.lstrip()"
   ]
  },
  {
   "cell_type": "code",
   "execution_count": 63,
   "id": "6b65a341",
   "metadata": {},
   "outputs": [
    {
     "data": {
      "text/plain": [
       "'дом 12/46 строение 26'"
      ]
     },
     "execution_count": 63,
     "metadata": {},
     "output_type": "execute_result"
    }
   ],
   "source": [
    "house_filler('  дом 12/46 строение 26')"
   ]
  },
  {
   "cell_type": "markdown",
   "id": "38d0b7e6",
   "metadata": {},
   "source": [
    "### SOURCE"
   ]
  },
  {
   "cell_type": "code",
   "execution_count": 64,
   "id": "83b1faf4",
   "metadata": {},
   "outputs": [
    {
     "data": {
      "text/html": [
       "<div>\n",
       "<style scoped>\n",
       "    .dataframe tbody tr th:only-of-type {\n",
       "        vertical-align: middle;\n",
       "    }\n",
       "\n",
       "    .dataframe tbody tr th {\n",
       "        vertical-align: top;\n",
       "    }\n",
       "\n",
       "    .dataframe thead th {\n",
       "        text-align: right;\n",
       "    }\n",
       "</style>\n",
       "<table border=\"1\" class=\"dataframe\">\n",
       "  <thead>\n",
       "    <tr style=\"text-align: right;\">\n",
       "      <th></th>\n",
       "      <th>address</th>\n",
       "      <th>source</th>\n",
       "      <th>chunk_7</th>\n",
       "    </tr>\n",
       "  </thead>\n",
       "  <tbody>\n",
       "    <tr>\n",
       "      <th>7156032</th>\n",
       "      <td>респ Кабардино-Балкарская; район Майский; горо...</td>\n",
       "      <td>1</td>\n",
       "      <td>1</td>\n",
       "    </tr>\n",
       "    <tr>\n",
       "      <th>97055</th>\n",
       "      <td>Аокр Ямало-Ненецкий;  ; Г. Ноябрьск; территори...</td>\n",
       "      <td>2</td>\n",
       "      <td>2</td>\n",
       "    </tr>\n",
       "    <tr>\n",
       "      <th>9568828</th>\n",
       "      <td>край Краснодарский; Г. Краснодар; х Октябрьски...</td>\n",
       "      <td>1</td>\n",
       "      <td>1</td>\n",
       "    </tr>\n",
       "    <tr>\n",
       "      <th>6116525</th>\n",
       "      <td>обл. Тюменская;  ; г. Тюмень;  ; тракт Старый ...</td>\n",
       "      <td>2</td>\n",
       "      <td>2</td>\n",
       "    </tr>\n",
       "  </tbody>\n",
       "</table>\n",
       "</div>"
      ],
      "text/plain": [
       "                                                   address  source chunk_7\n",
       "7156032  респ Кабардино-Балкарская; район Майский; горо...       1       1\n",
       "97055    Аокр Ямало-Ненецкий;  ; Г. Ноябрьск; территори...       2       2\n",
       "9568828  край Краснодарский; Г. Краснодар; х Октябрьски...       1       1\n",
       "6116525  обл. Тюменская;  ; г. Тюмень;  ; тракт Старый ...       2       2"
      ]
     },
     "execution_count": 64,
     "metadata": {},
     "output_type": "execute_result"
    }
   ],
   "source": [
    "source_df = df[df['source'].notna()][['address', 'source', 'chunk_7']]\n",
    "source_df.sample(4)"
   ]
  },
  {
   "cell_type": "code",
   "execution_count": 142,
   "id": "fac92c08",
   "metadata": {},
   "outputs": [],
   "source": [
    "def source_filler(sample):\n",
    "    return int(sample)"
   ]
  },
  {
   "cell_type": "markdown",
   "id": "029a99c2",
   "metadata": {},
   "source": [
    "## BOOM!!!"
   ]
  },
  {
   "cell_type": "code",
   "execution_count": 66,
   "id": "b4c84cb6",
   "metadata": {},
   "outputs": [],
   "source": [
    "df_test = pd.read_csv(TEST_PATH, encoding='windows-1251')"
   ]
  },
  {
   "cell_type": "code",
   "execution_count": 67,
   "id": "17dac9dd",
   "metadata": {},
   "outputs": [],
   "source": [
    "df_test[[f'chunk_{i + 1}' for i in range(7)]] = df_test['address'].str.split(';', expand=True)"
   ]
  },
  {
   "cell_type": "code",
   "execution_count": 68,
   "id": "b8bf3e28",
   "metadata": {},
   "outputs": [
    {
     "name": "stdout",
     "output_type": "stream",
     "text": [
      "<class 'pandas.core.frame.DataFrame'>\n",
      "RangeIndex: 5112420 entries, 0 to 5112419\n",
      "Data columns (total 8 columns):\n",
      " #   Column   Dtype \n",
      "---  ------   ----- \n",
      " 0   address  object\n",
      " 1   chunk_1  object\n",
      " 2   chunk_2  object\n",
      " 3   chunk_3  object\n",
      " 4   chunk_4  object\n",
      " 5   chunk_5  object\n",
      " 6   chunk_6  object\n",
      " 7   chunk_7  object\n",
      "dtypes: object(8)\n",
      "memory usage: 312.0+ MB\n"
     ]
    }
   ],
   "source": [
    "df_test.info()"
   ]
  },
  {
   "cell_type": "code",
   "execution_count": 69,
   "id": "50682aa6",
   "metadata": {},
   "outputs": [
    {
     "data": {
      "text/html": [
       "<div>\n",
       "<style scoped>\n",
       "    .dataframe tbody tr th:only-of-type {\n",
       "        vertical-align: middle;\n",
       "    }\n",
       "\n",
       "    .dataframe tbody tr th {\n",
       "        vertical-align: top;\n",
       "    }\n",
       "\n",
       "    .dataframe thead th {\n",
       "        text-align: right;\n",
       "    }\n",
       "</style>\n",
       "<table border=\"1\" class=\"dataframe\">\n",
       "  <thead>\n",
       "    <tr style=\"text-align: right;\">\n",
       "      <th></th>\n",
       "      <th>address</th>\n",
       "      <th>chunk_1</th>\n",
       "      <th>chunk_2</th>\n",
       "      <th>chunk_3</th>\n",
       "      <th>chunk_4</th>\n",
       "      <th>chunk_5</th>\n",
       "      <th>chunk_6</th>\n",
       "      <th>chunk_7</th>\n",
       "    </tr>\n",
       "  </thead>\n",
       "  <tbody>\n",
       "    <tr>\n",
       "      <th>1437998</th>\n",
       "      <td>обл. Мурманская; р-н. Ловозерский; село Красно...</td>\n",
       "      <td>обл. Мурманская</td>\n",
       "      <td>р-н. Ловозерский</td>\n",
       "      <td>село Краснощелье</td>\n",
       "      <td></td>\n",
       "      <td>ул Набережная</td>\n",
       "      <td>дом 38</td>\n",
       "      <td>1</td>\n",
       "    </tr>\n",
       "    <tr>\n",
       "      <th>4581997</th>\n",
       "      <td>Край Пермский; р-н Пермский; д-ня Одина;  ; сн...</td>\n",
       "      <td>Край Пермский</td>\n",
       "      <td>р-н Пермский</td>\n",
       "      <td>д-ня Одина</td>\n",
       "      <td></td>\n",
       "      <td>снт Одино</td>\n",
       "      <td>дом 2</td>\n",
       "      <td>1</td>\n",
       "    </tr>\n",
       "    <tr>\n",
       "      <th>3799246</th>\n",
       "      <td>Обл Белгородская; р-н. Белгородский; пгт. Разу...</td>\n",
       "      <td>Обл Белгородская</td>\n",
       "      <td>р-н. Белгородский</td>\n",
       "      <td>пгт. Разумное</td>\n",
       "      <td></td>\n",
       "      <td>улица Садовая</td>\n",
       "      <td>дом 60</td>\n",
       "      <td>1</td>\n",
       "    </tr>\n",
       "    <tr>\n",
       "      <th>1419545</th>\n",
       "      <td>обл. Московская;  ; г Шатура;  ; б-р Мира; дом...</td>\n",
       "      <td>обл. Московская</td>\n",
       "      <td></td>\n",
       "      <td>г Шатура</td>\n",
       "      <td></td>\n",
       "      <td>б-р Мира</td>\n",
       "      <td>дом 30</td>\n",
       "      <td>2</td>\n",
       "    </tr>\n",
       "    <tr>\n",
       "      <th>3035356</th>\n",
       "      <td>рес Чеченская;  ; Г. Грозный;  ; ул Ашхабадска...</td>\n",
       "      <td>рес Чеченская</td>\n",
       "      <td></td>\n",
       "      <td>Г. Грозный</td>\n",
       "      <td></td>\n",
       "      <td>ул Ашхабадская</td>\n",
       "      <td>дом 40</td>\n",
       "      <td>1</td>\n",
       "    </tr>\n",
       "    <tr>\n",
       "      <th>2595253</th>\n",
       "      <td>респ Дагестан;  ; город Хасавюрт; микрорайон В...</td>\n",
       "      <td>респ Дагестан</td>\n",
       "      <td></td>\n",
       "      <td>город Хасавюрт</td>\n",
       "      <td>микрорайон Восточный</td>\n",
       "      <td>улица Коваленко П.В.</td>\n",
       "      <td>дом 47</td>\n",
       "      <td>2</td>\n",
       "    </tr>\n",
       "  </tbody>\n",
       "</table>\n",
       "</div>"
      ],
      "text/plain": [
       "                                                   address           chunk_1  \\\n",
       "1437998  обл. Мурманская; р-н. Ловозерский; село Красно...   обл. Мурманская   \n",
       "4581997  Край Пермский; р-н Пермский; д-ня Одина;  ; сн...     Край Пермский   \n",
       "3799246  Обл Белгородская; р-н. Белгородский; пгт. Разу...  Обл Белгородская   \n",
       "1419545  обл. Московская;  ; г Шатура;  ; б-р Мира; дом...   обл. Московская   \n",
       "3035356  рес Чеченская;  ; Г. Грозный;  ; ул Ашхабадска...     рес Чеченская   \n",
       "2595253  респ Дагестан;  ; город Хасавюрт; микрорайон В...     респ Дагестан   \n",
       "\n",
       "                    chunk_2            chunk_3                chunk_4  \\\n",
       "1437998    р-н. Ловозерский   село Краснощелье                          \n",
       "4581997        р-н Пермский         д-ня Одина                          \n",
       "3799246   р-н. Белгородский      пгт. Разумное                          \n",
       "1419545                               г Шатура                          \n",
       "3035356                             Г. Грозный                          \n",
       "2595253                         город Хасавюрт   микрорайон Восточный   \n",
       "\n",
       "                       chunk_5  chunk_6 chunk_7  \n",
       "1437998          ул Набережная   дом 38       1  \n",
       "4581997              снт Одино    дом 2       1  \n",
       "3799246          улица Садовая   дом 60       1  \n",
       "1419545               б-р Мира   дом 30       2  \n",
       "3035356         ул Ашхабадская   дом 40       1  \n",
       "2595253   улица Коваленко П.В.   дом 47       2  "
      ]
     },
     "execution_count": 69,
     "metadata": {},
     "output_type": "execute_result"
    }
   ],
   "source": [
    "df_test.sample(6)"
   ]
  },
  {
   "cell_type": "code",
   "execution_count": 70,
   "id": "e7351b3a",
   "metadata": {},
   "outputs": [],
   "source": [
    "sample_subm = pd.read_csv(SAMPLE_SUB_PATH, encoding='windows-1251')"
   ]
  },
  {
   "cell_type": "code",
   "execution_count": 71,
   "id": "2ea0b181",
   "metadata": {},
   "outputs": [
    {
     "data": {
      "text/plain": [
       "Index(['region', 'region_type', 'municipality', 'municipality_type',\n",
       "       'settlement', 'settlement_type', 'location', 'location_type', 'street',\n",
       "       'street_type', 'house', 'source'],\n",
       "      dtype='object')"
      ]
     },
     "execution_count": 71,
     "metadata": {},
     "output_type": "execute_result"
    }
   ],
   "source": [
    "sample_subm.columns"
   ]
  },
  {
   "cell_type": "code",
   "execution_count": null,
   "id": "e333b924",
   "metadata": {},
   "outputs": [],
   "source": [
    "78265 5083295"
   ]
  },
  {
   "cell_type": "code",
   "execution_count": 72,
   "id": "8c437363",
   "metadata": {},
   "outputs": [
    {
     "name": "stderr",
     "output_type": "stream",
     "text": [
      "100%|█████████████████████████████████████████████████████████████████████| 5112420/5112420 [00:25<00:00, 198512.28it/s]\n"
     ]
    }
   ],
   "source": [
    "sample_subm[['region_type', 'region']] = pd.DataFrame(df_test['chunk_1'].progress_apply(region_filler).tolist(),\n",
    "                                                      columns=['region_type', 'region'])"
   ]
  },
  {
   "cell_type": "code",
   "execution_count": 73,
   "id": "ae1244d5",
   "metadata": {},
   "outputs": [
    {
     "name": "stderr",
     "output_type": "stream",
     "text": [
      "100%|█████████████████████████████████████████████████████████████████████| 5112420/5112420 [00:10<00:00, 490988.63it/s]\n"
     ]
    }
   ],
   "source": [
    "sample_subm[['municipality_type', 'municipality']] = pd.DataFrame(df_test['chunk_2'].progress_apply(municipality_filler).tolist(),\n",
    "                                                                  columns=['municipality_type', 'municipality'])"
   ]
  },
  {
   "cell_type": "code",
   "execution_count": 74,
   "id": "3c08bb15",
   "metadata": {},
   "outputs": [
    {
     "name": "stderr",
     "output_type": "stream",
     "text": [
      "100%|█████████████████████████████████████████████████████████████████████| 5112420/5112420 [00:11<00:00, 437870.85it/s]\n"
     ]
    }
   ],
   "source": [
    "sample_subm[['settlement_type', 'settlement']] = pd.DataFrame(df_test['chunk_3'].progress_apply(settlement_filler).tolist(),\n",
    "                                                                  columns=['settlement_type', 'settlement'])"
   ]
  },
  {
   "cell_type": "code",
   "execution_count": 75,
   "id": "49deda04",
   "metadata": {},
   "outputs": [
    {
     "name": "stderr",
     "output_type": "stream",
     "text": [
      "100%|█████████████████████████████████████████████████████████████████████| 5112420/5112420 [00:08<00:00, 592863.34it/s]\n"
     ]
    }
   ],
   "source": [
    "sample_subm[['location_type', 'location']] = pd.DataFrame(df_test['chunk_4'].progress_apply(location_filler).tolist(),\n",
    "                                                                  columns=['location_type', 'location'])"
   ]
  },
  {
   "cell_type": "code",
   "execution_count": 76,
   "id": "8b24c6fe",
   "metadata": {},
   "outputs": [
    {
     "name": "stderr",
     "output_type": "stream",
     "text": [
      "100%|█████████████████████████████████████████████████████████████████████| 5112420/5112420 [00:14<00:00, 360099.58it/s]\n"
     ]
    }
   ],
   "source": [
    "sample_subm[['street_type', 'street']] = pd.DataFrame(df_test['chunk_5'].progress_apply(street_filler).tolist(),\n",
    "                                                                  columns=['street_type', 'street'])"
   ]
  },
  {
   "cell_type": "code",
   "execution_count": 143,
   "id": "7bf9d0e5",
   "metadata": {},
   "outputs": [
    {
     "name": "stderr",
     "output_type": "stream",
     "text": [
      "100%|████████████████████████████████████████████████████████████████████| 5112420/5112420 [00:03<00:00, 1372724.49it/s]\n",
      "100%|████████████████████████████████████████████████████████████████████| 5112420/5112420 [00:04<00:00, 1203634.17it/s]\n"
     ]
    }
   ],
   "source": [
    "sample_subm['house'] = df_test['chunk_6'].progress_apply(house_filler)\n",
    "sample_subm['source'] = df_test['chunk_7'].progress_apply(source_filler)"
   ]
  },
  {
   "cell_type": "code",
   "execution_count": 144,
   "id": "ffd88246",
   "metadata": {},
   "outputs": [
    {
     "data": {
      "text/html": [
       "<div>\n",
       "<style scoped>\n",
       "    .dataframe tbody tr th:only-of-type {\n",
       "        vertical-align: middle;\n",
       "    }\n",
       "\n",
       "    .dataframe tbody tr th {\n",
       "        vertical-align: top;\n",
       "    }\n",
       "\n",
       "    .dataframe thead th {\n",
       "        text-align: right;\n",
       "    }\n",
       "</style>\n",
       "<table border=\"1\" class=\"dataframe\">\n",
       "  <thead>\n",
       "    <tr style=\"text-align: right;\">\n",
       "      <th></th>\n",
       "      <th>region</th>\n",
       "      <th>region_type</th>\n",
       "      <th>municipality</th>\n",
       "      <th>municipality_type</th>\n",
       "      <th>settlement</th>\n",
       "      <th>settlement_type</th>\n",
       "      <th>location</th>\n",
       "      <th>location_type</th>\n",
       "      <th>street</th>\n",
       "      <th>street_type</th>\n",
       "      <th>house</th>\n",
       "      <th>source</th>\n",
       "    </tr>\n",
       "  </thead>\n",
       "  <tbody>\n",
       "    <tr>\n",
       "      <th>1154570</th>\n",
       "      <td>Кировская</td>\n",
       "      <td>область</td>\n",
       "      <td>Верхнекамский</td>\n",
       "      <td>район</td>\n",
       "      <td>Кочкино</td>\n",
       "      <td>деревня</td>\n",
       "      <td></td>\n",
       "      <td></td>\n",
       "      <td>Верховская</td>\n",
       "      <td>улица</td>\n",
       "      <td>дом 28</td>\n",
       "      <td>2</td>\n",
       "    </tr>\n",
       "    <tr>\n",
       "      <th>4647574</th>\n",
       "      <td>Ростовская</td>\n",
       "      <td>область</td>\n",
       "      <td>Сальский</td>\n",
       "      <td>район</td>\n",
       "      <td>Сальск</td>\n",
       "      <td>город</td>\n",
       "      <td></td>\n",
       "      <td></td>\n",
       "      <td>Энергетиков</td>\n",
       "      <td>улица</td>\n",
       "      <td>дом 48</td>\n",
       "      <td>1</td>\n",
       "    </tr>\n",
       "    <tr>\n",
       "      <th>3008462</th>\n",
       "      <td>Хакасия</td>\n",
       "      <td>республика</td>\n",
       "      <td></td>\n",
       "      <td></td>\n",
       "      <td>Саяногорск</td>\n",
       "      <td>город</td>\n",
       "      <td></td>\n",
       "      <td></td>\n",
       "      <td>Первомайская</td>\n",
       "      <td>улица</td>\n",
       "      <td>дом 8/1</td>\n",
       "      <td>2</td>\n",
       "    </tr>\n",
       "    <tr>\n",
       "      <th>464136</th>\n",
       "      <td>Приморский</td>\n",
       "      <td>край</td>\n",
       "      <td></td>\n",
       "      <td></td>\n",
       "      <td>Владивосток</td>\n",
       "      <td>город</td>\n",
       "      <td></td>\n",
       "      <td></td>\n",
       "      <td>Шилкинская</td>\n",
       "      <td>улица</td>\n",
       "      <td>дом 6В</td>\n",
       "      <td>2</td>\n",
       "    </tr>\n",
       "    <tr>\n",
       "      <th>300176</th>\n",
       "      <td>Краснодарский</td>\n",
       "      <td>край</td>\n",
       "      <td>Гулькевичский</td>\n",
       "      <td>район</td>\n",
       "      <td>Гулькевичи</td>\n",
       "      <td>город</td>\n",
       "      <td></td>\n",
       "      <td></td>\n",
       "      <td>Луговая</td>\n",
       "      <td>улица</td>\n",
       "      <td>дом 13</td>\n",
       "      <td>1</td>\n",
       "    </tr>\n",
       "  </tbody>\n",
       "</table>\n",
       "</div>"
      ],
      "text/plain": [
       "                region region_type   municipality municipality_type  \\\n",
       "1154570      Кировская     область  Верхнекамский             район   \n",
       "4647574     Ростовская     область       Сальский             район   \n",
       "3008462        Хакасия  республика                                    \n",
       "464136      Приморский        край                                    \n",
       "300176   Краснодарский        край  Гулькевичский             район   \n",
       "\n",
       "          settlement settlement_type location location_type        street  \\\n",
       "1154570      Кочкино         деревня                           Верховская   \n",
       "4647574       Сальск           город                          Энергетиков   \n",
       "3008462   Саяногорск           город                         Первомайская   \n",
       "464136   Владивосток           город                           Шилкинская   \n",
       "300176    Гулькевичи           город                              Луговая   \n",
       "\n",
       "        street_type    house  source  \n",
       "1154570       улица   дом 28       2  \n",
       "4647574       улица   дом 48       1  \n",
       "3008462       улица  дом 8/1       2  \n",
       "464136        улица   дом 6В       2  \n",
       "300176        улица   дом 13       1  "
      ]
     },
     "execution_count": 144,
     "metadata": {},
     "output_type": "execute_result"
    }
   ],
   "source": [
    "sample_subm.sample(5)"
   ]
  },
  {
   "cell_type": "code",
   "execution_count": 145,
   "id": "8a9b3ee0",
   "metadata": {},
   "outputs": [],
   "source": [
    "sample_subm.to_csv('sub_second_0_90p_source.csv', index=False, encoding=\"windows-1251\")"
   ]
  },
  {
   "cell_type": "markdown",
   "id": "f6f2a303",
   "metadata": {},
   "source": [
    "### Оценка на тестовой выборке"
   ]
  },
  {
   "cell_type": "code",
   "execution_count": 193,
   "id": "07c54fff",
   "metadata": {},
   "outputs": [],
   "source": [
    "val_set = pd.DataFrame()"
   ]
  },
  {
   "cell_type": "code",
   "execution_count": 194,
   "id": "e067bc5d",
   "metadata": {},
   "outputs": [
    {
     "name": "stderr",
     "output_type": "stream",
     "text": [
      "100%|███████████████████████████████████████████████████████████████████| 13802334/13802334 [01:03<00:00, 216000.45it/s]\n"
     ]
    }
   ],
   "source": [
    "val_set[['region_type', 'region']] = pd.DataFrame(df['chunk_1'].progress_apply(region_filler).tolist(),\n",
    "                                                      columns=['region_type', 'region'])"
   ]
  },
  {
   "cell_type": "code",
   "execution_count": 195,
   "id": "2a49f237",
   "metadata": {},
   "outputs": [
    {
     "name": "stderr",
     "output_type": "stream",
     "text": [
      "100%|███████████████████████████████████████████████████████████████████| 13802334/13802334 [00:26<00:00, 517753.83it/s]\n"
     ]
    }
   ],
   "source": [
    "val_set[['municipality_type', 'municipality']] = pd.DataFrame(df['chunk_2'].progress_apply(municipality_filler).tolist(),\n",
    "                                                                  columns=['municipality_type', 'municipality'])"
   ]
  },
  {
   "cell_type": "code",
   "execution_count": 196,
   "id": "ddf7daf6",
   "metadata": {},
   "outputs": [
    {
     "name": "stderr",
     "output_type": "stream",
     "text": [
      "100%|███████████████████████████████████████████████████████████████████| 13802334/13802334 [00:30<00:00, 450031.48it/s]\n"
     ]
    }
   ],
   "source": [
    "val_set[['settlement_type', 'settlement']] = pd.DataFrame(df['chunk_3'].progress_apply(settlement_filler).tolist(),\n",
    "                                                                  columns=['settlement_type', 'settlement'])"
   ]
  },
  {
   "cell_type": "code",
   "execution_count": 197,
   "id": "26a6519f",
   "metadata": {},
   "outputs": [
    {
     "name": "stderr",
     "output_type": "stream",
     "text": [
      "100%|███████████████████████████████████████████████████████████████████| 13802334/13802334 [00:25<00:00, 533228.00it/s]\n"
     ]
    }
   ],
   "source": [
    "val_set[['location_type', 'location']] = pd.DataFrame(df['chunk_4'].progress_apply(location_filler).tolist(),\n",
    "                                                                  columns=['location_type', 'location'])"
   ]
  },
  {
   "cell_type": "code",
   "execution_count": 199,
   "id": "7827a1be",
   "metadata": {},
   "outputs": [
    {
     "name": "stderr",
     "output_type": "stream",
     "text": [
      "100%|███████████████████████████████████████████████████████████████████| 13802334/13802334 [00:32<00:00, 424284.68it/s]\n"
     ]
    }
   ],
   "source": [
    "val_set[['street_type', 'street']] = pd.DataFrame(df['chunk_5'].progress_apply(street_filler).tolist(),\n",
    "                                                                  columns=['street_type', 'street'])"
   ]
  },
  {
   "cell_type": "code",
   "execution_count": 200,
   "id": "2a2018ff",
   "metadata": {},
   "outputs": [
    {
     "name": "stderr",
     "output_type": "stream",
     "text": [
      "100%|██████████████████████████████████████████████████████████████████| 13802334/13802334 [00:08<00:00, 1540973.13it/s]\n",
      "100%|██████████████████████████████████████████████████████████████████| 13802334/13802334 [00:10<00:00, 1301507.40it/s]\n"
     ]
    }
   ],
   "source": [
    "val_set['house'] = df['chunk_6'].progress_apply(house_filler)\n",
    "val_set['source'] = df['chunk_7'].progress_apply(source_filler)"
   ]
  },
  {
   "cell_type": "code",
   "execution_count": 201,
   "id": "53d78a63",
   "metadata": {},
   "outputs": [
    {
     "data": {
      "text/plain": [
       "region_type              республика\n",
       "region                 Башкортостан\n",
       "municipality_type             район\n",
       "municipality             Буздякский\n",
       "settlement_type                село\n",
       "settlement           Канлы-Туркеево\n",
       "location_type                      \n",
       "location                           \n",
       "street_type                   улица\n",
       "street                     Школьная\n",
       "house                       дом 3/1\n",
       "source                            1\n",
       "Name: 8539938, dtype: object"
      ]
     },
     "execution_count": 201,
     "metadata": {},
     "output_type": "execute_result"
    }
   ],
   "source": [
    "val_set.iloc[8539938]"
   ]
  },
  {
   "cell_type": "code",
   "execution_count": 202,
   "id": "d66f74c5",
   "metadata": {},
   "outputs": [
    {
     "data": {
      "text/html": [
       "<div>\n",
       "<style scoped>\n",
       "    .dataframe tbody tr th:only-of-type {\n",
       "        vertical-align: middle;\n",
       "    }\n",
       "\n",
       "    .dataframe tbody tr th {\n",
       "        vertical-align: top;\n",
       "    }\n",
       "\n",
       "    .dataframe thead th {\n",
       "        text-align: right;\n",
       "    }\n",
       "</style>\n",
       "<table border=\"1\" class=\"dataframe\">\n",
       "  <thead>\n",
       "    <tr style=\"text-align: right;\">\n",
       "      <th></th>\n",
       "      <th>region_type</th>\n",
       "      <th>region</th>\n",
       "      <th>municipality_type</th>\n",
       "      <th>municipality</th>\n",
       "      <th>settlement_type</th>\n",
       "      <th>settlement</th>\n",
       "      <th>location_type</th>\n",
       "      <th>location</th>\n",
       "      <th>street_type</th>\n",
       "      <th>street</th>\n",
       "      <th>house</th>\n",
       "      <th>source</th>\n",
       "    </tr>\n",
       "  </thead>\n",
       "  <tbody>\n",
       "    <tr>\n",
       "      <th>5480269</th>\n",
       "      <td>область</td>\n",
       "      <td>Свердловская</td>\n",
       "      <td></td>\n",
       "      <td></td>\n",
       "      <td>город</td>\n",
       "      <td>Ирбит</td>\n",
       "      <td></td>\n",
       "      <td></td>\n",
       "      <td>улица</td>\n",
       "      <td>Полины Осипенко</td>\n",
       "      <td>дом 42</td>\n",
       "      <td>1</td>\n",
       "    </tr>\n",
       "    <tr>\n",
       "      <th>5008736</th>\n",
       "      <td>область</td>\n",
       "      <td>Ростовская</td>\n",
       "      <td>район</td>\n",
       "      <td>Верхнедонской</td>\n",
       "      <td>хутор</td>\n",
       "      <td>Песковатская Лопатина</td>\n",
       "      <td></td>\n",
       "      <td></td>\n",
       "      <td>улица</td>\n",
       "      <td>Песковатсколопатинская</td>\n",
       "      <td>дом 127</td>\n",
       "      <td>2</td>\n",
       "    </tr>\n",
       "    <tr>\n",
       "      <th>4440539</th>\n",
       "      <td>область</td>\n",
       "      <td>Оренбургская</td>\n",
       "      <td></td>\n",
       "      <td></td>\n",
       "      <td>город</td>\n",
       "      <td>Кувандык</td>\n",
       "      <td></td>\n",
       "      <td></td>\n",
       "      <td>улица</td>\n",
       "      <td>Комарова</td>\n",
       "      <td>дом 3</td>\n",
       "      <td>1</td>\n",
       "    </tr>\n",
       "    <tr>\n",
       "      <th>4193414</th>\n",
       "      <td>область</td>\n",
       "      <td>Новосибирская</td>\n",
       "      <td></td>\n",
       "      <td></td>\n",
       "      <td>город</td>\n",
       "      <td>Новосибирск</td>\n",
       "      <td></td>\n",
       "      <td></td>\n",
       "      <td>улица</td>\n",
       "      <td>Ученическая</td>\n",
       "      <td>дом 17/1</td>\n",
       "      <td>2</td>\n",
       "    </tr>\n",
       "    <tr>\n",
       "      <th>7118667</th>\n",
       "      <td>республика</td>\n",
       "      <td>Кабардино-Балкарская</td>\n",
       "      <td></td>\n",
       "      <td></td>\n",
       "      <td>город</td>\n",
       "      <td>Нальчик</td>\n",
       "      <td>село</td>\n",
       "      <td>Кенже</td>\n",
       "      <td>улица</td>\n",
       "      <td>Барагунова</td>\n",
       "      <td>дом 31</td>\n",
       "      <td>2</td>\n",
       "    </tr>\n",
       "  </tbody>\n",
       "</table>\n",
       "</div>"
      ],
      "text/plain": [
       "        region_type                region municipality_type   municipality  \\\n",
       "5480269     область          Свердловская                                    \n",
       "5008736     область            Ростовская             район  Верхнедонской   \n",
       "4440539     область          Оренбургская                                    \n",
       "4193414     область         Новосибирская                                    \n",
       "7118667  республика  Кабардино-Балкарская                                    \n",
       "\n",
       "        settlement_type             settlement location_type location  \\\n",
       "5480269           город                  Ирбит                          \n",
       "5008736           хутор  Песковатская Лопатина                          \n",
       "4440539           город               Кувандык                          \n",
       "4193414           город            Новосибирск                          \n",
       "7118667           город                Нальчик          село    Кенже   \n",
       "\n",
       "        street_type                  street     house  source  \n",
       "5480269       улица         Полины Осипенко    дом 42       1  \n",
       "5008736       улица  Песковатсколопатинская   дом 127       2  \n",
       "4440539       улица                Комарова     дом 3       1  \n",
       "4193414       улица             Ученическая  дом 17/1       2  \n",
       "7118667       улица              Барагунова    дом 31       2  "
      ]
     },
     "execution_count": 202,
     "metadata": {},
     "output_type": "execute_result"
    }
   ],
   "source": [
    "val_set.sample(5)"
   ]
  },
  {
   "cell_type": "code",
   "execution_count": 204,
   "id": "f474f546",
   "metadata": {},
   "outputs": [],
   "source": [
    "sample_subm = pd.read_csv(SAMPLE_SUB_PATH, encoding='windows-1251')"
   ]
  },
  {
   "cell_type": "code",
   "execution_count": 134,
   "id": "4a93c270",
   "metadata": {},
   "outputs": [
    {
     "data": {
      "text/plain": [
       "Index(['source'], dtype='object')"
      ]
     },
     "execution_count": 134,
     "metadata": {},
     "output_type": "execute_result"
    }
   ],
   "source": [
    "sample_subm.columns[11:]"
   ]
  },
  {
   "cell_type": "code",
   "execution_count": 206,
   "id": "172a1072",
   "metadata": {},
   "outputs": [
    {
     "data": {
      "text/plain": [
       "0"
      ]
     },
     "execution_count": 206,
     "metadata": {},
     "output_type": "execute_result"
    }
   ],
   "source": [
    "val_set['house'].isna().sum()"
   ]
  },
  {
   "cell_type": "code",
   "execution_count": 209,
   "id": "95692ea0",
   "metadata": {},
   "outputs": [
    {
     "name": "stderr",
     "output_type": "stream",
     "text": [
      "100%|███████████████████████████████████████████████████████████████████████████████████| 12/12 [00:26<00:00,  2.20s/it]"
     ]
    },
    {
     "name": "stdout",
     "output_type": "stream",
     "text": [
      "0.85 OK\n"
     ]
    },
    {
     "name": "stderr",
     "output_type": "stream",
     "text": [
      "\n"
     ]
    }
   ],
   "source": [
    "import numpy as np\n",
    "precisions = []\n",
    "recalls = []\n",
    "for column in tqdm(sample_subm.columns):\n",
    "    sol = val_set[column].tolist()  # сюда нужно передать таблицу с ответом алгоритма\n",
    "    ans = df[column].tolist()\n",
    "\n",
    "    count = len(sol)\n",
    "\n",
    "    tp = 0 #правильно заполненная\n",
    "    fp = 0 #пустая, но чем-то заполненная\n",
    "    fn = 0 #ложно пустая\n",
    "    tn = 0 #правильно пустая\n",
    "\n",
    "    for i in range(count):\n",
    "        if sol[i] == ans[i]:\n",
    "            if sol[i] == '':\n",
    "                tn += 1\n",
    "            else:\n",
    "                tp += 1\n",
    "        elif sol[i] == '':\n",
    "            fp += 1\n",
    "        else:\n",
    "            fn += 1\n",
    "\n",
    "    if tp == 0:\n",
    "        prec = 0\n",
    "        rec = 0\n",
    "    else:\n",
    "        prec = tp / (tp + fp)\n",
    "        rec = tp / (tp + fn)\n",
    "\n",
    "    precisions.append(prec)\n",
    "    recalls.append(rec)\n",
    "\n",
    "prec = np.mean(precisions)\n",
    "rec = np.mean(recalls)\n",
    "score = 2 * prec * rec / (prec + rec)\n",
    "\n",
    "print(f\"{score:.2f} OK\")"
   ]
  },
  {
   "cell_type": "code",
   "execution_count": 210,
   "id": "77b1d409",
   "metadata": {},
   "outputs": [
    {
     "data": {
      "text/html": [
       "<div>\n",
       "<style scoped>\n",
       "    .dataframe tbody tr th:only-of-type {\n",
       "        vertical-align: middle;\n",
       "    }\n",
       "\n",
       "    .dataframe tbody tr th {\n",
       "        vertical-align: top;\n",
       "    }\n",
       "\n",
       "    .dataframe thead th {\n",
       "        text-align: right;\n",
       "    }\n",
       "</style>\n",
       "<table border=\"1\" class=\"dataframe\">\n",
       "  <thead>\n",
       "    <tr style=\"text-align: right;\">\n",
       "      <th></th>\n",
       "      <th>0</th>\n",
       "    </tr>\n",
       "  </thead>\n",
       "  <tbody>\n",
       "    <tr>\n",
       "      <th>1.000000</th>\n",
       "      <td>region</td>\n",
       "    </tr>\n",
       "    <tr>\n",
       "      <th>1.000000</th>\n",
       "      <td>region_type</td>\n",
       "    </tr>\n",
       "    <tr>\n",
       "      <th>0.592670</th>\n",
       "      <td>municipality</td>\n",
       "    </tr>\n",
       "    <tr>\n",
       "      <th>0.592670</th>\n",
       "      <td>municipality_type</td>\n",
       "    </tr>\n",
       "    <tr>\n",
       "      <th>0.962487</th>\n",
       "      <td>settlement</td>\n",
       "    </tr>\n",
       "    <tr>\n",
       "      <th>0.962462</th>\n",
       "      <td>settlement_type</td>\n",
       "    </tr>\n",
       "    <tr>\n",
       "      <th>0.187581</th>\n",
       "      <td>location</td>\n",
       "    </tr>\n",
       "    <tr>\n",
       "      <th>0.195106</th>\n",
       "      <td>location_type</td>\n",
       "    </tr>\n",
       "    <tr>\n",
       "      <th>0.833144</th>\n",
       "      <td>street</td>\n",
       "    </tr>\n",
       "    <tr>\n",
       "      <th>0.833144</th>\n",
       "      <td>street_type</td>\n",
       "    </tr>\n",
       "    <tr>\n",
       "      <th>1.000000</th>\n",
       "      <td>house</td>\n",
       "    </tr>\n",
       "    <tr>\n",
       "      <th>1.000000</th>\n",
       "      <td>source</td>\n",
       "    </tr>\n",
       "  </tbody>\n",
       "</table>\n",
       "</div>"
      ],
      "text/plain": [
       "                          0\n",
       "1.000000             region\n",
       "1.000000        region_type\n",
       "0.592670       municipality\n",
       "0.592670  municipality_type\n",
       "0.962487         settlement\n",
       "0.962462    settlement_type\n",
       "0.187581           location\n",
       "0.195106      location_type\n",
       "0.833144             street\n",
       "0.833144        street_type\n",
       "1.000000              house\n",
       "1.000000             source"
      ]
     },
     "execution_count": 210,
     "metadata": {},
     "output_type": "execute_result"
    }
   ],
   "source": [
    "pd.DataFrame(sample_subm.columns, precisions)"
   ]
  }
 ],
 "metadata": {
  "kernelspec": {
   "display_name": "Python 3 (ipykernel)",
   "language": "python",
   "name": "python3"
  },
  "language_info": {
   "codemirror_mode": {
    "name": "ipython",
    "version": 3
   },
   "file_extension": ".py",
   "mimetype": "text/x-python",
   "name": "python",
   "nbconvert_exporter": "python",
   "pygments_lexer": "ipython3",
   "version": "3.8.10"
  }
 },
 "nbformat": 4,
 "nbformat_minor": 5
}
