{
 "cells": [
  {
   "cell_type": "markdown",
   "id": "f25ef914",
   "metadata": {},
   "source": [
    "### Data descritpion\n",
    "- **region** - *уровень федерального округа*\n",
    "- region_type - *тип федерального округа*\n",
    "---\n",
    "- **municipality** - *уровень муниципального округа*\n",
    "- municipality_type - *тип уровня муниципального округа*\n",
    "---\n",
    "- **settlement** - *уровень населенного пункта*\n",
    "- settlement_type - *тип уровня населенного пункта*\n",
    "---\n",
    "- **location** - *уровень локации*\n",
    "- location_type - *тип уровня локации*\n",
    "---\n",
    "- **street** - *уровень улицы*\n",
    "- street_type - *тип уровня улицы*\n",
    "---\n",
    "- **house** - *уровень дома*\n",
    "---\n",
    "- **source** - *код источника данных об адресе 1 - ФИАС 2 - Почта России*"
   ]
  },
  {
   "cell_type": "code",
   "execution_count": 456,
   "id": "49017ba0",
   "metadata": {},
   "outputs": [],
   "source": [
    "import pandas as pd\n",
    "from tqdm import tqdm\n",
    "TRAIN_PATH = 'Datasets_RuCode_adresses_train_test/addresses-train.csv'\n",
    "TEST_PATH = 'Datasets_RuCode_adresses_train_test/addresses-test.csv'\n",
    "SAMPLE_SUB_PATH = 'Datasets_RuCode_adresses_train_test/addresses-sample_sub.csv'"
   ]
  },
  {
   "cell_type": "code",
   "execution_count": 111,
   "id": "2b62524e",
   "metadata": {},
   "outputs": [],
   "source": [
    "\n",
    "'''\n",
    "df_test = pd.read_csv(TEST_PATH, encoding='windows-1251')\n",
    "df_test[[f'chunk_{i + 1}' for i in range(7)]] = df_test['address'].str.split(';', expand=True)\n",
    "df_test['chunk_4'].value_counts()\n",
    "'''\n",
    "df = pd.read_csv(TRAIN_PATH, nrows=10000000, encoding='windows-1251', low_memory=False)"
   ]
  },
  {
   "cell_type": "code",
   "execution_count": 112,
   "id": "26cdf287",
   "metadata": {},
   "outputs": [
    {
     "data": {
      "text/html": [
       "<div>\n",
       "<style scoped>\n",
       "    .dataframe tbody tr th:only-of-type {\n",
       "        vertical-align: middle;\n",
       "    }\n",
       "\n",
       "    .dataframe tbody tr th {\n",
       "        vertical-align: top;\n",
       "    }\n",
       "\n",
       "    .dataframe thead th {\n",
       "        text-align: right;\n",
       "    }\n",
       "</style>\n",
       "<table border=\"1\" class=\"dataframe\">\n",
       "  <thead>\n",
       "    <tr style=\"text-align: right;\">\n",
       "      <th></th>\n",
       "      <th>address</th>\n",
       "      <th>region</th>\n",
       "      <th>region_type</th>\n",
       "      <th>municipality</th>\n",
       "      <th>municipality_type</th>\n",
       "      <th>settlement</th>\n",
       "      <th>settlement_type</th>\n",
       "      <th>location</th>\n",
       "      <th>location_type</th>\n",
       "      <th>street</th>\n",
       "      <th>street_type</th>\n",
       "      <th>house</th>\n",
       "      <th>source</th>\n",
       "    </tr>\n",
       "  </thead>\n",
       "  <tbody>\n",
       "    <tr>\n",
       "      <th>7132811</th>\n",
       "      <td>обл Челябинская;  ; Г. Миасс;  ; ул Фрунзе; до...</td>\n",
       "      <td>Челябинская</td>\n",
       "      <td>область</td>\n",
       "      <td>NaN</td>\n",
       "      <td>NaN</td>\n",
       "      <td>Миасс</td>\n",
       "      <td>город</td>\n",
       "      <td>NaN</td>\n",
       "      <td>NaN</td>\n",
       "      <td>Фрунзе</td>\n",
       "      <td>улица</td>\n",
       "      <td>дом 153</td>\n",
       "      <td>2</td>\n",
       "    </tr>\n",
       "    <tr>\n",
       "      <th>7329255</th>\n",
       "      <td>Респ Адыгея; р-н Кошехабльский; х Игнатьевский...</td>\n",
       "      <td>Адыгея</td>\n",
       "      <td>республика</td>\n",
       "      <td>Кошехабльский</td>\n",
       "      <td>район</td>\n",
       "      <td>Игнатьевский</td>\n",
       "      <td>хутор</td>\n",
       "      <td>NaN</td>\n",
       "      <td>NaN</td>\n",
       "      <td>Ленина</td>\n",
       "      <td>улица</td>\n",
       "      <td>дом 47</td>\n",
       "      <td>1</td>\n",
       "    </tr>\n",
       "    <tr>\n",
       "      <th>7800573</th>\n",
       "      <td>рес. Дагестан;  ; город Хасавюрт;  ; ул. Народ...</td>\n",
       "      <td>Дагестан</td>\n",
       "      <td>республика</td>\n",
       "      <td>NaN</td>\n",
       "      <td>NaN</td>\n",
       "      <td>Хасавюрт</td>\n",
       "      <td>город</td>\n",
       "      <td>NaN</td>\n",
       "      <td>NaN</td>\n",
       "      <td>Народная 16-я</td>\n",
       "      <td>улица</td>\n",
       "      <td>дом 39</td>\n",
       "      <td>1</td>\n",
       "    </tr>\n",
       "    <tr>\n",
       "      <th>4728861</th>\n",
       "      <td>обл Новосибирская; р-н. Новосибирский; с Ленин...</td>\n",
       "      <td>Новосибирская</td>\n",
       "      <td>область</td>\n",
       "      <td>Новосибирский</td>\n",
       "      <td>район</td>\n",
       "      <td>Ленинское</td>\n",
       "      <td>село</td>\n",
       "      <td>ДНТ Морские просторы</td>\n",
       "      <td>территория</td>\n",
       "      <td>NaN</td>\n",
       "      <td>NaN</td>\n",
       "      <td>дом 29</td>\n",
       "      <td>2</td>\n",
       "    </tr>\n",
       "  </tbody>\n",
       "</table>\n",
       "</div>"
      ],
      "text/plain": [
       "                                                   address         region  \\\n",
       "7132811  обл Челябинская;  ; Г. Миасс;  ; ул Фрунзе; до...    Челябинская   \n",
       "7329255  Респ Адыгея; р-н Кошехабльский; х Игнатьевский...         Адыгея   \n",
       "7800573  рес. Дагестан;  ; город Хасавюрт;  ; ул. Народ...       Дагестан   \n",
       "4728861  обл Новосибирская; р-н. Новосибирский; с Ленин...  Новосибирская   \n",
       "\n",
       "        region_type   municipality municipality_type    settlement  \\\n",
       "7132811     область            NaN               NaN         Миасс   \n",
       "7329255  республика  Кошехабльский             район  Игнатьевский   \n",
       "7800573  республика            NaN               NaN      Хасавюрт   \n",
       "4728861     область  Новосибирский             район     Ленинское   \n",
       "\n",
       "        settlement_type              location location_type         street  \\\n",
       "7132811           город                   NaN           NaN         Фрунзе   \n",
       "7329255           хутор                   NaN           NaN         Ленина   \n",
       "7800573           город                   NaN           NaN  Народная 16-я   \n",
       "4728861            село  ДНТ Морские просторы    территория            NaN   \n",
       "\n",
       "        street_type    house  source  \n",
       "7132811       улица  дом 153       2  \n",
       "7329255       улица   дом 47       1  \n",
       "7800573       улица   дом 39       1  \n",
       "4728861         NaN   дом 29       2  "
      ]
     },
     "execution_count": 112,
     "metadata": {},
     "output_type": "execute_result"
    }
   ],
   "source": [
    "df.sample(4)"
   ]
  },
  {
   "cell_type": "code",
   "execution_count": 400,
   "id": "2a9c96d7",
   "metadata": {},
   "outputs": [
    {
     "name": "stdout",
     "output_type": "stream",
     "text": [
      "<class 'pandas.core.frame.DataFrame'>\n",
      "RangeIndex: 10000000 entries, 0 to 9999999\n",
      "Data columns (total 20 columns):\n",
      " #   Column             Dtype \n",
      "---  ------             ----- \n",
      " 0   address            object\n",
      " 1   region             object\n",
      " 2   region_type        object\n",
      " 3   municipality       object\n",
      " 4   municipality_type  object\n",
      " 5   settlement         object\n",
      " 6   settlement_type    object\n",
      " 7   location           object\n",
      " 8   location_type      object\n",
      " 9   street             object\n",
      " 10  street_type        object\n",
      " 11  house              object\n",
      " 12  source             int64 \n",
      " 13  chunk_1            object\n",
      " 14  chunk_2            object\n",
      " 15  chunk_3            object\n",
      " 16  chunk_4            object\n",
      " 17  chunk_5            object\n",
      " 18  chunk_6            object\n",
      " 19  chunk_7            object\n",
      "dtypes: int64(1), object(19)\n",
      "memory usage: 1.5+ GB\n"
     ]
    }
   ],
   "source": [
    "df.info()"
   ]
  },
  {
   "cell_type": "code",
   "execution_count": 114,
   "id": "c3b7802b",
   "metadata": {
    "collapsed": true
   },
   "outputs": [
    {
     "ename": "KeyboardInterrupt",
     "evalue": "",
     "output_type": "error",
     "traceback": [
      "\u001B[1;31m---------------------------------------------------------------------------\u001B[0m",
      "\u001B[1;31mKeyboardInterrupt\u001B[0m                         Traceback (most recent call last)",
      "Cell \u001B[1;32mIn[114], line 2\u001B[0m\n\u001B[0;32m      1\u001B[0m \u001B[38;5;28;01mfor\u001B[39;00m idx \u001B[38;5;129;01min\u001B[39;00m \u001B[38;5;28mrange\u001B[39m(\u001B[38;5;28mlen\u001B[39m(df)):\n\u001B[1;32m----> 2\u001B[0m     \u001B[38;5;28;01mif\u001B[39;00m \u001B[43mdf\u001B[49m\u001B[38;5;241;43m.\u001B[39;49m\u001B[43miloc\u001B[49m\u001B[43m[\u001B[49m\u001B[43midx\u001B[49m\u001B[43m]\u001B[49m[\u001B[38;5;124m'\u001B[39m\u001B[38;5;124maddress\u001B[39m\u001B[38;5;124m'\u001B[39m]\u001B[38;5;241m.\u001B[39mcount(\u001B[38;5;124m'\u001B[39m\u001B[38;5;124m;\u001B[39m\u001B[38;5;124m'\u001B[39m) \u001B[38;5;241m!=\u001B[39m \u001B[38;5;241m6\u001B[39m:\n\u001B[0;32m      3\u001B[0m         \u001B[38;5;28mprint\u001B[39m(\u001B[38;5;124m'\u001B[39m\u001B[38;5;124mNot all addresses has 6 semicolons\u001B[39m\u001B[38;5;124m'\u001B[39m)\n\u001B[0;32m      4\u001B[0m         \u001B[38;5;28;01mbreak\u001B[39;00m\n",
      "File \u001B[1;32mc:\\users\\даня\\appdata\\local\\programs\\python\\python38\\lib\\site-packages\\pandas\\core\\indexing.py:1073\u001B[0m, in \u001B[0;36m_LocationIndexer.__getitem__\u001B[1;34m(self, key)\u001B[0m\n\u001B[0;32m   1070\u001B[0m axis \u001B[38;5;241m=\u001B[39m \u001B[38;5;28mself\u001B[39m\u001B[38;5;241m.\u001B[39maxis \u001B[38;5;129;01mor\u001B[39;00m \u001B[38;5;241m0\u001B[39m\n\u001B[0;32m   1072\u001B[0m maybe_callable \u001B[38;5;241m=\u001B[39m com\u001B[38;5;241m.\u001B[39mapply_if_callable(key, \u001B[38;5;28mself\u001B[39m\u001B[38;5;241m.\u001B[39mobj)\n\u001B[1;32m-> 1073\u001B[0m \u001B[38;5;28;01mreturn\u001B[39;00m \u001B[38;5;28;43mself\u001B[39;49m\u001B[38;5;241;43m.\u001B[39;49m\u001B[43m_getitem_axis\u001B[49m\u001B[43m(\u001B[49m\u001B[43mmaybe_callable\u001B[49m\u001B[43m,\u001B[49m\u001B[43m \u001B[49m\u001B[43maxis\u001B[49m\u001B[38;5;241;43m=\u001B[39;49m\u001B[43maxis\u001B[49m\u001B[43m)\u001B[49m\n",
      "File \u001B[1;32mc:\\users\\даня\\appdata\\local\\programs\\python\\python38\\lib\\site-packages\\pandas\\core\\indexing.py:1627\u001B[0m, in \u001B[0;36m_iLocIndexer._getitem_axis\u001B[1;34m(self, key, axis)\u001B[0m\n\u001B[0;32m   1624\u001B[0m \u001B[38;5;66;03m# validate the location\u001B[39;00m\n\u001B[0;32m   1625\u001B[0m \u001B[38;5;28mself\u001B[39m\u001B[38;5;241m.\u001B[39m_validate_integer(key, axis)\n\u001B[1;32m-> 1627\u001B[0m \u001B[38;5;28;01mreturn\u001B[39;00m \u001B[38;5;28;43mself\u001B[39;49m\u001B[38;5;241;43m.\u001B[39;49m\u001B[43mobj\u001B[49m\u001B[38;5;241;43m.\u001B[39;49m\u001B[43m_ixs\u001B[49m\u001B[43m(\u001B[49m\u001B[43mkey\u001B[49m\u001B[43m,\u001B[49m\u001B[43m \u001B[49m\u001B[43maxis\u001B[49m\u001B[38;5;241;43m=\u001B[39;49m\u001B[43maxis\u001B[49m\u001B[43m)\u001B[49m\n",
      "File \u001B[1;32mc:\\users\\даня\\appdata\\local\\programs\\python\\python38\\lib\\site-packages\\pandas\\core\\frame.py:3716\u001B[0m, in \u001B[0;36mDataFrame._ixs\u001B[1;34m(self, i, axis)\u001B[0m\n\u001B[0;32m   3714\u001B[0m \u001B[38;5;66;03m# irow\u001B[39;00m\n\u001B[0;32m   3715\u001B[0m \u001B[38;5;28;01mif\u001B[39;00m axis \u001B[38;5;241m==\u001B[39m \u001B[38;5;241m0\u001B[39m:\n\u001B[1;32m-> 3716\u001B[0m     new_mgr \u001B[38;5;241m=\u001B[39m \u001B[38;5;28;43mself\u001B[39;49m\u001B[38;5;241;43m.\u001B[39;49m\u001B[43m_mgr\u001B[49m\u001B[38;5;241;43m.\u001B[39;49m\u001B[43mfast_xs\u001B[49m\u001B[43m(\u001B[49m\u001B[43mi\u001B[49m\u001B[43m)\u001B[49m\n\u001B[0;32m   3718\u001B[0m     \u001B[38;5;66;03m# if we are a copy, mark as such\u001B[39;00m\n\u001B[0;32m   3719\u001B[0m     copy \u001B[38;5;241m=\u001B[39m \u001B[38;5;28misinstance\u001B[39m(new_mgr\u001B[38;5;241m.\u001B[39marray, np\u001B[38;5;241m.\u001B[39mndarray) \u001B[38;5;129;01mand\u001B[39;00m new_mgr\u001B[38;5;241m.\u001B[39marray\u001B[38;5;241m.\u001B[39mbase \u001B[38;5;129;01mis\u001B[39;00m \u001B[38;5;28;01mNone\u001B[39;00m\n",
      "File \u001B[1;32mc:\\users\\даня\\appdata\\local\\programs\\python\\python38\\lib\\site-packages\\pandas\\core\\internals\\managers.py:1097\u001B[0m, in \u001B[0;36mBlockManager.fast_xs\u001B[1;34m(self, loc)\u001B[0m\n\u001B[0;32m   1094\u001B[0m     ref \u001B[38;5;241m=\u001B[39m weakref\u001B[38;5;241m.\u001B[39mref(\u001B[38;5;28mself\u001B[39m\u001B[38;5;241m.\u001B[39mblocks[\u001B[38;5;241m0\u001B[39m])\n\u001B[0;32m   1095\u001B[0m     \u001B[38;5;28;01mreturn\u001B[39;00m SingleBlockManager(block, \u001B[38;5;28mself\u001B[39m\u001B[38;5;241m.\u001B[39maxes[\u001B[38;5;241m0\u001B[39m], [ref], parent\u001B[38;5;241m=\u001B[39m\u001B[38;5;28mself\u001B[39m)\n\u001B[1;32m-> 1097\u001B[0m dtype \u001B[38;5;241m=\u001B[39m \u001B[43minterleaved_dtype\u001B[49m\u001B[43m(\u001B[49m\u001B[43m[\u001B[49m\u001B[43mblk\u001B[49m\u001B[38;5;241;43m.\u001B[39;49m\u001B[43mdtype\u001B[49m\u001B[43m \u001B[49m\u001B[38;5;28;43;01mfor\u001B[39;49;00m\u001B[43m \u001B[49m\u001B[43mblk\u001B[49m\u001B[43m \u001B[49m\u001B[38;5;129;43;01min\u001B[39;49;00m\u001B[43m \u001B[49m\u001B[38;5;28;43mself\u001B[39;49m\u001B[38;5;241;43m.\u001B[39;49m\u001B[43mblocks\u001B[49m\u001B[43m]\u001B[49m\u001B[43m)\u001B[49m\n\u001B[0;32m   1099\u001B[0m n \u001B[38;5;241m=\u001B[39m \u001B[38;5;28mlen\u001B[39m(\u001B[38;5;28mself\u001B[39m)\n\u001B[0;32m   1101\u001B[0m \u001B[38;5;66;03m# GH#46406\u001B[39;00m\n",
      "File \u001B[1;32mc:\\users\\даня\\appdata\\local\\programs\\python\\python38\\lib\\site-packages\\pandas\\core\\internals\\base.py:226\u001B[0m, in \u001B[0;36minterleaved_dtype\u001B[1;34m(dtypes)\u001B[0m\n\u001B[0;32m    223\u001B[0m \u001B[38;5;28;01mif\u001B[39;00m \u001B[38;5;129;01mnot\u001B[39;00m \u001B[38;5;28mlen\u001B[39m(dtypes):\n\u001B[0;32m    224\u001B[0m     \u001B[38;5;28;01mreturn\u001B[39;00m \u001B[38;5;28;01mNone\u001B[39;00m\n\u001B[1;32m--> 226\u001B[0m \u001B[38;5;28;01mreturn\u001B[39;00m \u001B[43mfind_common_type\u001B[49m\u001B[43m(\u001B[49m\u001B[43mdtypes\u001B[49m\u001B[43m)\u001B[49m\n",
      "File \u001B[1;32mc:\\users\\даня\\appdata\\local\\programs\\python\\python38\\lib\\site-packages\\pandas\\core\\dtypes\\cast.py:1641\u001B[0m, in \u001B[0;36mfind_common_type\u001B[1;34m(types)\u001B[0m\n\u001B[0;32m   1638\u001B[0m         \u001B[38;5;28;01mif\u001B[39;00m is_integer_dtype(t) \u001B[38;5;129;01mor\u001B[39;00m is_float_dtype(t) \u001B[38;5;129;01mor\u001B[39;00m is_complex_dtype(t):\n\u001B[0;32m   1639\u001B[0m             \u001B[38;5;28;01mreturn\u001B[39;00m np\u001B[38;5;241m.\u001B[39mdtype(\u001B[38;5;124m\"\u001B[39m\u001B[38;5;124mobject\u001B[39m\u001B[38;5;124m\"\u001B[39m)\n\u001B[1;32m-> 1641\u001B[0m \u001B[38;5;28;01mreturn\u001B[39;00m \u001B[43mnp\u001B[49m\u001B[38;5;241;43m.\u001B[39;49m\u001B[43mfind_common_type\u001B[49m\u001B[43m(\u001B[49m\u001B[43mtypes\u001B[49m\u001B[43m,\u001B[49m\u001B[43m \u001B[49m\u001B[43m[\u001B[49m\u001B[43m]\u001B[49m\u001B[43m)\u001B[49m\n",
      "File \u001B[1;32mc:\\users\\даня\\appdata\\local\\programs\\python\\python38\\lib\\site-packages\\numpy\\core\\numerictypes.py:654\u001B[0m, in \u001B[0;36mfind_common_type\u001B[1;34m(array_types, scalar_types)\u001B[0m\n\u001B[0;32m    651\u001B[0m array_types \u001B[38;5;241m=\u001B[39m [dtype(x) \u001B[38;5;28;01mfor\u001B[39;00m x \u001B[38;5;129;01min\u001B[39;00m array_types]\n\u001B[0;32m    652\u001B[0m scalar_types \u001B[38;5;241m=\u001B[39m [dtype(x) \u001B[38;5;28;01mfor\u001B[39;00m x \u001B[38;5;129;01min\u001B[39;00m scalar_types]\n\u001B[1;32m--> 654\u001B[0m maxa \u001B[38;5;241m=\u001B[39m \u001B[43m_can_coerce_all\u001B[49m\u001B[43m(\u001B[49m\u001B[43marray_types\u001B[49m\u001B[43m)\u001B[49m\n\u001B[0;32m    655\u001B[0m maxsc \u001B[38;5;241m=\u001B[39m _can_coerce_all(scalar_types)\n\u001B[0;32m    657\u001B[0m \u001B[38;5;28;01mif\u001B[39;00m maxa \u001B[38;5;129;01mis\u001B[39;00m \u001B[38;5;28;01mNone\u001B[39;00m:\n",
      "File \u001B[1;32mc:\\users\\даня\\appdata\\local\\programs\\python\\python38\\lib\\site-packages\\numpy\\core\\numerictypes.py:584\u001B[0m, in \u001B[0;36m_can_coerce_all\u001B[1;34m(dtypelist, start)\u001B[0m\n\u001B[0;32m    582\u001B[0m \u001B[38;5;28;01mwhile\u001B[39;00m thisind \u001B[38;5;241m<\u001B[39m __len_test_types:\n\u001B[0;32m    583\u001B[0m     newdtype \u001B[38;5;241m=\u001B[39m dtype(__test_types[thisind])\n\u001B[1;32m--> 584\u001B[0m     numcoerce \u001B[38;5;241m=\u001B[39m \u001B[38;5;28mlen\u001B[39m([x \u001B[38;5;28;01mfor\u001B[39;00m x \u001B[38;5;129;01min\u001B[39;00m dtypelist \u001B[38;5;28;01mif\u001B[39;00m newdtype \u001B[38;5;241m>\u001B[39m\u001B[38;5;241m=\u001B[39m x])\n\u001B[0;32m    585\u001B[0m     \u001B[38;5;28;01mif\u001B[39;00m numcoerce \u001B[38;5;241m==\u001B[39m N:\n\u001B[0;32m    586\u001B[0m         \u001B[38;5;28;01mreturn\u001B[39;00m newdtype\n",
      "File \u001B[1;32mc:\\users\\даня\\appdata\\local\\programs\\python\\python38\\lib\\site-packages\\numpy\\core\\numerictypes.py:584\u001B[0m, in \u001B[0;36m<listcomp>\u001B[1;34m(.0)\u001B[0m\n\u001B[0;32m    582\u001B[0m \u001B[38;5;28;01mwhile\u001B[39;00m thisind \u001B[38;5;241m<\u001B[39m __len_test_types:\n\u001B[0;32m    583\u001B[0m     newdtype \u001B[38;5;241m=\u001B[39m dtype(__test_types[thisind])\n\u001B[1;32m--> 584\u001B[0m     numcoerce \u001B[38;5;241m=\u001B[39m \u001B[38;5;28mlen\u001B[39m([x \u001B[38;5;28;01mfor\u001B[39;00m x \u001B[38;5;129;01min\u001B[39;00m dtypelist \u001B[38;5;28;01mif\u001B[39;00m newdtype \u001B[38;5;241m>\u001B[39m\u001B[38;5;241m=\u001B[39m x])\n\u001B[0;32m    585\u001B[0m     \u001B[38;5;28;01mif\u001B[39;00m numcoerce \u001B[38;5;241m==\u001B[39m N:\n\u001B[0;32m    586\u001B[0m         \u001B[38;5;28;01mreturn\u001B[39;00m newdtype\n",
      "\u001B[1;31mKeyboardInterrupt\u001B[0m: "
     ]
    }
   ],
   "source": [
    "'''for idx in range(len(df)):\n",
    "    if df.iloc[idx]['address'].count(';') != 6:\n",
    "        print('Not all addresses has 6 semicolons')\n",
    "        break\n",
    "print('All addresses has 6 semicolons!')'''"
   ]
  },
  {
   "cell_type": "code",
   "execution_count": 115,
   "id": "68436bac",
   "metadata": {},
   "outputs": [
    {
     "data": {
      "text/html": [
       "<div>\n",
       "<style scoped>\n",
       "    .dataframe tbody tr th:only-of-type {\n",
       "        vertical-align: middle;\n",
       "    }\n",
       "\n",
       "    .dataframe tbody tr th {\n",
       "        vertical-align: top;\n",
       "    }\n",
       "\n",
       "    .dataframe thead th {\n",
       "        text-align: right;\n",
       "    }\n",
       "</style>\n",
       "<table border=\"1\" class=\"dataframe\">\n",
       "  <thead>\n",
       "    <tr style=\"text-align: right;\">\n",
       "      <th></th>\n",
       "      <th>address</th>\n",
       "      <th>region</th>\n",
       "      <th>region_type</th>\n",
       "      <th>municipality</th>\n",
       "      <th>municipality_type</th>\n",
       "      <th>settlement</th>\n",
       "      <th>settlement_type</th>\n",
       "      <th>location</th>\n",
       "      <th>location_type</th>\n",
       "      <th>street</th>\n",
       "      <th>street_type</th>\n",
       "      <th>house</th>\n",
       "      <th>source</th>\n",
       "      <th>chunk_1</th>\n",
       "      <th>chunk_2</th>\n",
       "      <th>chunk_3</th>\n",
       "      <th>chunk_4</th>\n",
       "      <th>chunk_5</th>\n",
       "      <th>chunk_6</th>\n",
       "      <th>chunk_7</th>\n",
       "    </tr>\n",
       "  </thead>\n",
       "  <tbody>\n",
       "    <tr>\n",
       "      <th>0</th>\n",
       "      <td>а.обл. Еврейская;  ; г Биробиджан;  ; переулок...</td>\n",
       "      <td>Еврейская</td>\n",
       "      <td>автономная область</td>\n",
       "      <td>NaN</td>\n",
       "      <td>NaN</td>\n",
       "      <td>Биробиджан</td>\n",
       "      <td>город</td>\n",
       "      <td>NaN</td>\n",
       "      <td>NaN</td>\n",
       "      <td>Авангардный</td>\n",
       "      <td>переулок</td>\n",
       "      <td>дом 1</td>\n",
       "      <td>2</td>\n",
       "      <td>а.обл. Еврейская</td>\n",
       "      <td></td>\n",
       "      <td>г Биробиджан</td>\n",
       "      <td></td>\n",
       "      <td>переулок Авангардный</td>\n",
       "      <td>дом 1</td>\n",
       "      <td>2</td>\n",
       "    </tr>\n",
       "    <tr>\n",
       "      <th>1</th>\n",
       "      <td>А.обл. Еврейская;  ; Г Биробиджан;  ; пер. Ава...</td>\n",
       "      <td>Еврейская</td>\n",
       "      <td>автономная область</td>\n",
       "      <td>NaN</td>\n",
       "      <td>NaN</td>\n",
       "      <td>Биробиджан</td>\n",
       "      <td>город</td>\n",
       "      <td>NaN</td>\n",
       "      <td>NaN</td>\n",
       "      <td>Авангардный</td>\n",
       "      <td>переулок</td>\n",
       "      <td>дом 3</td>\n",
       "      <td>2</td>\n",
       "      <td>А.обл. Еврейская</td>\n",
       "      <td></td>\n",
       "      <td>Г Биробиджан</td>\n",
       "      <td></td>\n",
       "      <td>пер. Авангардный</td>\n",
       "      <td>дом 3</td>\n",
       "      <td>2</td>\n",
       "    </tr>\n",
       "    <tr>\n",
       "      <th>2</th>\n",
       "      <td>Аобл Еврейская;  ; город Биробиджан;  ; переул...</td>\n",
       "      <td>Еврейская</td>\n",
       "      <td>автономная область</td>\n",
       "      <td>NaN</td>\n",
       "      <td>NaN</td>\n",
       "      <td>Биробиджан</td>\n",
       "      <td>город</td>\n",
       "      <td>NaN</td>\n",
       "      <td>NaN</td>\n",
       "      <td>Авангардный</td>\n",
       "      <td>переулок</td>\n",
       "      <td>дом 4</td>\n",
       "      <td>1</td>\n",
       "      <td>Аобл Еврейская</td>\n",
       "      <td></td>\n",
       "      <td>город Биробиджан</td>\n",
       "      <td></td>\n",
       "      <td>переулок Авангардный</td>\n",
       "      <td>дом 4</td>\n",
       "      <td>1</td>\n",
       "    </tr>\n",
       "    <tr>\n",
       "      <th>3</th>\n",
       "      <td>аобл Еврейская;  ; г. Биробиджан;  ; переулок ...</td>\n",
       "      <td>Еврейская</td>\n",
       "      <td>автономная область</td>\n",
       "      <td>NaN</td>\n",
       "      <td>NaN</td>\n",
       "      <td>Биробиджан</td>\n",
       "      <td>город</td>\n",
       "      <td>NaN</td>\n",
       "      <td>NaN</td>\n",
       "      <td>Алмазный</td>\n",
       "      <td>переулок</td>\n",
       "      <td>дом 4</td>\n",
       "      <td>2</td>\n",
       "      <td>аобл Еврейская</td>\n",
       "      <td></td>\n",
       "      <td>г. Биробиджан</td>\n",
       "      <td></td>\n",
       "      <td>переулок Алмазный</td>\n",
       "      <td>дом 4</td>\n",
       "      <td>2</td>\n",
       "    </tr>\n",
       "    <tr>\n",
       "      <th>4</th>\n",
       "      <td>Аобл Еврейская;  ; Г. Биробиджан;  ; пер-к Алм...</td>\n",
       "      <td>Еврейская</td>\n",
       "      <td>автономная область</td>\n",
       "      <td>NaN</td>\n",
       "      <td>NaN</td>\n",
       "      <td>Биробиджан</td>\n",
       "      <td>город</td>\n",
       "      <td>NaN</td>\n",
       "      <td>NaN</td>\n",
       "      <td>Алмазный</td>\n",
       "      <td>переулок</td>\n",
       "      <td>дом 5</td>\n",
       "      <td>1</td>\n",
       "      <td>Аобл Еврейская</td>\n",
       "      <td></td>\n",
       "      <td>Г. Биробиджан</td>\n",
       "      <td></td>\n",
       "      <td>пер-к Алмазный</td>\n",
       "      <td>дом 5</td>\n",
       "      <td>1</td>\n",
       "    </tr>\n",
       "    <tr>\n",
       "      <th>...</th>\n",
       "      <td>...</td>\n",
       "      <td>...</td>\n",
       "      <td>...</td>\n",
       "      <td>...</td>\n",
       "      <td>...</td>\n",
       "      <td>...</td>\n",
       "      <td>...</td>\n",
       "      <td>...</td>\n",
       "      <td>...</td>\n",
       "      <td>...</td>\n",
       "      <td>...</td>\n",
       "      <td>...</td>\n",
       "      <td>...</td>\n",
       "      <td>...</td>\n",
       "      <td>...</td>\n",
       "      <td>...</td>\n",
       "      <td>...</td>\n",
       "      <td>...</td>\n",
       "      <td>...</td>\n",
       "      <td>...</td>\n",
       "    </tr>\n",
       "    <tr>\n",
       "      <th>9999995</th>\n",
       "      <td>рес. Татарстан; р-н Кукморский; деревня Старая...</td>\n",
       "      <td>Татарстан</td>\n",
       "      <td>республика</td>\n",
       "      <td>Кукморский</td>\n",
       "      <td>район</td>\n",
       "      <td>Старая Уча</td>\n",
       "      <td>деревня</td>\n",
       "      <td>NaN</td>\n",
       "      <td>NaN</td>\n",
       "      <td>Восточная</td>\n",
       "      <td>улица</td>\n",
       "      <td>дом 14</td>\n",
       "      <td>1</td>\n",
       "      <td>рес. Татарстан</td>\n",
       "      <td>р-н Кукморский</td>\n",
       "      <td>деревня Старая Уча</td>\n",
       "      <td></td>\n",
       "      <td>улица Восточная</td>\n",
       "      <td>дом 14</td>\n",
       "      <td>1</td>\n",
       "    </tr>\n",
       "    <tr>\n",
       "      <th>9999996</th>\n",
       "      <td>Респ. Татарстан; р-н. Мамадышский; г Мамадыш; ...</td>\n",
       "      <td>Татарстан</td>\n",
       "      <td>республика</td>\n",
       "      <td>Мамадышский</td>\n",
       "      <td>район</td>\n",
       "      <td>Мамадыш</td>\n",
       "      <td>город</td>\n",
       "      <td>NaN</td>\n",
       "      <td>NaN</td>\n",
       "      <td>Пушкина</td>\n",
       "      <td>улица</td>\n",
       "      <td>дом 33</td>\n",
       "      <td>1</td>\n",
       "      <td>Респ. Татарстан</td>\n",
       "      <td>р-н. Мамадышский</td>\n",
       "      <td>г Мамадыш</td>\n",
       "      <td></td>\n",
       "      <td>улица Пушкина</td>\n",
       "      <td>дом 33</td>\n",
       "      <td>1</td>\n",
       "    </tr>\n",
       "    <tr>\n",
       "      <th>9999997</th>\n",
       "      <td>Респ Татарстан; р-н. Арский; село Средние Аты;...</td>\n",
       "      <td>Татарстан</td>\n",
       "      <td>республика</td>\n",
       "      <td>Арский</td>\n",
       "      <td>район</td>\n",
       "      <td>Средние Аты</td>\n",
       "      <td>село</td>\n",
       "      <td>NaN</td>\n",
       "      <td>NaN</td>\n",
       "      <td>Нагорная</td>\n",
       "      <td>улица</td>\n",
       "      <td>дом 34</td>\n",
       "      <td>1</td>\n",
       "      <td>Респ Татарстан</td>\n",
       "      <td>р-н. Арский</td>\n",
       "      <td>село Средние Аты</td>\n",
       "      <td></td>\n",
       "      <td>ул Нагорная</td>\n",
       "      <td>дом 34</td>\n",
       "      <td>1</td>\n",
       "    </tr>\n",
       "    <tr>\n",
       "      <th>9999998</th>\n",
       "      <td>Респ Татарстан; р-н. Тетюшский; с Алабердино; ...</td>\n",
       "      <td>Татарстан</td>\n",
       "      <td>республика</td>\n",
       "      <td>Тетюшский</td>\n",
       "      <td>район</td>\n",
       "      <td>Алабердино</td>\n",
       "      <td>село</td>\n",
       "      <td>NaN</td>\n",
       "      <td>NaN</td>\n",
       "      <td>Сайдашева</td>\n",
       "      <td>улица</td>\n",
       "      <td>дом 14</td>\n",
       "      <td>1</td>\n",
       "      <td>Респ Татарстан</td>\n",
       "      <td>р-н. Тетюшский</td>\n",
       "      <td>с Алабердино</td>\n",
       "      <td></td>\n",
       "      <td>ул Сайдашева</td>\n",
       "      <td>дом 14</td>\n",
       "      <td>1</td>\n",
       "    </tr>\n",
       "    <tr>\n",
       "      <th>9999999</th>\n",
       "      <td>Респ. Татарстан;  ; Г. Набережные Челны; терри...</td>\n",
       "      <td>Татарстан</td>\n",
       "      <td>республика</td>\n",
       "      <td>NaN</td>\n",
       "      <td>NaN</td>\n",
       "      <td>Набережные Челны</td>\n",
       "      <td>город</td>\n",
       "      <td>ТУК</td>\n",
       "      <td>территория гск</td>\n",
       "      <td>NaN</td>\n",
       "      <td>NaN</td>\n",
       "      <td>дом 489</td>\n",
       "      <td>1</td>\n",
       "      <td>Респ. Татарстан</td>\n",
       "      <td></td>\n",
       "      <td>Г. Набережные Челны</td>\n",
       "      <td>территория гск ТУК</td>\n",
       "      <td></td>\n",
       "      <td>дом 489</td>\n",
       "      <td>1</td>\n",
       "    </tr>\n",
       "  </tbody>\n",
       "</table>\n",
       "<p>10000000 rows × 20 columns</p>\n",
       "</div>"
      ],
      "text/plain": [
       "                                                   address     region  \\\n",
       "0        а.обл. Еврейская;  ; г Биробиджан;  ; переулок...  Еврейская   \n",
       "1        А.обл. Еврейская;  ; Г Биробиджан;  ; пер. Ава...  Еврейская   \n",
       "2        Аобл Еврейская;  ; город Биробиджан;  ; переул...  Еврейская   \n",
       "3        аобл Еврейская;  ; г. Биробиджан;  ; переулок ...  Еврейская   \n",
       "4        Аобл Еврейская;  ; Г. Биробиджан;  ; пер-к Алм...  Еврейская   \n",
       "...                                                    ...        ...   \n",
       "9999995  рес. Татарстан; р-н Кукморский; деревня Старая...  Татарстан   \n",
       "9999996  Респ. Татарстан; р-н. Мамадышский; г Мамадыш; ...  Татарстан   \n",
       "9999997  Респ Татарстан; р-н. Арский; село Средние Аты;...  Татарстан   \n",
       "9999998  Респ Татарстан; р-н. Тетюшский; с Алабердино; ...  Татарстан   \n",
       "9999999  Респ. Татарстан;  ; Г. Набережные Челны; терри...  Татарстан   \n",
       "\n",
       "                region_type municipality municipality_type        settlement  \\\n",
       "0        автономная область          NaN               NaN        Биробиджан   \n",
       "1        автономная область          NaN               NaN        Биробиджан   \n",
       "2        автономная область          NaN               NaN        Биробиджан   \n",
       "3        автономная область          NaN               NaN        Биробиджан   \n",
       "4        автономная область          NaN               NaN        Биробиджан   \n",
       "...                     ...          ...               ...               ...   \n",
       "9999995          республика   Кукморский             район        Старая Уча   \n",
       "9999996          республика  Мамадышский             район           Мамадыш   \n",
       "9999997          республика       Арский             район       Средние Аты   \n",
       "9999998          республика    Тетюшский             район        Алабердино   \n",
       "9999999          республика          NaN               NaN  Набережные Челны   \n",
       "\n",
       "        settlement_type location   location_type       street street_type  \\\n",
       "0                 город      NaN             NaN  Авангардный    переулок   \n",
       "1                 город      NaN             NaN  Авангардный    переулок   \n",
       "2                 город      NaN             NaN  Авангардный    переулок   \n",
       "3                 город      NaN             NaN     Алмазный    переулок   \n",
       "4                 город      NaN             NaN     Алмазный    переулок   \n",
       "...                 ...      ...             ...          ...         ...   \n",
       "9999995         деревня      NaN             NaN    Восточная       улица   \n",
       "9999996           город      NaN             NaN      Пушкина       улица   \n",
       "9999997            село      NaN             NaN     Нагорная       улица   \n",
       "9999998            село      NaN             NaN    Сайдашева       улица   \n",
       "9999999           город      ТУК  территория гск          NaN         NaN   \n",
       "\n",
       "           house  source           chunk_1            chunk_2  \\\n",
       "0          дом 1       2  а.обл. Еврейская                      \n",
       "1          дом 3       2  А.обл. Еврейская                      \n",
       "2          дом 4       1    Аобл Еврейская                      \n",
       "3          дом 4       2    аобл Еврейская                      \n",
       "4          дом 5       1    Аобл Еврейская                      \n",
       "...          ...     ...               ...                ...   \n",
       "9999995   дом 14       1    рес. Татарстан     р-н Кукморский   \n",
       "9999996   дом 33       1   Респ. Татарстан   р-н. Мамадышский   \n",
       "9999997   дом 34       1    Респ Татарстан        р-н. Арский   \n",
       "9999998   дом 14       1    Респ Татарстан     р-н. Тетюшский   \n",
       "9999999  дом 489       1   Респ. Татарстан                      \n",
       "\n",
       "                      chunk_3              chunk_4                chunk_5  \\\n",
       "0                г Биробиджан                        переулок Авангардный   \n",
       "1                Г Биробиджан                            пер. Авангардный   \n",
       "2            город Биробиджан                        переулок Авангардный   \n",
       "3               г. Биробиджан                           переулок Алмазный   \n",
       "4               Г. Биробиджан                              пер-к Алмазный   \n",
       "...                       ...                  ...                    ...   \n",
       "9999995    деревня Старая Уча                             улица Восточная   \n",
       "9999996             г Мамадыш                               улица Пушкина   \n",
       "9999997      село Средние Аты                                 ул Нагорная   \n",
       "9999998          с Алабердино                                ул Сайдашева   \n",
       "9999999   Г. Набережные Челны   территория гск ТУК                          \n",
       "\n",
       "          chunk_6 chunk_7  \n",
       "0           дом 1       2  \n",
       "1           дом 3       2  \n",
       "2           дом 4       1  \n",
       "3           дом 4       2  \n",
       "4           дом 5       1  \n",
       "...           ...     ...  \n",
       "9999995    дом 14       1  \n",
       "9999996    дом 33       1  \n",
       "9999997    дом 34       1  \n",
       "9999998    дом 14       1  \n",
       "9999999   дом 489       1  \n",
       "\n",
       "[10000000 rows x 20 columns]"
      ]
     },
     "execution_count": 115,
     "metadata": {},
     "output_type": "execute_result"
    }
   ],
   "source": [
    "df[[f'chunk_{i + 1}' for i in range(7)]] = df['address'].str.split(';', expand=True)\n",
    "df"
   ]
  },
  {
   "cell_type": "code",
   "execution_count": 116,
   "id": "b651c268",
   "metadata": {},
   "outputs": [],
   "source": [
    "def printer(idx):\n",
    "    print(df.iloc[idx]['address'])\n",
    "    print(df.iloc[idx][1:])"
   ]
  },
  {
   "cell_type": "code",
   "execution_count": 117,
   "id": "f86da35e",
   "metadata": {},
   "outputs": [
    {
     "name": "stdout",
     "output_type": "stream",
     "text": [
      "обл Волгоградская;  ; г Камышин; снт. СНТ Пенсионер;  ; дом 2; 2\n",
      "region                              Волгоградская\n",
      "region_type                               область\n",
      "municipality                                  NaN\n",
      "municipality_type                             NaN\n",
      "settlement                                Камышин\n",
      "settlement_type                             город\n",
      "location                            СНТ Пенсионер\n",
      "location_type        садовое неком-е товарищество\n",
      "street                                        NaN\n",
      "street_type                                   NaN\n",
      "house                                       дом 2\n",
      "source                                          2\n",
      "chunk_1                         обл Волгоградская\n",
      "chunk_2                                          \n",
      "chunk_3                                 г Камышин\n",
      "chunk_4                        снт. СНТ Пенсионер\n",
      "chunk_5                                          \n",
      "chunk_6                                     дом 2\n",
      "chunk_7                                         2\n",
      "Name: 2444451, dtype: object\n"
     ]
    }
   ],
   "source": [
    "printer(2444451)"
   ]
  },
  {
   "cell_type": "markdown",
   "id": "0d538b69",
   "metadata": {},
   "source": [
    "### REGION / REGION_TYPE \n",
    "region и region_type находится в chunk_1 address"
   ]
  },
  {
   "cell_type": "code",
   "execution_count": 118,
   "id": "5b6d6618",
   "metadata": {},
   "outputs": [],
   "source": [
    "region_df = df[df['region'].notna()][['address', 'region', 'region_type', 'chunk_1']]"
   ]
  },
  {
   "cell_type": "code",
   "execution_count": 119,
   "id": "58ec790c",
   "metadata": {},
   "outputs": [
    {
     "data": {
      "text/html": [
       "<div>\n",
       "<style scoped>\n",
       "    .dataframe tbody tr th:only-of-type {\n",
       "        vertical-align: middle;\n",
       "    }\n",
       "\n",
       "    .dataframe tbody tr th {\n",
       "        vertical-align: top;\n",
       "    }\n",
       "\n",
       "    .dataframe thead th {\n",
       "        text-align: right;\n",
       "    }\n",
       "</style>\n",
       "<table border=\"1\" class=\"dataframe\">\n",
       "  <thead>\n",
       "    <tr style=\"text-align: right;\">\n",
       "      <th></th>\n",
       "      <th>address</th>\n",
       "      <th>region</th>\n",
       "      <th>region_type</th>\n",
       "      <th>chunk_1</th>\n",
       "    </tr>\n",
       "  </thead>\n",
       "  <tbody>\n",
       "    <tr>\n",
       "      <th>4312731</th>\n",
       "      <td>обл. Мурманская; р-н. Кольский; с. Териберка; ...</td>\n",
       "      <td>Мурманская</td>\n",
       "      <td>область</td>\n",
       "      <td>обл. Мурманская</td>\n",
       "    </tr>\n",
       "    <tr>\n",
       "      <th>2755160</th>\n",
       "      <td>Обл. Воронежская; р-н Воробьевский; с Рудня;  ...</td>\n",
       "      <td>Воронежская</td>\n",
       "      <td>область</td>\n",
       "      <td>Обл. Воронежская</td>\n",
       "    </tr>\n",
       "    <tr>\n",
       "      <th>2964032</th>\n",
       "      <td>обл Иркутская; р-н. Иркутский; д. Карлук; снт....</td>\n",
       "      <td>Иркутская</td>\n",
       "      <td>область</td>\n",
       "      <td>обл Иркутская</td>\n",
       "    </tr>\n",
       "    <tr>\n",
       "      <th>2710368</th>\n",
       "      <td>Обл. Воронежская; район Борисоглебский; город ...</td>\n",
       "      <td>Воронежская</td>\n",
       "      <td>область</td>\n",
       "      <td>Обл. Воронежская</td>\n",
       "    </tr>\n",
       "    <tr>\n",
       "      <th>8393078</th>\n",
       "      <td>респ Марий Эл;  ; Г Йошкар-Ола;  ; ул Карла Ма...</td>\n",
       "      <td>Марий Эл</td>\n",
       "      <td>республика</td>\n",
       "      <td>респ Марий Эл</td>\n",
       "    </tr>\n",
       "    <tr>\n",
       "      <th>6602990</th>\n",
       "      <td>Обл. Тверская; р-н Западнодвинский; город Запа...</td>\n",
       "      <td>Тверская</td>\n",
       "      <td>область</td>\n",
       "      <td>Обл. Тверская</td>\n",
       "    </tr>\n",
       "  </tbody>\n",
       "</table>\n",
       "</div>"
      ],
      "text/plain": [
       "                                                   address       region  \\\n",
       "4312731  обл. Мурманская; р-н. Кольский; с. Териберка; ...   Мурманская   \n",
       "2755160  Обл. Воронежская; р-н Воробьевский; с Рудня;  ...  Воронежская   \n",
       "2964032  обл Иркутская; р-н. Иркутский; д. Карлук; снт....    Иркутская   \n",
       "2710368  Обл. Воронежская; район Борисоглебский; город ...  Воронежская   \n",
       "8393078  респ Марий Эл;  ; Г Йошкар-Ола;  ; ул Карла Ма...     Марий Эл   \n",
       "6602990  Обл. Тверская; р-н Западнодвинский; город Запа...     Тверская   \n",
       "\n",
       "        region_type           chunk_1  \n",
       "4312731     область   обл. Мурманская  \n",
       "2755160     область  Обл. Воронежская  \n",
       "2964032     область     обл Иркутская  \n",
       "2710368     область  Обл. Воронежская  \n",
       "8393078  республика     респ Марий Эл  \n",
       "6602990     область     Обл. Тверская  "
      ]
     },
     "execution_count": 119,
     "metadata": {},
     "output_type": "execute_result"
    }
   ],
   "source": [
    "region_df.sample(6)"
   ]
  },
  {
   "cell_type": "code",
   "execution_count": 120,
   "id": "5023b993",
   "metadata": {},
   "outputs": [
    {
     "data": {
      "text/plain": [
       "['автономная область',\n",
       " 'автономный округ',\n",
       " 'город',\n",
       " 'край',\n",
       " 'область',\n",
       " 'республика']"
      ]
     },
     "execution_count": 120,
     "metadata": {},
     "output_type": "execute_result"
    }
   ],
   "source": [
    "region_types = region_df['region_type'].unique().tolist()\n",
    "region_types"
   ]
  },
  {
   "cell_type": "code",
   "execution_count": 121,
   "id": "5e9a6ece",
   "metadata": {},
   "outputs": [],
   "source": [
    "chunk1 = df['chunk_1'].str.split(expand=True)"
   ]
  },
  {
   "cell_type": "code",
   "execution_count": 122,
   "id": "45258d9b",
   "metadata": {},
   "outputs": [
    {
     "data": {
      "text/plain": [
       "array(['а.обл.', 'аобл', 'аокр', 'а.окр.', 'город', 'г.', 'г', 'край.',\n",
       "       'край', 'обл', 'обл.', 'область', 'рес.', 'республика', 'респ.',\n",
       "       'рес', 'респ'], dtype=object)"
      ]
     },
     "execution_count": 122,
     "metadata": {},
     "output_type": "execute_result"
    }
   ],
   "source": [
    "chunk1[0].apply(lambda x: x.lower()).unique()"
   ]
  },
  {
   "cell_type": "code",
   "execution_count": 327,
   "id": "6c78e51a",
   "metadata": {},
   "outputs": [
    {
     "name": "stdout",
     "output_type": "stream",
     "text": [
      "а.окр\n"
     ]
    }
   ],
   "source": [
    "#Пример\n",
    "import re\n",
    "\n",
    "text1 = \"А.окр. Ханты-Мансийский\"\n",
    "okr_pattern = \"а\\.?окр\"\n",
    "\n",
    "result1 = re.search(okr_pattern, text1.split()[0].lower())\n",
    "print(result1.group(0))"
   ]
  },
  {
   "cell_type": "code",
   "execution_count": 332,
   "id": "d4270494",
   "metadata": {},
   "outputs": [],
   "source": [
    "region_patterns = {'автономная область':'а\\.?обл',\n",
    "                   'область': 'обл\\.?',\n",
    "                   'автономный округ': 'а\\.?окр',\n",
    "                   'город': 'г',\n",
    "                   'край': 'край',\n",
    "                   'республика': '[рес|респ|республика]\\.?'}\n",
    "\n",
    "def region_filler(sample):\n",
    "    for region_type, pattern in region_patterns.items():\n",
    "        temp_sample = sample.split()[0].lower()\n",
    "        temp_search = re.match(pattern, temp_sample)\n",
    "        if temp_search:\n",
    "            return [region_type, ' '.join(sample.split()[1:])]\n",
    "    return ['', '']"
   ]
  },
  {
   "cell_type": "code",
   "execution_count": 333,
   "id": "f042e96d",
   "metadata": {},
   "outputs": [
    {
     "data": {
      "text/plain": [
       "['город', 'Татарстан Улан удээээ']"
      ]
     },
     "execution_count": 333,
     "metadata": {},
     "output_type": "execute_result"
    }
   ],
   "source": [
    "reg = 'город Татарстан Улан удээээ'\n",
    "region_filler(reg)"
   ]
  },
  {
   "cell_type": "code",
   "execution_count": 336,
   "id": "1e9521b4",
   "metadata": {},
   "outputs": [],
   "source": [
    "regions = region_df['chunk_1'].apply(region_filler)"
   ]
  },
  {
   "cell_type": "code",
   "execution_count": 350,
   "id": "0a7778eb",
   "metadata": {},
   "outputs": [
    {
     "data": {
      "text/html": [
       "<div>\n",
       "<style scoped>\n",
       "    .dataframe tbody tr th:only-of-type {\n",
       "        vertical-align: middle;\n",
       "    }\n",
       "\n",
       "    .dataframe tbody tr th {\n",
       "        vertical-align: top;\n",
       "    }\n",
       "\n",
       "    .dataframe thead th {\n",
       "        text-align: right;\n",
       "    }\n",
       "</style>\n",
       "<table border=\"1\" class=\"dataframe\">\n",
       "  <thead>\n",
       "    <tr style=\"text-align: right;\">\n",
       "      <th></th>\n",
       "      <th>region_type</th>\n",
       "      <th>region</th>\n",
       "    </tr>\n",
       "  </thead>\n",
       "  <tbody>\n",
       "    <tr>\n",
       "      <th>0</th>\n",
       "      <td>автономная область</td>\n",
       "      <td>Еврейская</td>\n",
       "    </tr>\n",
       "    <tr>\n",
       "      <th>1</th>\n",
       "      <td>автономная область</td>\n",
       "      <td>Еврейская</td>\n",
       "    </tr>\n",
       "    <tr>\n",
       "      <th>2</th>\n",
       "      <td>автономная область</td>\n",
       "      <td>Еврейская</td>\n",
       "    </tr>\n",
       "    <tr>\n",
       "      <th>3</th>\n",
       "      <td>автономная область</td>\n",
       "      <td>Еврейская</td>\n",
       "    </tr>\n",
       "    <tr>\n",
       "      <th>4</th>\n",
       "      <td>автономная область</td>\n",
       "      <td>Еврейская</td>\n",
       "    </tr>\n",
       "    <tr>\n",
       "      <th>...</th>\n",
       "      <td>...</td>\n",
       "      <td>...</td>\n",
       "    </tr>\n",
       "    <tr>\n",
       "      <th>9999995</th>\n",
       "      <td>республика</td>\n",
       "      <td>Татарстан</td>\n",
       "    </tr>\n",
       "    <tr>\n",
       "      <th>9999996</th>\n",
       "      <td>республика</td>\n",
       "      <td>Татарстан</td>\n",
       "    </tr>\n",
       "    <tr>\n",
       "      <th>9999997</th>\n",
       "      <td>республика</td>\n",
       "      <td>Татарстан</td>\n",
       "    </tr>\n",
       "    <tr>\n",
       "      <th>9999998</th>\n",
       "      <td>республика</td>\n",
       "      <td>Татарстан</td>\n",
       "    </tr>\n",
       "    <tr>\n",
       "      <th>9999999</th>\n",
       "      <td>республика</td>\n",
       "      <td>Татарстан</td>\n",
       "    </tr>\n",
       "  </tbody>\n",
       "</table>\n",
       "<p>10000000 rows × 2 columns</p>\n",
       "</div>"
      ],
      "text/plain": [
       "                region_type     region\n",
       "0        автономная область  Еврейская\n",
       "1        автономная область  Еврейская\n",
       "2        автономная область  Еврейская\n",
       "3        автономная область  Еврейская\n",
       "4        автономная область  Еврейская\n",
       "...                     ...        ...\n",
       "9999995          республика  Татарстан\n",
       "9999996          республика  Татарстан\n",
       "9999997          республика  Татарстан\n",
       "9999998          республика  Татарстан\n",
       "9999999          республика  Татарстан\n",
       "\n",
       "[10000000 rows x 2 columns]"
      ]
     },
     "execution_count": 350,
     "metadata": {},
     "output_type": "execute_result"
    }
   ],
   "source": [
    "region_df[['region_type', 'region']]"
   ]
  },
  {
   "cell_type": "code",
   "execution_count": 377,
   "id": "95fec397",
   "metadata": {},
   "outputs": [],
   "source": [
    "compare_regions = pd.DataFrame(regions.tolist(), columns=['region_type', 'region'])"
   ]
  },
  {
   "cell_type": "code",
   "execution_count": 378,
   "id": "83a13da8",
   "metadata": {},
   "outputs": [
    {
     "data": {
      "text/plain": [
       "region_type    10000000\n",
       "region         10000000\n",
       "dtype: int64"
      ]
     },
     "execution_count": 378,
     "metadata": {},
     "output_type": "execute_result"
    }
   ],
   "source": [
    "(compare_regions == region_df[['region_type', 'region']]).sum()"
   ]
  },
  {
   "cell_type": "markdown",
   "id": "707ce6a8",
   "metadata": {},
   "source": [
    "### MUNICIPALITY / MUNICIPALITY_TYPE"
   ]
  },
  {
   "cell_type": "code",
   "execution_count": 471,
   "id": "34e6fc13",
   "metadata": {},
   "outputs": [],
   "source": [
    "municipality_df = df[df['municipality'].notna()][['address', 'municipality', 'municipality_type', 'chunk_2']]"
   ]
  },
  {
   "cell_type": "code",
   "execution_count": 472,
   "id": "2a0b4984",
   "metadata": {},
   "outputs": [
    {
     "data": {
      "text/html": [
       "<div>\n",
       "<style scoped>\n",
       "    .dataframe tbody tr th:only-of-type {\n",
       "        vertical-align: middle;\n",
       "    }\n",
       "\n",
       "    .dataframe tbody tr th {\n",
       "        vertical-align: top;\n",
       "    }\n",
       "\n",
       "    .dataframe thead th {\n",
       "        text-align: right;\n",
       "    }\n",
       "</style>\n",
       "<table border=\"1\" class=\"dataframe\">\n",
       "  <thead>\n",
       "    <tr style=\"text-align: right;\">\n",
       "      <th></th>\n",
       "      <th>address</th>\n",
       "      <th>municipality</th>\n",
       "      <th>municipality_type</th>\n",
       "      <th>chunk_2</th>\n",
       "    </tr>\n",
       "  </thead>\n",
       "  <tbody>\n",
       "    <tr>\n",
       "      <th>82234</th>\n",
       "      <td>А.окр. Ханты-Мансийский; район Октябрьский; с ...</td>\n",
       "      <td>Октябрьский</td>\n",
       "      <td>район</td>\n",
       "      <td>район Октябрьский</td>\n",
       "    </tr>\n",
       "    <tr>\n",
       "      <th>5232908</th>\n",
       "      <td>Обл. Псковская; р-н Локнянский; д-ня Михайлов ...</td>\n",
       "      <td>Локнянский</td>\n",
       "      <td>район</td>\n",
       "      <td>р-н Локнянский</td>\n",
       "    </tr>\n",
       "    <tr>\n",
       "      <th>9396220</th>\n",
       "      <td>республика Башкортостан; район Уфимский;  ; те...</td>\n",
       "      <td>Уфимский</td>\n",
       "      <td>район</td>\n",
       "      <td>район Уфимский</td>\n",
       "    </tr>\n",
       "    <tr>\n",
       "      <th>3453030</th>\n",
       "      <td>обл. Кировская; район Арбажский; пгт Арбаж;  ;...</td>\n",
       "      <td>Арбажский</td>\n",
       "      <td>район</td>\n",
       "      <td>район Арбажский</td>\n",
       "    </tr>\n",
       "    <tr>\n",
       "      <th>9748696</th>\n",
       "      <td>республика Кабардино-Балкарская; район Лескенс...</td>\n",
       "      <td>Лескенский</td>\n",
       "      <td>район</td>\n",
       "      <td>район Лескенский</td>\n",
       "    </tr>\n",
       "    <tr>\n",
       "      <th>8271410</th>\n",
       "      <td>Респ Крым; район Белогорский; пгт Зуя;  ; улиц...</td>\n",
       "      <td>Белогорский</td>\n",
       "      <td>район</td>\n",
       "      <td>район Белогорский</td>\n",
       "    </tr>\n",
       "  </tbody>\n",
       "</table>\n",
       "</div>"
      ],
      "text/plain": [
       "                                                   address municipality  \\\n",
       "82234    А.окр. Ханты-Мансийский; район Октябрьский; с ...  Октябрьский   \n",
       "5232908  Обл. Псковская; р-н Локнянский; д-ня Михайлов ...   Локнянский   \n",
       "9396220  республика Башкортостан; район Уфимский;  ; те...     Уфимский   \n",
       "3453030  обл. Кировская; район Арбажский; пгт Арбаж;  ;...    Арбажский   \n",
       "9748696  республика Кабардино-Балкарская; район Лескенс...   Лескенский   \n",
       "8271410  Респ Крым; район Белогорский; пгт Зуя;  ; улиц...  Белогорский   \n",
       "\n",
       "        municipality_type             chunk_2  \n",
       "82234               район   район Октябрьский  \n",
       "5232908             район      р-н Локнянский  \n",
       "9396220             район      район Уфимский  \n",
       "3453030             район     район Арбажский  \n",
       "9748696             район    район Лескенский  \n",
       "8271410             район   район Белогорский  "
      ]
     },
     "execution_count": 472,
     "metadata": {},
     "output_type": "execute_result"
    }
   ],
   "source": [
    "municipality_df.sample(6)"
   ]
  },
  {
   "cell_type": "code",
   "execution_count": 474,
   "id": "52f0136c",
   "metadata": {},
   "outputs": [
    {
     "data": {
      "text/plain": [
       "array(['район', 'город', 'сельское поселение', 'улус'], dtype=object)"
      ]
     },
     "execution_count": 474,
     "metadata": {},
     "output_type": "execute_result"
    }
   ],
   "source": [
    "municipality_df['municipality_type'].unique()"
   ]
  },
  {
   "cell_type": "code",
   "execution_count": 477,
   "id": "16cb107e",
   "metadata": {},
   "outputs": [],
   "source": [
    "chunk2 = municipality_df['chunk_2'].str.split(expand=True)"
   ]
  },
  {
   "cell_type": "code",
   "execution_count": 478,
   "id": "b29574f8",
   "metadata": {},
   "outputs": [
    {
     "data": {
      "text/plain": [
       "array(['р-н.', 'р-н', 'район', 'г.', 'город', 'г', 'сп', 'с.п.', 'с/п',\n",
       "       'улус', 'у.', 'у'], dtype=object)"
      ]
     },
     "execution_count": 478,
     "metadata": {},
     "output_type": "execute_result"
    }
   ],
   "source": [
    "chunk2[0].apply(lambda x: x.lower()).unique()"
   ]
  },
  {
   "cell_type": "markdown",
   "id": "8db7bf9b",
   "metadata": {},
   "source": [
    "### SETTLEMENT / SETTLEMENT_TYPE"
   ]
  },
  {
   "cell_type": "code",
   "execution_count": 480,
   "id": "29a4688b",
   "metadata": {},
   "outputs": [],
   "source": [
    "settlement_df = df[df['settlement'].notna()][['address', 'settlement', 'settlement_type', 'chunk_3']]"
   ]
  },
  {
   "cell_type": "code",
   "execution_count": 481,
   "id": "2fbedb0f",
   "metadata": {},
   "outputs": [
    {
     "data": {
      "text/html": [
       "<div>\n",
       "<style scoped>\n",
       "    .dataframe tbody tr th:only-of-type {\n",
       "        vertical-align: middle;\n",
       "    }\n",
       "\n",
       "    .dataframe tbody tr th {\n",
       "        vertical-align: top;\n",
       "    }\n",
       "\n",
       "    .dataframe thead th {\n",
       "        text-align: right;\n",
       "    }\n",
       "</style>\n",
       "<table border=\"1\" class=\"dataframe\">\n",
       "  <thead>\n",
       "    <tr style=\"text-align: right;\">\n",
       "      <th></th>\n",
       "      <th>address</th>\n",
       "      <th>settlement</th>\n",
       "      <th>settlement_type</th>\n",
       "      <th>chunk_3</th>\n",
       "    </tr>\n",
       "  </thead>\n",
       "  <tbody>\n",
       "    <tr>\n",
       "      <th>2858129</th>\n",
       "      <td>обл Иркутская;  ; Г. Братск; жилрайон Сосновый...</td>\n",
       "      <td>Братск</td>\n",
       "      <td>город</td>\n",
       "      <td>Г. Братск</td>\n",
       "    </tr>\n",
       "    <tr>\n",
       "      <th>2423151</th>\n",
       "      <td>обл. Волгоградская;  ; Г Волжский; терр. СНТ И...</td>\n",
       "      <td>Волжский</td>\n",
       "      <td>город</td>\n",
       "      <td>Г Волжский</td>\n",
       "    </tr>\n",
       "    <tr>\n",
       "      <th>8826783</th>\n",
       "      <td>республика Татарстан; р-н Альметьевский; ст Ми...</td>\n",
       "      <td>Миннибаево</td>\n",
       "      <td>станция</td>\n",
       "      <td>ст Миннибаево</td>\n",
       "    </tr>\n",
       "    <tr>\n",
       "      <th>7332369</th>\n",
       "      <td>Респ. Адыгея; район Красногвардейский; с Больш...</td>\n",
       "      <td>Большесидоровское</td>\n",
       "      <td>село</td>\n",
       "      <td>с Большесидоровское</td>\n",
       "    </tr>\n",
       "    <tr>\n",
       "      <th>450827</th>\n",
       "      <td>Край Алтайский; р-н Алтайский; с Алтайское;  ;...</td>\n",
       "      <td>Алтайское</td>\n",
       "      <td>село</td>\n",
       "      <td>с Алтайское</td>\n",
       "    </tr>\n",
       "    <tr>\n",
       "      <th>8677508</th>\n",
       "      <td>респ Татарстан;  ; город Казань; тер СНТ Желез...</td>\n",
       "      <td>Казань</td>\n",
       "      <td>город</td>\n",
       "      <td>город Казань</td>\n",
       "    </tr>\n",
       "  </tbody>\n",
       "</table>\n",
       "</div>"
      ],
      "text/plain": [
       "                                                   address         settlement  \\\n",
       "2858129  обл Иркутская;  ; Г. Братск; жилрайон Сосновый...             Братск   \n",
       "2423151  обл. Волгоградская;  ; Г Волжский; терр. СНТ И...           Волжский   \n",
       "8826783  республика Татарстан; р-н Альметьевский; ст Ми...         Миннибаево   \n",
       "7332369  Респ. Адыгея; район Красногвардейский; с Больш...  Большесидоровское   \n",
       "450827   Край Алтайский; р-н Алтайский; с Алтайское;  ;...          Алтайское   \n",
       "8677508  респ Татарстан;  ; город Казань; тер СНТ Желез...             Казань   \n",
       "\n",
       "        settlement_type               chunk_3  \n",
       "2858129           город             Г. Братск  \n",
       "2423151           город            Г Волжский  \n",
       "8826783         станция         ст Миннибаево  \n",
       "7332369            село   с Большесидоровское  \n",
       "450827             село           с Алтайское  \n",
       "8677508           город          город Казань  "
      ]
     },
     "execution_count": 481,
     "metadata": {},
     "output_type": "execute_result"
    }
   ],
   "source": [
    "settlement_df.sample(6)"
   ]
  },
  {
   "cell_type": "code",
   "execution_count": 483,
   "id": "88ce74b9",
   "metadata": {},
   "outputs": [
    {
     "data": {
      "text/plain": [
       "array(['город', 'село', 'станция', 'поселок', 'деревня',\n",
       "       'рабочий поселок', 'поселок городского типа', 'месторождение',\n",
       "       'сельское поселение', 'хутор', 'станица', 'курортный поселок',\n",
       "       'аул', 'железнодорожный блокпост', 'заимка', 'массив', 'улус',\n",
       "       'выселки', 'починок', 'арбан', 'аал', 'территория',\n",
       "       'промышленная зона', 'микрорайон', 'сельсовет', 'дачный поселок',\n",
       "       'поселок и(при) станция(и)', 'населенный пункт', 'квартал',\n",
       "       'район', 'железнодорожная станция', 'железнодорожный разъезд',\n",
       "       'садовое неком-е товарищество', 'городок', 'местечко', 'разъезд',\n",
       "       'остров', 'выселки(ок)'], dtype=object)"
      ]
     },
     "execution_count": 483,
     "metadata": {},
     "output_type": "execute_result"
    }
   ],
   "source": [
    "settlement_df['settlement_type'].unique()"
   ]
  },
  {
   "cell_type": "code",
   "execution_count": 484,
   "id": "0b333063",
   "metadata": {},
   "outputs": [],
   "source": [
    "chunk3 = settlement_df['chunk_3'].str.split(expand=True)"
   ]
  },
  {
   "cell_type": "code",
   "execution_count": 485,
   "id": "ff784e69",
   "metadata": {},
   "outputs": [
    {
     "data": {
      "text/plain": [
       "array(['г', 'город', 'г.', 'с', 'село', 'с.', 'станция', 'ст', 'ст.',\n",
       "       'пос.', 'пос-к', 'п.', 'п', 'поселок', 'пос', 'д.', 'д-ня',\n",
       "       'деревня', 'д', 'рп.', 'рп', 'пгт.', 'пгт', 'месторождение',\n",
       "       'м-ние', 'сп', 'х.', 'ст-ца', 'станица', 'х', 'хутор', 'к.п.',\n",
       "       'кп.', 'кп', 'аул.', 'аул', 'ж/д', 'с/п', 'с.п.', 'з-ка', 'з-ка.',\n",
       "       'заимка', 'м-в', 'м.', 'м', 'зона', 'массив', 'у.', 'у', 'улус',\n",
       "       'в-ки', 'высел', 'выселки', 'в-ки.', 'поч.', 'п-к', 'починок',\n",
       "       'арбан', 'арбан.', 'аал', 'аал.', 'терр', 'промышленная', 'мкр',\n",
       "       'тер', 'мкр.', 'терр.', 'территория', 'микрорайон', 'тер.', 'сс',\n",
       "       'тер-я', 'сельсовет', 'с/с', 'д/п', 'промзона', 'сс.', 'дп', 'дп.',\n",
       "       'п/ст', 'п/ст.', 'п.ст.', 'нп', 'нп.', 'квартал', 'кв-л', 'р-н',\n",
       "       'кв-л.', 'жд', 'р-н.', 'район', 'снт.', 'городок', 'г-к', 'снт',\n",
       "       'м-ко.', 'местечко', 'разъезд', 'м-ко', 'о-в', 'рзд', 'рзд.',\n",
       "       'выселки(ок)'], dtype=object)"
      ]
     },
     "execution_count": 485,
     "metadata": {},
     "output_type": "execute_result"
    }
   ],
   "source": [
    "chunk3[0].apply(lambda x: x.lower()).unique()"
   ]
  },
  {
   "cell_type": "markdown",
   "id": "50b96388",
   "metadata": {},
   "source": [
    "### LOCATION / LOCATION_TYPE "
   ]
  },
  {
   "cell_type": "code",
   "execution_count": 384,
   "id": "653af1a5",
   "metadata": {},
   "outputs": [],
   "source": [
    "#location\n",
    "location_df = df[df['location'].notna()][['address', 'location', 'location_type', 'chunk_4']]"
   ]
  },
  {
   "cell_type": "code",
   "execution_count": 394,
   "id": "65eadf57",
   "metadata": {},
   "outputs": [
    {
     "data": {
      "text/html": [
       "<div>\n",
       "<style scoped>\n",
       "    .dataframe tbody tr th:only-of-type {\n",
       "        vertical-align: middle;\n",
       "    }\n",
       "\n",
       "    .dataframe tbody tr th {\n",
       "        vertical-align: top;\n",
       "    }\n",
       "\n",
       "    .dataframe thead th {\n",
       "        text-align: right;\n",
       "    }\n",
       "</style>\n",
       "<table border=\"1\" class=\"dataframe\">\n",
       "  <thead>\n",
       "    <tr style=\"text-align: right;\">\n",
       "      <th></th>\n",
       "      <th>address</th>\n",
       "      <th>location</th>\n",
       "      <th>location_type</th>\n",
       "      <th>chunk_4</th>\n",
       "    </tr>\n",
       "  </thead>\n",
       "  <tbody>\n",
       "    <tr>\n",
       "      <th>2009709</th>\n",
       "      <td>Обл Белгородская;  ; Г. Старый Оскол; ГКООП Ме...</td>\n",
       "      <td>Металлург-3</td>\n",
       "      <td>гаражный кооператив</td>\n",
       "      <td>ГКООП Металлург-3</td>\n",
       "    </tr>\n",
       "    <tr>\n",
       "      <th>58157</th>\n",
       "      <td>аокр Ханты-Мансийский;  ; г. Югорск; терр Улиц...</td>\n",
       "      <td>Улица Промышленная 1</td>\n",
       "      <td>территория</td>\n",
       "      <td>терр Улица Промышленная 1</td>\n",
       "    </tr>\n",
       "    <tr>\n",
       "      <th>8366270</th>\n",
       "      <td>республика Марий Эл;  ; г. Волжск; гкооп Автом...</td>\n",
       "      <td>Автомобилист</td>\n",
       "      <td>гаражный кооператив</td>\n",
       "      <td>гкооп Автомобилист</td>\n",
       "    </tr>\n",
       "    <tr>\n",
       "      <th>5947180</th>\n",
       "      <td>обл. Саратовская; район Саратовский; п Расково...</td>\n",
       "      <td>СНТ Прибор-2000</td>\n",
       "      <td>территория</td>\n",
       "      <td>тер СНТ Прибор-2000</td>\n",
       "    </tr>\n",
       "    <tr>\n",
       "      <th>6032662</th>\n",
       "      <td>область Свердловская;  ; г Верхняя Пышма; терр...</td>\n",
       "      <td>СНТ N 2 АО Уралредмет</td>\n",
       "      <td>территория</td>\n",
       "      <td>терр СНТ N 2 АО Уралредмет</td>\n",
       "    </tr>\n",
       "    <tr>\n",
       "      <th>1078002</th>\n",
       "      <td>край. Красноярский;  ; город Шарыпово; кв-л. Л...</td>\n",
       "      <td>Листвяг</td>\n",
       "      <td>квартал</td>\n",
       "      <td>кв-л. Листвяг</td>\n",
       "    </tr>\n",
       "  </tbody>\n",
       "</table>\n",
       "</div>"
      ],
      "text/plain": [
       "                                                   address  \\\n",
       "2009709  Обл Белгородская;  ; Г. Старый Оскол; ГКООП Ме...   \n",
       "58157    аокр Ханты-Мансийский;  ; г. Югорск; терр Улиц...   \n",
       "8366270  республика Марий Эл;  ; г. Волжск; гкооп Автом...   \n",
       "5947180  обл. Саратовская; район Саратовский; п Расково...   \n",
       "6032662  область Свердловская;  ; г Верхняя Пышма; терр...   \n",
       "1078002  край. Красноярский;  ; город Шарыпово; кв-л. Л...   \n",
       "\n",
       "                      location        location_type  \\\n",
       "2009709            Металлург-3  гаражный кооператив   \n",
       "58157     Улица Промышленная 1           территория   \n",
       "8366270           Автомобилист  гаражный кооператив   \n",
       "5947180        СНТ Прибор-2000           территория   \n",
       "6032662  СНТ N 2 АО Уралредмет           территория   \n",
       "1078002                Листвяг              квартал   \n",
       "\n",
       "                             chunk_4  \n",
       "2009709            ГКООП Металлург-3  \n",
       "58157      терр Улица Промышленная 1  \n",
       "8366270           гкооп Автомобилист  \n",
       "5947180          тер СНТ Прибор-2000  \n",
       "6032662   терр СНТ N 2 АО Уралредмет  \n",
       "1078002                кв-л. Листвяг  "
      ]
     },
     "execution_count": 394,
     "metadata": {},
     "output_type": "execute_result"
    }
   ],
   "source": [
    "location_df.sample(6)"
   ]
  },
  {
   "cell_type": "code",
   "execution_count": 392,
   "id": "af6e36e9",
   "metadata": {},
   "outputs": [],
   "source": [
    "#Треш) Будем искать паттерны автоматом\n",
    "location_types = location_df['location_type'].unique().tolist()"
   ]
  },
  {
   "cell_type": "code",
   "execution_count": 457,
   "id": "7c5599d0",
   "metadata": {},
   "outputs": [
    {
     "name": "stderr",
     "output_type": "stream",
     "text": [
      "100%|██████████████████████████████████████████████████████████████████████| 2425866/2425866 [02:27<00:00, 16404.74it/s]\n"
     ]
    }
   ],
   "source": [
    "locations_dictionary = {location: set() for location in location_types}\n",
    "for idx in tqdm(range(len(location_df))):\n",
    "    temp_type = location_df.iloc[idx]['location_type']\n",
    "    if temp_type in locations_dictionary:\n",
    "        locations_dictionary[location_df.iloc[idx]['location_type']]\\\n",
    "        .update([location_df.iloc[idx]['chunk_4'].split()[0]])"
   ]
  },
  {
   "cell_type": "code",
   "execution_count": 459,
   "id": "b1abf4d9",
   "metadata": {
    "scrolled": true
   },
   "outputs": [
    {
     "data": {
      "text/plain": [
       "{'территория': {'тер', 'тер-я', 'тер.', 'терр', 'терр.', 'территория'},\n",
       " 'разъезд': {'разъезд', 'рзд', 'рзд.'},\n",
       " 'садовое неком-е товарищество': {'снт', 'снт.'},\n",
       " 'квартал': {'кв-л', 'кв-л.', 'квартал'},\n",
       " 'гаражный кооператив': {'ГКООП', 'гкооп'},\n",
       " 'микрорайон': {'микрорайон', 'мкр', 'мкр.'},\n",
       " 'поселок': {'п', 'п.', 'пос', 'пос-к', 'пос.', 'поселок'},\n",
       " 'дачный населенный пункт': {'дачный'},\n",
       " 'населенный пункт': {'нп', 'нп.'},\n",
       " 'поселок городского типа': {'пгт', 'пгт.'},\n",
       " 'район': {'р-н', 'р-н.', 'район'},\n",
       " 'промышленная зона': {'промзона', 'промышленная'},\n",
       " 'остров': {'о-в', 'остров'},\n",
       " 'участок': {'уч', 'уч.', 'участок'},\n",
       " 'станция': {'ст', 'ст.', 'станция'},\n",
       " 'сад': {'сад'},\n",
       " 'промышленный район': {'п/р'},\n",
       " 'поселок при станции (поселок станции)': {'п.ст', 'п.ст.'},\n",
       " 'село': {'с', 'с.', 'село'},\n",
       " 'платформа': {'платф', 'платф.', 'платформа'},\n",
       " 'деревня': {'Д', 'Д.', 'д', 'д-ня', 'д.', 'деревня'},\n",
       " 'рабочий поселок': {'рп', 'рп.'},\n",
       " 'дачный поселок': {'д/п', 'дп', 'дп.'},\n",
       " 'хутор': {'х', 'х.', 'хутор'},\n",
       " 'площадка': {'пл-ка', 'площадка'},\n",
       " 'казарма': {'к-ма', 'к-ма.', 'казарма'},\n",
       " 'железнодорожная станция': {'ж/д', 'жд'},\n",
       " 'станица': {'ст-ца', 'станица'},\n",
       " 'жилой район': {'ж.', 'ж.р.', 'ж/р', 'ж/р.', 'жилрайон'},\n",
       " 'аул': {'аул', 'аул.'},\n",
       " 'железнодорожный разъезд': {'ж/д'},\n",
       " 'городской поселок': {'г/п', 'гп', 'гп.'},\n",
       " 'сельсовет': {'с/с', 'сельсовет', 'сс', 'сс.'},\n",
       " 'абонентский ящик': {'а/я'},\n",
       " 'железнодорожная будка': {'ж/д'},\n",
       " 'почтовое отделение': {'п/о', 'почтовое'},\n",
       " 'местечко': {'м-ко', 'м-ко.', 'м.', 'местечко'},\n",
       " 'слобода': {'сл', 'сл.', 'слобода'},\n",
       " 'сельское поселение': {'с.п.', 'с/п', 'сп'},\n",
       " 'курортный поселок': {'к.п.', 'кп', 'кп.'},\n",
       " 'местность': {'местность'},\n",
       " 'территория снт': {'территория'},\n",
       " 'садовое товарищество': {'садовое'},\n",
       " 'территория днт': {'территория'},\n",
       " 'территория тсн': {'территория'},\n",
       " 'месторождение': {'м-ние', 'месторождение'},\n",
       " 'территория гск': {'территория'},\n",
       " 'гаражно-строительный кооп.': {'гск', 'гск.'},\n",
       " 'территория сно': {'территория'},\n",
       " 'территория спк': {'территория'},\n",
       " 'массив': {'М', 'М.', 'зона', 'м', 'м-в', 'м.', 'массив'},\n",
       " 'территория пк': {'территория'},\n",
       " 'территория дно': {'территория'},\n",
       " 'территория днп': {'территория'},\n",
       " 'территория снп': {'территория'},\n",
       " 'территория фх': {'территория'},\n",
       " 'дачное неком-е партнерство': {'днп'},\n",
       " 'фермерское хозяйство': {'ф/х', 'ф/х.'},\n",
       " 'парк': {'парк'},\n",
       " 'территория сосн': {'территория'},\n",
       " 'территория онт': {'территория'},\n",
       " 'усадьба': {'усадьба'},\n",
       " 'территория дпк': {'территория'}}"
      ]
     },
     "execution_count": 459,
     "metadata": {},
     "output_type": "execute_result"
    }
   ],
   "source": [
    "locations_dictionary"
   ]
  },
  {
   "cell_type": "code",
   "execution_count": 464,
   "id": "ea285026",
   "metadata": {},
   "outputs": [
    {
     "data": {
      "text/plain": [
       "территория                      1224344\n",
       "поселок                          191471\n",
       "село                             186475\n",
       "деревня                          167876\n",
       "садовое неком-е товарищество     102641\n",
       "                                 ...   \n",
       "территория фх                        17\n",
       "парк                                 15\n",
       "территория дно                        7\n",
       "территория сосн                       6\n",
       "усадьба                               1\n",
       "Name: location_type, Length: 63, dtype: int64"
      ]
     },
     "execution_count": 464,
     "metadata": {},
     "output_type": "execute_result"
    }
   ],
   "source": [
    "location_df['location_type'].value_counts()"
   ]
  },
  {
   "cell_type": "code",
   "execution_count": null,
   "id": "e35eeacd",
   "metadata": {},
   "outputs": [],
   "source": [
    "region_patterns = {'автономная область':'а\\.?обл',\n",
    "                   'область': 'обл\\.?',\n",
    "                   'автономный округ': 'а\\.?окр',\n",
    "                   'город': 'г',\n",
    "                   'край': 'край',\n",
    "                   'республика': '[рес|респ|республика]\\.?'}\n",
    "location_patterns = {loc for loc, loc_sample in locations_dictionary.items()}\n",
    "\n",
    "def region_filler(sample):\n",
    "    for region_type, pattern in region_patterns.items():\n",
    "        temp_sample = sample.split()[0].lower()\n",
    "        temp_search = re.match(pattern, temp_sample)\n",
    "        if temp_search:\n",
    "            return [region_type, ' '.join(sample.split()[1:])]\n",
    "    return ['', '']"
   ]
  },
  {
   "cell_type": "markdown",
   "id": "8a844e38",
   "metadata": {},
   "source": [
    "### STREET / STREET_TYPE"
   ]
  },
  {
   "cell_type": "code",
   "execution_count": 486,
   "id": "82622743",
   "metadata": {},
   "outputs": [],
   "source": [
    "street_df = df[df['street'].notna()][['address', 'street', 'street_type', 'chunk_5']]"
   ]
  },
  {
   "cell_type": "code",
   "execution_count": 487,
   "id": "a04f97af",
   "metadata": {},
   "outputs": [
    {
     "data": {
      "text/html": [
       "<div>\n",
       "<style scoped>\n",
       "    .dataframe tbody tr th:only-of-type {\n",
       "        vertical-align: middle;\n",
       "    }\n",
       "\n",
       "    .dataframe tbody tr th {\n",
       "        vertical-align: top;\n",
       "    }\n",
       "\n",
       "    .dataframe thead th {\n",
       "        text-align: right;\n",
       "    }\n",
       "</style>\n",
       "<table border=\"1\" class=\"dataframe\">\n",
       "  <thead>\n",
       "    <tr style=\"text-align: right;\">\n",
       "      <th></th>\n",
       "      <th>address</th>\n",
       "      <th>street</th>\n",
       "      <th>street_type</th>\n",
       "      <th>chunk_5</th>\n",
       "    </tr>\n",
       "  </thead>\n",
       "  <tbody>\n",
       "    <tr>\n",
       "      <th>890869</th>\n",
       "      <td>Край Краснодарский; р-н. Выселковский; ст-ца В...</td>\n",
       "      <td>Красная Поляна</td>\n",
       "      <td>улица</td>\n",
       "      <td>улица Красная Поляна</td>\n",
       "    </tr>\n",
       "    <tr>\n",
       "      <th>9048697</th>\n",
       "      <td>Респ. Хакасия; р-н. Алтайский; село Белый Яр; ...</td>\n",
       "      <td>Аткниных</td>\n",
       "      <td>улица</td>\n",
       "      <td>ул. Аткниных</td>\n",
       "    </tr>\n",
       "    <tr>\n",
       "      <th>454773</th>\n",
       "      <td>край Алтайский; район Алтайский; село Нижнекая...</td>\n",
       "      <td>Центральная</td>\n",
       "      <td>улица</td>\n",
       "      <td>ул Центральная</td>\n",
       "    </tr>\n",
       "    <tr>\n",
       "      <th>3309277</th>\n",
       "      <td>область Кемеровская;  ; Г. Осинники;  ; переул...</td>\n",
       "      <td>Куйбышева</td>\n",
       "      <td>переулок</td>\n",
       "      <td>переулок Куйбышева</td>\n",
       "    </tr>\n",
       "    <tr>\n",
       "      <th>5615137</th>\n",
       "      <td>Обл Рязанская; р-н. Касимовский; рп. Гусь-Желе...</td>\n",
       "      <td>Октябрьская</td>\n",
       "      <td>улица</td>\n",
       "      <td>ул Октябрьская</td>\n",
       "    </tr>\n",
       "    <tr>\n",
       "      <th>5936756</th>\n",
       "      <td>область Саратовская; р-н Вольский; село Старая...</td>\n",
       "      <td>Советская</td>\n",
       "      <td>улица</td>\n",
       "      <td>ул. Советская</td>\n",
       "    </tr>\n",
       "  </tbody>\n",
       "</table>\n",
       "</div>"
      ],
      "text/plain": [
       "                                                   address          street  \\\n",
       "890869   Край Краснодарский; р-н. Выселковский; ст-ца В...  Красная Поляна   \n",
       "9048697  Респ. Хакасия; р-н. Алтайский; село Белый Яр; ...        Аткниных   \n",
       "454773   край Алтайский; район Алтайский; село Нижнекая...     Центральная   \n",
       "3309277  область Кемеровская;  ; Г. Осинники;  ; переул...       Куйбышева   \n",
       "5615137  Обл Рязанская; р-н. Касимовский; рп. Гусь-Желе...     Октябрьская   \n",
       "5936756  область Саратовская; р-н Вольский; село Старая...       Советская   \n",
       "\n",
       "        street_type                chunk_5  \n",
       "890869        улица   улица Красная Поляна  \n",
       "9048697       улица           ул. Аткниных  \n",
       "454773        улица         ул Центральная  \n",
       "3309277    переулок     переулок Куйбышева  \n",
       "5615137       улица         ул Октябрьская  \n",
       "5936756       улица          ул. Советская  "
      ]
     },
     "execution_count": 487,
     "metadata": {},
     "output_type": "execute_result"
    }
   ],
   "source": [
    "street_df.sample(6)"
   ]
  },
  {
   "cell_type": "code",
   "execution_count": 488,
   "id": "2c769e68",
   "metadata": {},
   "outputs": [
    {
     "data": {
      "text/plain": [
       "array(['переулок', 'проспект', 'улица', 'километр', 'переезд', 'проулок',\n",
       "       'проезд', 'микрорайон', 'зона', 'шоссе', 'гаражный кооператив',\n",
       "       'дорога', 'бульвар', 'аллея', 'тракт', 'парк', 'ряд(ы)', 'заезд',\n",
       "       'набережная', 'линия', 'площадь', 'фермерское хозяйство', 'ферма',\n",
       "       'тупик', 'сквер', 'просека', 'вал', 'коса', 'спуск', 'квартал',\n",
       "       'магистраль', 'въезд', 'проселок', 'территория', 'сад', 'участок',\n",
       "       'кольцо', 'разъезд', 'гаражно-строительный кооп.', 'станция',\n",
       "       'садовое неком-е товарищество', 'местечко', 'поселок', 'местность',\n",
       "       'городок', 'железнодорожная станция', 'строение',\n",
       "       'животноводческая точка', 'поселок и(при) станция(и)', 'хутор',\n",
       "       'остров', 'слобода', 'железнодорожная будка', 'площадка'],\n",
       "      dtype=object)"
      ]
     },
     "execution_count": 488,
     "metadata": {},
     "output_type": "execute_result"
    }
   ],
   "source": [
    "street_df['street_type'].unique()"
   ]
  },
  {
   "cell_type": "code",
   "execution_count": 490,
   "id": "7d05b901",
   "metadata": {},
   "outputs": [],
   "source": [
    "chunk5 = street_df['chunk_5'].str.split(expand=True)"
   ]
  },
  {
   "cell_type": "code",
   "execution_count": 493,
   "id": "9d8eb573",
   "metadata": {},
   "outputs": [
    {
     "data": {
      "text/plain": [
       "array(['переулок', 'пер.', 'пер-к', 'пр-кт.', 'пр-кт', 'проспект', 'ул',\n",
       "       'улица', 'ул.', 'километр', 'км', 'км.', 'пер-д', 'переезд',\n",
       "       'проулок', 'пр-д', 'проезд', 'мкр.', 'мкр', 'микрорайон', 'зона',\n",
       "       'шоссе', 'ш', 'ш.', 'гкооп', 'дор', 'дор.', 'дорога', 'б-р',\n",
       "       'бульвар', 'аллея', 'тракт', 'парк', 'ряд', 'ряды', 'заезд', 'наб',\n",
       "       'наб.', 'набережная', 'линия', 'лн', 'лн.', 'пл.', 'площадь', 'пл',\n",
       "       'ф/х', 'ф/х.', 'ф', 'ферма', 'туп', 'тупик', 'туп.', 'сквер',\n",
       "       'пр-ка', 'просека', 'вал', 'коса', 'спуск', 'кв-л.', 'квартал',\n",
       "       'кв-л', 'проул.', 'ф.', 'проул', 'мгстр.', 'въезд', 'магистраль',\n",
       "       'мгстр', 'проселок', 'пр-лок', 'терр', 'тер', 'территория',\n",
       "       'терр.', 'сад', 'тер-я', 'уч', 'тер.', 'кольцо', 'разъезд', 'рзд.',\n",
       "       'гск.', 'участок', 'станция', 'уч.', 'рзд', 'к-цо', 'ст', 'снт.',\n",
       "       'ст.', 'гск', 'м-ко', 'местечко', 'м-ко.', 'м.', 'п', 'местность',\n",
       "       'поселок', 'пос', 'пос.', 'п.', 'пос-к', 'г-к', 'г-к.', 'городок',\n",
       "       'ж/д', 'стр.', 'жд', 'стр', 'строение', 'жт', 'ж.т.', 'п.ст.',\n",
       "       'хутор', 'п/ст', 'х', 'остров', 'о-в', 'п/ст.', 'снт', 'сл.',\n",
       "       'слобода', 'сл', 'пл-ка', 'площадка', 'х.'], dtype=object)"
      ]
     },
     "execution_count": 493,
     "metadata": {},
     "output_type": "execute_result"
    }
   ],
   "source": [
    "chunk5[0].apply(lambda x: x.lower()).unique()"
   ]
  },
  {
   "cell_type": "markdown",
   "id": "c5a87e00",
   "metadata": {},
   "source": [
    "### HOUSE"
   ]
  },
  {
   "cell_type": "code",
   "execution_count": 527,
   "id": "9011ff6e",
   "metadata": {},
   "outputs": [],
   "source": [
    "house_df = df[df['house'].notna()][['address', 'house', 'chunk_6']]"
   ]
  },
  {
   "cell_type": "code",
   "execution_count": 528,
   "id": "1104fd4b",
   "metadata": {},
   "outputs": [
    {
     "data": {
      "text/plain": [
       "10376"
      ]
     },
     "execution_count": 528,
     "metadata": {},
     "output_type": "execute_result"
    }
   ],
   "source": [
    "#Очень много разных домов\n",
    "a = pd.DataFrame(house_df['house'].str.split(expand=True))\n",
    "len(a[0].unique().tolist())"
   ]
  },
  {
   "cell_type": "code",
   "execution_count": 529,
   "id": "0ad3a94e",
   "metadata": {},
   "outputs": [
    {
     "data": {
      "text/plain": [
       "1.0"
      ]
     },
     "execution_count": 529,
     "metadata": {},
     "output_type": "execute_result"
    }
   ],
   "source": [
    "#Чанки полностью совпадают с house\n",
    "(house_df['house'] == house_df['chunk_6'].apply(lambda x: x.lstrip())).sum() / len(house_df)"
   ]
  }
 ],
 "metadata": {
  "kernelspec": {
   "display_name": "Python 3 (ipykernel)",
   "language": "python",
   "name": "python3"
  },
  "language_info": {
   "codemirror_mode": {
    "name": "ipython",
    "version": 3
   },
   "file_extension": ".py",
   "mimetype": "text/x-python",
   "name": "python",
   "nbconvert_exporter": "python",
   "pygments_lexer": "ipython3",
   "version": "3.8.10"
  }
 },
 "nbformat": 4,
 "nbformat_minor": 5
}
